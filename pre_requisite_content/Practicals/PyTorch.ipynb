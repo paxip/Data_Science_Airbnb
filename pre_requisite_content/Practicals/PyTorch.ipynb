{
 "cells": [
  {
   "attachments": {},
   "cell_type": "markdown",
   "metadata": {},
   "source": [
    "## PyTorch Tensors"
   ]
  },
  {
   "cell_type": "code",
   "execution_count": 1,
   "metadata": {},
   "outputs": [],
   "source": [
    "import torch"
   ]
  },
  {
   "cell_type": "code",
   "execution_count": 21,
   "metadata": {},
   "outputs": [
    {
     "data": {
      "text/plain": [
       "tensor([[[ 0.8472, -0.8570,  1.1241],\n",
       "         [ 0.8102, -0.6924,  0.4297]],\n",
       "\n",
       "        [[-1.2875, -0.2553, -1.9132],\n",
       "         [ 0.5703,  0.4412, -1.1951]],\n",
       "\n",
       "        [[ 0.6580,  2.0512,  0.2503],\n",
       "         [-0.2114, -2.1752, -0.7314]],\n",
       "\n",
       "        [[-0.3528, -0.9771, -0.1244],\n",
       "         [ 0.9970,  1.8457,  1.8206]]])"
      ]
     },
     "execution_count": 21,
     "metadata": {},
     "output_type": "execute_result"
    }
   ],
   "source": [
    "# Create a Random Torch Tensor of Size 4x2x3. Define a variable called my_tensor with this size. Print its shape.\n",
    "\n",
    "my_tensor = torch.randn(4,2,3)\n",
    "my_tensor\n",
    "# my_tensor.shape"
   ]
  },
  {
   "cell_type": "code",
   "execution_count": 22,
   "metadata": {},
   "outputs": [
    {
     "data": {
      "text/plain": [
       "tensor([[[ 0.8472, -0.8570,  1.1241],\n",
       "         [ 0.8102, -0.6924,  0.4297]],\n",
       "\n",
       "        [[-1.2875, -0.2553, -1.9132],\n",
       "         [ 0.5703,  0.4412, -1.1951]],\n",
       "\n",
       "        [[ 0.6580,  2.0512,  0.2503],\n",
       "         [-0.2114, -2.1752, -0.7314]],\n",
       "\n",
       "        [[-0.3528, -0.9771, -0.1244],\n",
       "         [ 0.9970,  1.8457,  1.8206]]])"
      ]
     },
     "execution_count": 22,
     "metadata": {},
     "output_type": "execute_result"
    }
   ],
   "source": [
    "# Float Tensor to Double Tensor. Define a tensor called my_tensor from one that contains floating point numbers to one that contains double precision floating point numbers.\n",
    "my_tensor.float()\n",
    "# my_tensor = my_tensor.double()\n",
    "# my_tensor"
   ]
  },
  {
   "cell_type": "code",
   "execution_count": 23,
   "metadata": {},
   "outputs": [
    {
     "data": {
      "text/plain": [
       "tensor([[[ 0.8472, -0.8570,  1.1241],\n",
       "         [ 0.8102, -0.6924,  0.4297]],\n",
       "\n",
       "        [[-1.2875, -0.2553, -1.9132],\n",
       "         [ 0.5703,  0.4412, -1.1951]],\n",
       "\n",
       "        [[ 0.6580,  2.0512,  0.2503],\n",
       "         [-0.2114, -2.1752, -0.7314]],\n",
       "\n",
       "        [[-0.3528, -0.9771, -0.1244],\n",
       "         [ 0.9970,  1.8457,  1.8206]]], dtype=torch.float64)"
      ]
     },
     "execution_count": 23,
     "metadata": {},
     "output_type": "execute_result"
    }
   ],
   "source": [
    "my_tensor = my_tensor.double()\n",
    "my_tensor"
   ]
  }
 ],
 "metadata": {
  "kernelspec": {
   "display_name": "airbnb_venv",
   "language": "python",
   "name": "python3"
  },
  "language_info": {
   "codemirror_mode": {
    "name": "ipython",
    "version": 3
   },
   "file_extension": ".py",
   "mimetype": "text/x-python",
   "name": "python",
   "nbconvert_exporter": "python",
   "pygments_lexer": "ipython3",
   "version": "3.9.13"
  },
  "orig_nbformat": 4
 },
 "nbformat": 4,
 "nbformat_minor": 2
}
