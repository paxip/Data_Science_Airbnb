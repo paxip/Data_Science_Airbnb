{
 "cells": [
  {
   "cell_type": "code",
   "execution_count": 1,
   "metadata": {},
   "outputs": [],
   "source": [
    "from collections import OrderedDict as OrderedDict"
   ]
  },
  {
   "cell_type": "code",
   "execution_count": 2,
   "metadata": {},
   "outputs": [],
   "source": [
    "OrderedDict = {'a': 1, 'b': 2, 'c': 3}"
   ]
  },
  {
   "cell_type": "code",
   "execution_count": 3,
   "metadata": {},
   "outputs": [
    {
     "name": "stdout",
     "output_type": "stream",
     "text": [
      "{'a': 1, 'b': 2, 'c': 3}\n"
     ]
    }
   ],
   "source": [
    "print(OrderedDict)"
   ]
  },
  {
   "cell_type": "code",
   "execution_count": 7,
   "metadata": {},
   "outputs": [
    {
     "name": "stdout",
     "output_type": "stream",
     "text": [
      "0\n",
      "1\n",
      "2\n",
      "3\n",
      "4\n",
      "5\n"
     ]
    }
   ],
   "source": [
    "for x in range(6):\n",
    "    print(x)\n"
   ]
  },
  {
   "cell_type": "code",
   "execution_count": 8,
   "metadata": {},
   "outputs": [
    {
     "name": "stdout",
     "output_type": "stream",
     "text": [
      "2\n",
      "3\n",
      "4\n",
      "5\n"
     ]
    }
   ],
   "source": [
    "for x in range(2, 6):\n",
    "    print(x)"
   ]
  },
  {
   "cell_type": "code",
   "execution_count": 9,
   "metadata": {},
   "outputs": [
    {
     "name": "stdout",
     "output_type": "stream",
     "text": [
      "0\n",
      "1\n",
      "2\n",
      "3\n"
     ]
    }
   ],
   "source": [
    "for x in range(5 -1):\n",
    "    print(x)"
   ]
  },
  {
   "cell_type": "code",
   "execution_count": 12,
   "metadata": {},
   "outputs": [
    {
     "name": "stdout",
     "output_type": "stream",
     "text": [
      "0\n",
      "1\n",
      "2\n",
      "3\n"
     ]
    }
   ],
   "source": [
    "for x in range(5 -1):\n",
    "    print(x)"
   ]
  },
  {
   "cell_type": "code",
   "execution_count": null,
   "metadata": {},
   "outputs": [],
   "source": [
    "self.input_layer(9, hidden_layer_width)\n",
    "self.linear_layer_1(hidden_layer_width, hidden_layer_width)\n",
    "self.linear_layer_2(hidden_layer_width, hidden_layer_width)\n",
    "self.linear_layer_3(hidden_layer_width, hidden_layer_width)\n",
    "self.linear_layer_4(hidden_layer_width, hidden_layer_width)\n",
    "self.output_layer(hidden_layer_width, 1)\n",
    "\n",
    "\n"
   ]
  },
  {
   "cell_type": "code",
   "execution_count": null,
   "metadata": {},
   "outputs": [],
   "source": [
    "def forward(self, X):        \n",
    "        X= self.linear_layer(X)\n",
    "        X = F.relu(X)\n",
    "        X = self.linear_layer_2(X)\n",
    "        X = F.relu(X)\n",
    "        X = self.linear_layer_3(X)\n",
    "        X = F.relu(X)\n",
    "        X= self.linear_layer_4(X)\n",
    "        X = F.relu(X)\n",
    "        X = self.linear_layer_5(X)\n",
    "        X = F.relu(X)\n",
    "        X= self.linear_layer_6\n",
    "        return X"
   ]
  },
  {
   "cell_type": "code",
   "execution_count": null,
   "metadata": {},
   "outputs": [],
   "source": [
    "# Complete Neural Network.\n",
    "\n",
    "class NN(torch.nn.Module):\n",
    "    def __init__(self, config):\n",
    "        super().__init__()\n",
    "        hidden_layer_width = config['hidden_layer_width']\n",
    "        depth = config['depth']\n",
    "        print(hidden_layer_width)\n",
    "        print(depth)\n",
    "        input_nodes = 9\n",
    "        output_nodes = 1\n",
    "        self.linear_layers = []\n",
    "        self.input_layer = torch.nn.Linear(input_nodes, hidden_layer_width)\n",
    "        \n",
    "        for hidden_layer in range(depth -1):\n",
    "            self.linear_layers.append(torch.nn.Sequential(torch.nn.Linear(hidden_layer_width, hidden_layer_width)))\n",
    "            self.linear_layers.append(torch.nn.ReLU())\n",
    "        \n",
    "        self.linear_layers = torch.nn.Sequential(*self.linear_layers)\n",
    "        # print(self.linear_layers)\n",
    "\n",
    "        self.output_layer = torch.nn.Linear(hidden_layer_width, output_nodes)\n",
    "        \n",
    "\n",
    "    def forward(self, X):\n",
    "        X = self.input_layer(X)\n",
    "        X = self.linear_layers(X)\n",
    "        X = self.output_layer(X)\n",
    "        print(X)\n",
    "        return X"
   ]
  }
 ],
 "metadata": {
  "kernelspec": {
   "display_name": "airbnb_venv",
   "language": "python",
   "name": "python3"
  },
  "language_info": {
   "codemirror_mode": {
    "name": "ipython",
    "version": 3
   },
   "file_extension": ".py",
   "mimetype": "text/x-python",
   "name": "python",
   "nbconvert_exporter": "python",
   "pygments_lexer": "ipython3",
   "version": "3.9.13"
  },
  "orig_nbformat": 4
 },
 "nbformat": 4,
 "nbformat_minor": 2
}
