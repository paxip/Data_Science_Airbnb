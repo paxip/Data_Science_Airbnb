{
 "cells": [
  {
   "cell_type": "code",
   "execution_count": 113,
   "metadata": {},
   "outputs": [],
   "source": [
    "import pandas as pd"
   ]
  },
  {
   "attachments": {},
   "cell_type": "markdown",
   "metadata": {},
   "source": [
    "## Milestone 3 - Data Preparation"
   ]
  },
  {
   "cell_type": "markdown",
   "metadata": {},
   "source": [
    "### Task 1"
   ]
  },
  {
   "cell_type": "code",
   "execution_count": null,
   "metadata": {},
   "outputs": [],
   "source": [
    "'''\n",
    "def remove_rows_with_missing_ratings()\n",
    "removes the rows with missing values in these columns. \n",
    "It should take in the dataset as a pandas dataframe and return the same type.\n",
    "\n",
    "def combine_description_strings() \n",
    "The \"Description\" column contains lists of strings. \n",
    "Pandas recognises these as strings containing python lists\n",
    "1. Remove records with a missing description.\n",
    "2. Remove the 'About this space' prefix which every description starts with.\n",
    "3. Remove empty quotes from lists.\n",
    "3. Combine/ join the list items into one string.\n",
    "It should take in the dataset as a pandas dataframe and return the same type.\n",
    "\n",
    "def set_default_feature_values()\n",
    "Replace entries with empty values with the number 1. \n",
    "It should take in the dataset as a pandas dataframe and return the same type.\n",
    "\n",
    "def clean_tabular_data()\n",
    "Takes in the raw data frame.\n",
    "calls the three functions above sequentially \n",
    "on the output of the previous one, \n",
    "and returns the processed data.\n",
    "\n",
    "if __name__ == \"__main__\"\n",
    "1. Load the raw data in using pandas\n",
    "2. Call clean_tabular_data on it\n",
    "3. Save the processed data as clean_tabular_data.csv in the same folder \n",
    "as you found the raw tabular data.\n",
    "\n",
    "\n",
    "'''"
   ]
  },
  {
   "cell_type": "code",
   "execution_count": 114,
   "metadata": {},
   "outputs": [
    {
     "name": "stdout",
     "output_type": "stream",
     "text": [
      "<class 'pandas.core.frame.DataFrame'>\n",
      "RangeIndex: 988 entries, 0 to 987\n",
      "Data columns (total 20 columns):\n",
      " #   Column                Non-Null Count  Dtype  \n",
      "---  ------                --------------  -----  \n",
      " 0   ID                    988 non-null    object \n",
      " 1   Category              988 non-null    object \n",
      " 2   Title                 988 non-null    object \n",
      " 3   Description           900 non-null    object \n",
      " 4   Amenities             988 non-null    object \n",
      " 5   Location              988 non-null    object \n",
      " 6   guests                969 non-null    object \n",
      " 7   beds                  945 non-null    float64\n",
      " 8   bathrooms             888 non-null    float64\n",
      " 9   Price_Night           988 non-null    int64  \n",
      " 10  Cleanliness_rating    890 non-null    float64\n",
      " 11  Accuracy_rating       890 non-null    float64\n",
      " 12  Communication_rating  890 non-null    float64\n",
      " 13  Location_rating       890 non-null    float64\n",
      " 14  Check-in_rating       890 non-null    float64\n",
      " 15  Value_rating          890 non-null    float64\n",
      " 16  amenities_count       988 non-null    float64\n",
      " 17  url                   988 non-null    object \n",
      " 18  bedrooms              906 non-null    object \n",
      " 19  Unnamed: 19           1 non-null      float64\n",
      "dtypes: float64(10), int64(1), object(9)\n",
      "memory usage: 154.5+ KB\n"
     ]
    }
   ],
   "source": [
    "tabular_data_df = pd.read_csv('listing.csv')\n",
    "tabular_data_df.info()"
   ]
  },
  {
   "cell_type": "code",
   "execution_count": 93,
   "metadata": {},
   "outputs": [
    {
     "data": {
      "text/plain": [
       "ID                        0\n",
       "Category                  0\n",
       "Title                     0\n",
       "Description              88\n",
       "Amenities                 0\n",
       "Location                  0\n",
       "guests                   19\n",
       "beds                     43\n",
       "bathrooms               100\n",
       "Price_Night               0\n",
       "Cleanliness_rating       98\n",
       "Accuracy_rating          98\n",
       "Communication_rating     98\n",
       "Location_rating          98\n",
       "Check-in_rating          98\n",
       "Value_rating             98\n",
       "amenities_count           0\n",
       "url                       0\n",
       "bedrooms                 82\n",
       "Unnamed: 19             987\n",
       "dtype: int64"
      ]
     },
     "execution_count": 93,
     "metadata": {},
     "output_type": "execute_result"
    }
   ],
   "source": [
    "tabular_data_df.isna().sum()"
   ]
  },
  {
   "cell_type": "code",
   "execution_count": 94,
   "metadata": {},
   "outputs": [
    {
     "data": {
      "text/plain": [
       "ID                       object\n",
       "Category                 object\n",
       "Title                    object\n",
       "Description              object\n",
       "Amenities                object\n",
       "Location                 object\n",
       "guests                   object\n",
       "beds                    float64\n",
       "bathrooms               float64\n",
       "Price_Night               int64\n",
       "Cleanliness_rating      float64\n",
       "Accuracy_rating         float64\n",
       "Communication_rating    float64\n",
       "Location_rating         float64\n",
       "Check-in_rating         float64\n",
       "Value_rating            float64\n",
       "amenities_count         float64\n",
       "url                      object\n",
       "bedrooms                 object\n",
       "Unnamed: 19             float64\n",
       "dtype: object"
      ]
     },
     "execution_count": 94,
     "metadata": {},
     "output_type": "execute_result"
    }
   ],
   "source": [
    "tabular_data_df.dtypes"
   ]
  },
  {
   "cell_type": "code",
   "execution_count": 95,
   "metadata": {},
   "outputs": [],
   "source": [
    "tabular_data_df.dropna(subset=['Cleanliness_rating', 'Accuracy_rating', 'Communication_rating', 'Location_rating', 'Check-in_rating', 'Value_rating'], inplace=True)"
   ]
  },
  {
   "cell_type": "code",
   "execution_count": 96,
   "metadata": {},
   "outputs": [
    {
     "data": {
      "text/plain": [
       "ID                        0\n",
       "Category                  0\n",
       "Title                     0\n",
       "Description              60\n",
       "Amenities                 0\n",
       "Location                  0\n",
       "guests                   18\n",
       "beds                     34\n",
       "bathrooms                79\n",
       "Price_Night               0\n",
       "Cleanliness_rating        0\n",
       "Accuracy_rating           0\n",
       "Communication_rating      0\n",
       "Location_rating           0\n",
       "Check-in_rating           0\n",
       "Value_rating              0\n",
       "amenities_count           0\n",
       "url                       0\n",
       "bedrooms                 76\n",
       "Unnamed: 19             889\n",
       "dtype: int64"
      ]
     },
     "execution_count": 96,
     "metadata": {},
     "output_type": "execute_result"
    }
   ],
   "source": [
    "tabular_data_df.isna().sum()"
   ]
  },
  {
   "cell_type": "code",
   "execution_count": 69,
   "metadata": {},
   "outputs": [
    {
     "data": {
      "text/plain": [
       "0      ['About this space', \"Escape to one of these t...\n",
       "1      ['About this space', \"Come and spend a romanti...\n",
       "2      ['About this space', 'Rustic cabin between the...\n",
       "3      ['About this space', 'The Tree top cabin is si...\n",
       "5      ['About this space', 'Charming cabin nestled i...\n",
       "                             ...                        \n",
       "982    ['About this space', 'An apartment directly on...\n",
       "983    ['About this space', 'Light roomy space with o...\n",
       "984    ['About this space', 'This specious two bedroo...\n",
       "985    ['About this space', 'With all the modern amen...\n",
       "987    ['About this space', 'Sea Scenes is a homely t...\n",
       "Name: Description, Length: 890, dtype: object"
      ]
     },
     "execution_count": 69,
     "metadata": {},
     "output_type": "execute_result"
    }
   ],
   "source": [
    "description_df = tabular_data_df['Description']\n",
    "description_df"
   ]
  },
  {
   "cell_type": "code",
   "execution_count": 70,
   "metadata": {},
   "outputs": [
    {
     "data": {
      "text/plain": [
       "str"
      ]
     },
     "execution_count": 70,
     "metadata": {},
     "output_type": "execute_result"
    }
   ],
   "source": [
    "type(description_df.loc[982])"
   ]
  },
  {
   "cell_type": "code",
   "execution_count": 71,
   "metadata": {},
   "outputs": [
    {
     "data": {
      "text/plain": [
       "str"
      ]
     },
     "execution_count": 71,
     "metadata": {},
     "output_type": "execute_result"
    }
   ],
   "source": [
    "type(description_df.loc[982])"
   ]
  },
  {
   "cell_type": "code",
   "execution_count": 88,
   "metadata": {},
   "outputs": [],
   "source": [
    "tabular_data_df.dropna(subset=['Description'], inplace=True)\n"
   ]
  },
  {
   "cell_type": "code",
   "execution_count": 89,
   "metadata": {},
   "outputs": [
    {
     "data": {
      "text/plain": [
       "ID                        0\n",
       "Category                  0\n",
       "Title                     0\n",
       "Description               0\n",
       "Amenities                 0\n",
       "Location                  0\n",
       "guests                   15\n",
       "beds                     29\n",
       "bathrooms                65\n",
       "Price_Night               0\n",
       "Cleanliness_rating        0\n",
       "Accuracy_rating           0\n",
       "Communication_rating      0\n",
       "Location_rating           0\n",
       "Check-in_rating           0\n",
       "Value_rating              0\n",
       "amenities_count           0\n",
       "url                       0\n",
       "bedrooms                 70\n",
       "Unnamed: 19             829\n",
       "dtype: int64"
      ]
     },
     "execution_count": 89,
     "metadata": {},
     "output_type": "execute_result"
    }
   ],
   "source": [
    "tabular_data_df.isna().sum()"
   ]
  },
  {
   "cell_type": "code",
   "execution_count": 90,
   "metadata": {},
   "outputs": [
    {
     "data": {
      "text/plain": [
       "'[\\'About this space\\', \"Escape to one of these two fabulous Tree Tents. Suspended high above the canopy, it’s time to appreciate life from a new perspective. Featured on George Clarke’s Amazing Spaces, these Tree Tents are a feat of aviation technology. Tree Tent comes complete with fire pit, outdoor kitchen and shower with hot water. You’ll discover a comfortable bed and cosy wood burning stove. Part of the Red Kite Estate, along with our barn and its sister tree tent, the first ever built in the UK, Dragon\\'s Egg.\", \\'The space\\', \\'The space\\\\nThe true joy of this place is how wonderfully simple it is (aviation technology aside). Days are filled with fireside discussions, wildlife watching and stunningly beautiful walks. With the nearest mobile signal a ten minute walk away, it’s a great place to ditch the digital and truly escape. Head over the bridge to your own private deck that happily houses a clever outdoor-kitchen and shower (complete with hot water). It’s the perfect spot to fry up breakfast whilst basking in peace and tranquility. There is also a flushing toilet situated just up the hill.And don’t worry, you’re not totally left to your own devices, on arrival you can expect bed linen, towels and a load of dry wood and kindling. If you feel the need to leave your new found homestead in the trees then the local area has lots of suitably chilled things to do. Head out on a moorland walk to take in some magical views - and perhaps even grab a pint at the local pub en route. Further afield, the stunning Elan Valley, a landscape bursting with impressive dams and reservoirs, is well worthy of an explore. And for those needing supplies - and perhaps a flat white - then the friendly market town of Builth Wells is just down the road.\\', \\'\\', \\'\\', \\'\\', \\'Other things to note\\\\nYou are entering a remote woodland hideaway for a digital detox: there is very patchy mobile signal and limited internet connectivity.\\']'"
      ]
     },
     "execution_count": 90,
     "metadata": {},
     "output_type": "execute_result"
    }
   ],
   "source": [
    "tabular_data_df['Description'].loc[0]"
   ]
  },
  {
   "cell_type": "code",
   "execution_count": 75,
   "metadata": {},
   "outputs": [
    {
     "data": {
      "text/plain": [
       "str"
      ]
     },
     "execution_count": 75,
     "metadata": {},
     "output_type": "execute_result"
    }
   ],
   "source": [
    "type(tabular_data_df['Description'].loc[0])"
   ]
  },
  {
   "cell_type": "code",
   "execution_count": 76,
   "metadata": {},
   "outputs": [
    {
     "data": {
      "text/plain": [
       "0      Escape to one of these two fabulous Tree Tents...\n",
       "1      Come and spend a romantic stay with a couple o...\n",
       "2      Rustic cabin between the pines, 3 meters high ...\n",
       "3      The Tree top cabin is situated in our peaceful...\n",
       "5      Charming cabin nestled in the leaves, real unu...\n",
       "                             ...                        \n",
       "982    An apartment directly on the beach at Lancing,...\n",
       "983    Light roomy space with outside garden 5 minute...\n",
       "984    This specious two bedroom flat on the sea fron...\n",
       "985    With all the modern amenities, our contemporar...\n",
       "987    Sea Scenes is a homely two bedroom groundfloor...\n",
       "Name: Description, Length: 830, dtype: object"
      ]
     },
     "execution_count": 76,
     "metadata": {},
     "output_type": "execute_result"
    }
   ],
   "source": [
    "from ast import literal_eval\n",
    "\n",
    "def clean_description_strings(text):\n",
    "    try:\n",
    "        description_list = literal_eval(text)\n",
    "        description_list.remove('About this space')\n",
    "        description_list = ''.join(description_list)\n",
    "        return description_list\n",
    "    except Exception as e:\n",
    "        return text\n",
    "        \n",
    "\n",
    "\n",
    "tabular_data_df['Description'] = tabular_data_df['Description'].apply(clean_description_strings) \n",
    "    \n",
    "tabular_data_df['Description']\n",
    "\n"
   ]
  },
  {
   "cell_type": "code",
   "execution_count": 77,
   "metadata": {},
   "outputs": [],
   "source": [
    "tabular_data_df['Description'].replace([r\"\\\\n\", \"\\n\", r\"\\'\"], [\" \",\" \",\"\"], regex=True, inplace=True)"
   ]
  },
  {
   "cell_type": "code",
   "execution_count": 78,
   "metadata": {},
   "outputs": [
    {
     "data": {
      "text/plain": [
       "'Escape to one of these two fabulous Tree Tents. Suspended high above the canopy, it’s time to appreciate life from a new perspective. Featured on George Clarke’s Amazing Spaces, these Tree Tents are a feat of aviation technology. Tree Tent comes complete with fire pit, outdoor kitchen and shower with hot water. You’ll discover a comfortable bed and cosy wood burning stove. Part of the Red Kite Estate, along with our barn and its sister tree tent, the first ever built in the UK, Dragons Egg.The spaceThe space The true joy of this place is how wonderfully simple it is (aviation technology aside). Days are filled with fireside discussions, wildlife watching and stunningly beautiful walks. With the nearest mobile signal a ten minute walk away, it’s a great place to ditch the digital and truly escape. Head over the bridge to your own private deck that happily houses a clever outdoor-kitchen and shower (complete with hot water). It’s the perfect spot to fry up breakfast whilst basking in peace and tranquility. There is also a flushing toilet situated just up the hill.And don’t worry, you’re not totally left to your own devices, on arrival you can expect bed linen, towels and a load of dry wood and kindling. If you feel the need to leave your new found homestead in the trees then the local area has lots of suitably chilled things to do. Head out on a moorland walk to take in some magical views - and perhaps even grab a pint at the local pub en route. Further afield, the stunning Elan Valley, a landscape bursting with impressive dams and reservoirs, is well worthy of an explore. And for those needing supplies - and perhaps a flat white - then the friendly market town of Builth Wells is just down the road.Other things to note You are entering a remote woodland hideaway for a digital detox: there is very patchy mobile signal and limited internet connectivity.'"
      ]
     },
     "execution_count": 78,
     "metadata": {},
     "output_type": "execute_result"
    }
   ],
   "source": [
    "tabular_data_df['Description'].loc[0]"
   ]
  },
  {
   "cell_type": "code",
   "execution_count": null,
   "metadata": {},
   "outputs": [],
   "source": [
    "from ast import literal_eval\n",
    "\n",
    "tabular_data_df['Description'] = tabular_data_df['Description'].apply(lambda x : literal_eval(str(x)))\n"
   ]
  },
  {
   "cell_type": "code",
   "execution_count": null,
   "metadata": {},
   "outputs": [],
   "source": [
    "from ast import literal_eval\n",
    "\n",
    "def literal_return(val):\n",
    "    try:\n",
    "        return literal_eval(val)\n",
    "    except ValueError:\n",
    "        return (val)\n",
    "\n",
    "tabular_data_df['Description'] = tabular_data_df['Description'].apply(literal_return)"
   ]
  },
  {
   "cell_type": "code",
   "execution_count": 115,
   "metadata": {},
   "outputs": [
    {
     "data": {
      "text/html": [
       "<div>\n",
       "<style scoped>\n",
       "    .dataframe tbody tr th:only-of-type {\n",
       "        vertical-align: middle;\n",
       "    }\n",
       "\n",
       "    .dataframe tbody tr th {\n",
       "        vertical-align: top;\n",
       "    }\n",
       "\n",
       "    .dataframe thead th {\n",
       "        text-align: right;\n",
       "    }\n",
       "</style>\n",
       "<table border=\"1\" class=\"dataframe\">\n",
       "  <thead>\n",
       "    <tr style=\"text-align: right;\">\n",
       "      <th></th>\n",
       "      <th>guests</th>\n",
       "      <th>beds</th>\n",
       "      <th>bathrooms</th>\n",
       "      <th>bedrooms</th>\n",
       "    </tr>\n",
       "  </thead>\n",
       "  <tbody>\n",
       "    <tr>\n",
       "      <th>0</th>\n",
       "      <td>2</td>\n",
       "      <td>1.0</td>\n",
       "      <td>1.0</td>\n",
       "      <td>NaN</td>\n",
       "    </tr>\n",
       "    <tr>\n",
       "      <th>1</th>\n",
       "      <td>3</td>\n",
       "      <td>3.0</td>\n",
       "      <td>0.0</td>\n",
       "      <td>1</td>\n",
       "    </tr>\n",
       "    <tr>\n",
       "      <th>2</th>\n",
       "      <td>4</td>\n",
       "      <td>2.0</td>\n",
       "      <td>1.5</td>\n",
       "      <td>1</td>\n",
       "    </tr>\n",
       "    <tr>\n",
       "      <th>3</th>\n",
       "      <td>2</td>\n",
       "      <td>NaN</td>\n",
       "      <td>1.0</td>\n",
       "      <td>NaN</td>\n",
       "    </tr>\n",
       "    <tr>\n",
       "      <th>4</th>\n",
       "      <td>2</td>\n",
       "      <td>1.0</td>\n",
       "      <td>NaN</td>\n",
       "      <td>1</td>\n",
       "    </tr>\n",
       "    <tr>\n",
       "      <th>...</th>\n",
       "      <td>...</td>\n",
       "      <td>...</td>\n",
       "      <td>...</td>\n",
       "      <td>...</td>\n",
       "    </tr>\n",
       "    <tr>\n",
       "      <th>983</th>\n",
       "      <td>2</td>\n",
       "      <td>1.0</td>\n",
       "      <td>1.0</td>\n",
       "      <td>1</td>\n",
       "    </tr>\n",
       "    <tr>\n",
       "      <th>984</th>\n",
       "      <td>4</td>\n",
       "      <td>2.0</td>\n",
       "      <td>1.5</td>\n",
       "      <td>2</td>\n",
       "    </tr>\n",
       "    <tr>\n",
       "      <th>985</th>\n",
       "      <td>6</td>\n",
       "      <td>3.0</td>\n",
       "      <td>2.0</td>\n",
       "      <td>2</td>\n",
       "    </tr>\n",
       "    <tr>\n",
       "      <th>986</th>\n",
       "      <td>10</td>\n",
       "      <td>7.0</td>\n",
       "      <td>5.0</td>\n",
       "      <td>5</td>\n",
       "    </tr>\n",
       "    <tr>\n",
       "      <th>987</th>\n",
       "      <td>4</td>\n",
       "      <td>2.0</td>\n",
       "      <td>1.0</td>\n",
       "      <td>2</td>\n",
       "    </tr>\n",
       "  </tbody>\n",
       "</table>\n",
       "<p>988 rows × 4 columns</p>\n",
       "</div>"
      ],
      "text/plain": [
       "    guests  beds  bathrooms bedrooms\n",
       "0        2   1.0        1.0      NaN\n",
       "1        3   3.0        0.0        1\n",
       "2        4   2.0        1.5        1\n",
       "3        2   NaN        1.0      NaN\n",
       "4        2   1.0        NaN        1\n",
       "..     ...   ...        ...      ...\n",
       "983      2   1.0        1.0        1\n",
       "984      4   2.0        1.5        2\n",
       "985      6   3.0        2.0        2\n",
       "986     10   7.0        5.0        5\n",
       "987      4   2.0        1.0        2\n",
       "\n",
       "[988 rows x 4 columns]"
      ]
     },
     "execution_count": 115,
     "metadata": {},
     "output_type": "execute_result"
    }
   ],
   "source": [
    "tabular_data_df[['guests','beds','bathrooms','bedrooms']]"
   ]
  },
  {
   "cell_type": "code",
   "execution_count": 116,
   "metadata": {},
   "outputs": [],
   "source": [
    "values = {\"guests\": 1, \"beds\": 1, \"bathrooms\": 1, \"bedrooms\": 1}\n",
    "tabular_data_df.fillna(value=values, inplace=True)\n"
   ]
  },
  {
   "cell_type": "code",
   "execution_count": 117,
   "metadata": {},
   "outputs": [
    {
     "data": {
      "text/html": [
       "<div>\n",
       "<style scoped>\n",
       "    .dataframe tbody tr th:only-of-type {\n",
       "        vertical-align: middle;\n",
       "    }\n",
       "\n",
       "    .dataframe tbody tr th {\n",
       "        vertical-align: top;\n",
       "    }\n",
       "\n",
       "    .dataframe thead th {\n",
       "        text-align: right;\n",
       "    }\n",
       "</style>\n",
       "<table border=\"1\" class=\"dataframe\">\n",
       "  <thead>\n",
       "    <tr style=\"text-align: right;\">\n",
       "      <th></th>\n",
       "      <th>guests</th>\n",
       "      <th>beds</th>\n",
       "      <th>bathrooms</th>\n",
       "      <th>bedrooms</th>\n",
       "    </tr>\n",
       "  </thead>\n",
       "  <tbody>\n",
       "    <tr>\n",
       "      <th>0</th>\n",
       "      <td>2</td>\n",
       "      <td>1.0</td>\n",
       "      <td>1.0</td>\n",
       "      <td>1</td>\n",
       "    </tr>\n",
       "    <tr>\n",
       "      <th>1</th>\n",
       "      <td>3</td>\n",
       "      <td>3.0</td>\n",
       "      <td>0.0</td>\n",
       "      <td>1</td>\n",
       "    </tr>\n",
       "    <tr>\n",
       "      <th>2</th>\n",
       "      <td>4</td>\n",
       "      <td>2.0</td>\n",
       "      <td>1.5</td>\n",
       "      <td>1</td>\n",
       "    </tr>\n",
       "    <tr>\n",
       "      <th>3</th>\n",
       "      <td>2</td>\n",
       "      <td>1.0</td>\n",
       "      <td>1.0</td>\n",
       "      <td>1</td>\n",
       "    </tr>\n",
       "    <tr>\n",
       "      <th>4</th>\n",
       "      <td>2</td>\n",
       "      <td>1.0</td>\n",
       "      <td>1.0</td>\n",
       "      <td>1</td>\n",
       "    </tr>\n",
       "    <tr>\n",
       "      <th>...</th>\n",
       "      <td>...</td>\n",
       "      <td>...</td>\n",
       "      <td>...</td>\n",
       "      <td>...</td>\n",
       "    </tr>\n",
       "    <tr>\n",
       "      <th>983</th>\n",
       "      <td>2</td>\n",
       "      <td>1.0</td>\n",
       "      <td>1.0</td>\n",
       "      <td>1</td>\n",
       "    </tr>\n",
       "    <tr>\n",
       "      <th>984</th>\n",
       "      <td>4</td>\n",
       "      <td>2.0</td>\n",
       "      <td>1.5</td>\n",
       "      <td>2</td>\n",
       "    </tr>\n",
       "    <tr>\n",
       "      <th>985</th>\n",
       "      <td>6</td>\n",
       "      <td>3.0</td>\n",
       "      <td>2.0</td>\n",
       "      <td>2</td>\n",
       "    </tr>\n",
       "    <tr>\n",
       "      <th>986</th>\n",
       "      <td>10</td>\n",
       "      <td>7.0</td>\n",
       "      <td>5.0</td>\n",
       "      <td>5</td>\n",
       "    </tr>\n",
       "    <tr>\n",
       "      <th>987</th>\n",
       "      <td>4</td>\n",
       "      <td>2.0</td>\n",
       "      <td>1.0</td>\n",
       "      <td>2</td>\n",
       "    </tr>\n",
       "  </tbody>\n",
       "</table>\n",
       "<p>988 rows × 4 columns</p>\n",
       "</div>"
      ],
      "text/plain": [
       "    guests  beds  bathrooms bedrooms\n",
       "0        2   1.0        1.0        1\n",
       "1        3   3.0        0.0        1\n",
       "2        4   2.0        1.5        1\n",
       "3        2   1.0        1.0        1\n",
       "4        2   1.0        1.0        1\n",
       "..     ...   ...        ...      ...\n",
       "983      2   1.0        1.0        1\n",
       "984      4   2.0        1.5        2\n",
       "985      6   3.0        2.0        2\n",
       "986     10   7.0        5.0        5\n",
       "987      4   2.0        1.0        2\n",
       "\n",
       "[988 rows x 4 columns]"
      ]
     },
     "execution_count": 117,
     "metadata": {},
     "output_type": "execute_result"
    }
   ],
   "source": [
    "tabular_data_df[['guests','beds','bathrooms','bedrooms']]"
   ]
  },
  {
   "cell_type": "code",
   "execution_count": null,
   "metadata": {},
   "outputs": [],
   "source": [
    "class Clean_airbnb_tabular_data:\n",
    "    # don't forget init method!\n",
    "\n",
    "    def remove_rows_with_missing_ratings(self):\n",
    "        tabular_data_df.dropna(subset=['Cleanliness_rating', 'Accuracy_rating', 'Communication_rating', 'Location_rating', 'Check-in_rating', 'Value_rating'], inplace=True)\n",
    "        print(tabular_data_df.isna().sum())\n",
    "        return tabular_data_df\n",
    "\n",
    "    def combine_description_strings():\n",
    "        \n",
    "        \n",
    "        \n",
    "\n",
    "        \n",
    "        \n",
    "\n",
    "    \n",
    "\n",
    "\n",
    "\n",
    "        \n",
    "        \n",
    "def clean_description_strings(text):\n",
    "    try:\n",
    "        description_list = literal_eval(text)\n",
    "        description_list.remove('About this space')\n",
    "        description_list = ''.join(description_list)\n",
    "        return description_list\n",
    "    except Exception as e:\n",
    "        return text\n",
    "        \n",
    "\n",
    "\n",
    "tabular_data_df['Description'] = tabular_data_df['Description'].apply(clean_description_strings) \n",
    "    \n",
    "tabular_data_df['Description']\n",
    "\n",
    "\n",
    "\n",
    "\n",
    "\n",
    "\n",
    "\n",
    "\n",
    "\n",
    "\n",
    "\n",
    "\n",
    "\n",
    "\n",
    "\n",
    "if __name__ == \"__main__\":\n",
    "    tabular_data_df = pd.read_csv('listing.csv')\n"
   ]
  },
  {
   "attachments": {},
   "cell_type": "markdown",
   "metadata": {},
   "source": [
    "### Task 1 - Final solution"
   ]
  },
  {
   "cell_type": "code",
   "execution_count": 2,
   "metadata": {},
   "outputs": [],
   "source": [
    "from ast import literal_eval\n",
    "import pandas as pd\n",
    "\n",
    "\n",
    "class Data_Preparation:\n",
    "    # def __init__(self):\n",
    "        \n",
    "\n",
    "    def remove_rows_with_missing_ratings(self):\n",
    "        airbnb_df.dropna(subset=['Cleanliness_rating', 'Accuracy_rating', 'Communication_rating', 'Location_rating', 'Check-in_rating', 'Value_rating'], inplace=True)\n",
    "        return airbnb_df\n",
    "\n",
    "    def clean_description_strings(self, text):\n",
    "        try:\n",
    "            description_list = literal_eval(text)\n",
    "            description_list.remove('About this space')\n",
    "            description_list = ''.join(description_list)\n",
    "            return description_list\n",
    "        except Exception as e:\n",
    "                return text \n",
    "\n",
    "    def combine_description_strings(self):\n",
    "        airbnb_df.dropna(subset=['Description'], inplace=True)\n",
    "        airbnb_df['Description'] = airbnb_df['Description'].apply(self.clean_description_strings) \n",
    "        airbnb_df['Description'].replace([r\"\\\\n\", \"\\n\", r\"\\'\"], [\" \",\" \",\"\"], regex=True, inplace=True)\n",
    "        return airbnb_df\n",
    "      \n",
    "    def set_default_feature_values(self):\n",
    "        values = {\"guests\": 1, \"beds\": 1, \"bathrooms\": 1, \"bedrooms\": 1}\n",
    "        airbnb_df.fillna(value=values, inplace=True)\n",
    "        return airbnb_df\n",
    "\n",
    "    def clean_tabular_data(self):\n",
    "        self.remove_rows_with_missing_ratings()\n",
    "        self.combine_description_strings()\n",
    "        self.set_default_feature_values()\n",
    "\n",
    "if __name__ == '__main__':\n",
    "    airbnb_df = pd.read_csv('/Users/apple/Documents/GitHub/Data_Science_Airbnb/airbnb_datasets/listing.csv', index_col='ID')\n",
    "    airbnb_df.drop('Unnamed: 19', axis=1, inplace=True)\n",
    "    Data_processor = Data_Preparation()\n",
    "    Data_processor.clean_tabular_data()\n",
    "\n",
    "\n",
    "\n",
    "    airbnb_df.to_csv(r'/Users/apple/Documents/GitHub/Data_Science_Airbnb/clean_tabular_data.csv') \n"
   ]
  },
  {
   "cell_type": "code",
   "execution_count": 3,
   "metadata": {},
   "outputs": [
    {
     "data": {
      "text/html": [
       "<div>\n",
       "<style scoped>\n",
       "    .dataframe tbody tr th:only-of-type {\n",
       "        vertical-align: middle;\n",
       "    }\n",
       "\n",
       "    .dataframe tbody tr th {\n",
       "        vertical-align: top;\n",
       "    }\n",
       "\n",
       "    .dataframe thead th {\n",
       "        text-align: right;\n",
       "    }\n",
       "</style>\n",
       "<table border=\"1\" class=\"dataframe\">\n",
       "  <thead>\n",
       "    <tr style=\"text-align: right;\">\n",
       "      <th></th>\n",
       "      <th>Category</th>\n",
       "      <th>Title</th>\n",
       "      <th>Description</th>\n",
       "      <th>Amenities</th>\n",
       "      <th>Location</th>\n",
       "      <th>guests</th>\n",
       "      <th>beds</th>\n",
       "      <th>bathrooms</th>\n",
       "      <th>Price_Night</th>\n",
       "      <th>Cleanliness_rating</th>\n",
       "      <th>Accuracy_rating</th>\n",
       "      <th>Communication_rating</th>\n",
       "      <th>Location_rating</th>\n",
       "      <th>Check-in_rating</th>\n",
       "      <th>Value_rating</th>\n",
       "      <th>amenities_count</th>\n",
       "      <th>url</th>\n",
       "      <th>bedrooms</th>\n",
       "    </tr>\n",
       "    <tr>\n",
       "      <th>ID</th>\n",
       "      <th></th>\n",
       "      <th></th>\n",
       "      <th></th>\n",
       "      <th></th>\n",
       "      <th></th>\n",
       "      <th></th>\n",
       "      <th></th>\n",
       "      <th></th>\n",
       "      <th></th>\n",
       "      <th></th>\n",
       "      <th></th>\n",
       "      <th></th>\n",
       "      <th></th>\n",
       "      <th></th>\n",
       "      <th></th>\n",
       "      <th></th>\n",
       "      <th></th>\n",
       "      <th></th>\n",
       "    </tr>\n",
       "  </thead>\n",
       "  <tbody>\n",
       "    <tr>\n",
       "      <th>f9dcbd09-32ac-41d9-a0b1-fdb2793378cf</th>\n",
       "      <td>Treehouses</td>\n",
       "      <td>Red Kite Tree Tent - Ynys Affalon</td>\n",
       "      <td>Escape to one of these two fabulous Tree Tents...</td>\n",
       "      <td>['What this place offers', 'Bathroom', 'Shampo...</td>\n",
       "      <td>Llandrindod Wells United Kingdom</td>\n",
       "      <td>2</td>\n",
       "      <td>1.0</td>\n",
       "      <td>1.0</td>\n",
       "      <td>105</td>\n",
       "      <td>4.6</td>\n",
       "      <td>4.7</td>\n",
       "      <td>4.3</td>\n",
       "      <td>5.0</td>\n",
       "      <td>4.3</td>\n",
       "      <td>4.3</td>\n",
       "      <td>13.0</td>\n",
       "      <td>https://www.airbnb.co.uk/rooms/26620994?adults...</td>\n",
       "      <td>1</td>\n",
       "    </tr>\n",
       "    <tr>\n",
       "      <th>1b4736a7-e73e-45bc-a9b5-d3e7fcf652fd</th>\n",
       "      <td>Treehouses</td>\n",
       "      <td>Az Alom Cabin - Treehouse Tree to Nature Cabin</td>\n",
       "      <td>Come and spend a romantic stay with a couple o...</td>\n",
       "      <td>['What this place offers', 'Bedroom and laundr...</td>\n",
       "      <td>Guyonvelle Grand Est France</td>\n",
       "      <td>3</td>\n",
       "      <td>3.0</td>\n",
       "      <td>0.0</td>\n",
       "      <td>92</td>\n",
       "      <td>4.3</td>\n",
       "      <td>4.7</td>\n",
       "      <td>4.6</td>\n",
       "      <td>4.9</td>\n",
       "      <td>4.7</td>\n",
       "      <td>4.5</td>\n",
       "      <td>8.0</td>\n",
       "      <td>https://www.airbnb.co.uk/rooms/27055498?adults...</td>\n",
       "      <td>1</td>\n",
       "    </tr>\n",
       "    <tr>\n",
       "      <th>d577bc30-2222-4bef-a35e-a9825642aec4</th>\n",
       "      <td>Treehouses</td>\n",
       "      <td>Cabane Entre Les Pins\\n🌲🏕️🌲</td>\n",
       "      <td>Rustic cabin between the pines, 3 meters high ...</td>\n",
       "      <td>['What this place offers', 'Scenic views', 'Ga...</td>\n",
       "      <td>Duclair Normandie France</td>\n",
       "      <td>4</td>\n",
       "      <td>2.0</td>\n",
       "      <td>1.5</td>\n",
       "      <td>52</td>\n",
       "      <td>4.2</td>\n",
       "      <td>4.6</td>\n",
       "      <td>4.8</td>\n",
       "      <td>4.8</td>\n",
       "      <td>4.8</td>\n",
       "      <td>4.7</td>\n",
       "      <td>51.0</td>\n",
       "      <td>https://www.airbnb.co.uk/rooms/51427108?adults...</td>\n",
       "      <td>1</td>\n",
       "    </tr>\n",
       "    <tr>\n",
       "      <th>ca9cbfd4-7798-4e8d-8c17-d5a64fba0abc</th>\n",
       "      <td>Treehouses</td>\n",
       "      <td>Tree Top Cabin with log burner &amp; private hot tub</td>\n",
       "      <td>The Tree top cabin is situated in our peaceful...</td>\n",
       "      <td>['What this place offers', 'Bathroom', 'Hot wa...</td>\n",
       "      <td>Barmouth Wales United Kingdom</td>\n",
       "      <td>2</td>\n",
       "      <td>1.0</td>\n",
       "      <td>1.0</td>\n",
       "      <td>132</td>\n",
       "      <td>4.8</td>\n",
       "      <td>4.9</td>\n",
       "      <td>4.9</td>\n",
       "      <td>4.9</td>\n",
       "      <td>5.0</td>\n",
       "      <td>4.6</td>\n",
       "      <td>23.0</td>\n",
       "      <td>https://www.airbnb.co.uk/rooms/49543851?adults...</td>\n",
       "      <td>1</td>\n",
       "    </tr>\n",
       "    <tr>\n",
       "      <th>cfe479b9-c8f8-44af-9bc6-46ede9f14bb5</th>\n",
       "      <td>Treehouses</td>\n",
       "      <td>Treehouse near Paris Disney</td>\n",
       "      <td>Charming cabin nestled in the leaves, real unu...</td>\n",
       "      <td>['What this place offers', 'Bathroom', 'Hair d...</td>\n",
       "      <td>Le Plessis-Feu-Aussoux Île-de-France France</td>\n",
       "      <td>4</td>\n",
       "      <td>3.0</td>\n",
       "      <td>1.0</td>\n",
       "      <td>143</td>\n",
       "      <td>5.0</td>\n",
       "      <td>4.9</td>\n",
       "      <td>5.0</td>\n",
       "      <td>4.7</td>\n",
       "      <td>5.0</td>\n",
       "      <td>4.7</td>\n",
       "      <td>32.0</td>\n",
       "      <td>https://www.airbnb.co.uk/rooms/935398?adults=1...</td>\n",
       "      <td>2</td>\n",
       "    </tr>\n",
       "    <tr>\n",
       "      <th>...</th>\n",
       "      <td>...</td>\n",
       "      <td>...</td>\n",
       "      <td>...</td>\n",
       "      <td>...</td>\n",
       "      <td>...</td>\n",
       "      <td>...</td>\n",
       "      <td>...</td>\n",
       "      <td>...</td>\n",
       "      <td>...</td>\n",
       "      <td>...</td>\n",
       "      <td>...</td>\n",
       "      <td>...</td>\n",
       "      <td>...</td>\n",
       "      <td>...</td>\n",
       "      <td>...</td>\n",
       "      <td>...</td>\n",
       "      <td>...</td>\n",
       "      <td>...</td>\n",
       "    </tr>\n",
       "    <tr>\n",
       "      <th>cfbc88da-e88c-415a-b397-108d0948c4ba</th>\n",
       "      <td>Beachfront</td>\n",
       "      <td>Lancing Beach Apartment</td>\n",
       "      <td>An apartment directly on the beach at Lancing,...</td>\n",
       "      <td>['What this place offers', 'Bathroom', 'Hair d...</td>\n",
       "      <td>Lancing United Kingdom</td>\n",
       "      <td>4</td>\n",
       "      <td>2.0</td>\n",
       "      <td>1.5</td>\n",
       "      <td>240</td>\n",
       "      <td>4.9</td>\n",
       "      <td>5.0</td>\n",
       "      <td>5.0</td>\n",
       "      <td>5.0</td>\n",
       "      <td>4.9</td>\n",
       "      <td>4.8</td>\n",
       "      <td>33.0</td>\n",
       "      <td>https://www.airbnb.co.uk/rooms/12680472?adults...</td>\n",
       "      <td>2</td>\n",
       "    </tr>\n",
       "    <tr>\n",
       "      <th>4fea5054-f999-4c07-addc-67e4d893deab</th>\n",
       "      <td>Beachfront</td>\n",
       "      <td>Apartment</td>\n",
       "      <td>Light roomy space with outside garden 5 minute...</td>\n",
       "      <td>['What this place offers', 'Bathroom', 'Hair d...</td>\n",
       "      <td>Brighton and Hove England United Kingdom</td>\n",
       "      <td>2</td>\n",
       "      <td>1.0</td>\n",
       "      <td>1.0</td>\n",
       "      <td>78</td>\n",
       "      <td>4.8</td>\n",
       "      <td>5.0</td>\n",
       "      <td>4.9</td>\n",
       "      <td>4.9</td>\n",
       "      <td>5.0</td>\n",
       "      <td>4.9</td>\n",
       "      <td>54.0</td>\n",
       "      <td>https://www.airbnb.co.uk/rooms/48565992?adults...</td>\n",
       "      <td>1</td>\n",
       "    </tr>\n",
       "    <tr>\n",
       "      <th>282118e2-049e-4d9f-b2f2-b47477881b07</th>\n",
       "      <td>Beachfront</td>\n",
       "      <td>Sea front flat with a stunning view!</td>\n",
       "      <td>This specious two bedroom flat on the sea fron...</td>\n",
       "      <td>['What this place offers', 'Scenic views', 'Be...</td>\n",
       "      <td>East Sussex England United Kingdom</td>\n",
       "      <td>4</td>\n",
       "      <td>2.0</td>\n",
       "      <td>1.5</td>\n",
       "      <td>113</td>\n",
       "      <td>4.8</td>\n",
       "      <td>5.0</td>\n",
       "      <td>5.0</td>\n",
       "      <td>5.0</td>\n",
       "      <td>5.0</td>\n",
       "      <td>4.8</td>\n",
       "      <td>38.0</td>\n",
       "      <td>https://www.airbnb.co.uk/rooms/49742544?adults...</td>\n",
       "      <td>2</td>\n",
       "    </tr>\n",
       "    <tr>\n",
       "      <th>9ebf9cec-624e-480e-8704-dffa7cb1fe51</th>\n",
       "      <td>Beachfront</td>\n",
       "      <td>MP713 - Camber Sands Holiday Park - Sleeps 6 +...</td>\n",
       "      <td>With all the modern amenities, our contemporar...</td>\n",
       "      <td>['What this place offers', 'Bathroom', 'Hot wa...</td>\n",
       "      <td>Camber England United Kingdom</td>\n",
       "      <td>6</td>\n",
       "      <td>3.0</td>\n",
       "      <td>2.0</td>\n",
       "      <td>80</td>\n",
       "      <td>4.7</td>\n",
       "      <td>4.8</td>\n",
       "      <td>5.0</td>\n",
       "      <td>5.0</td>\n",
       "      <td>5.0</td>\n",
       "      <td>4.7</td>\n",
       "      <td>24.0</td>\n",
       "      <td>https://www.airbnb.co.uk/rooms/47777462?adults...</td>\n",
       "      <td>2</td>\n",
       "    </tr>\n",
       "    <tr>\n",
       "      <th>d2b06c80-c643-485d-a24b-15d0811a3166</th>\n",
       "      <td>Beachfront</td>\n",
       "      <td>Sea Scene's ,  Hayling Island</td>\n",
       "      <td>Sea Scenes is a homely two bedroom groundfloor...</td>\n",
       "      <td>['What this place offers', 'Bathroom', 'Hair d...</td>\n",
       "      <td>Hayling Island Hampshire United Kingdom</td>\n",
       "      <td>4</td>\n",
       "      <td>2.0</td>\n",
       "      <td>1.0</td>\n",
       "      <td>104</td>\n",
       "      <td>4.9</td>\n",
       "      <td>4.9</td>\n",
       "      <td>4.9</td>\n",
       "      <td>4.9</td>\n",
       "      <td>4.9</td>\n",
       "      <td>4.3</td>\n",
       "      <td>29.0</td>\n",
       "      <td>https://www.airbnb.co.uk/rooms/32377446?adults...</td>\n",
       "      <td>2</td>\n",
       "    </tr>\n",
       "  </tbody>\n",
       "</table>\n",
       "<p>830 rows × 18 columns</p>\n",
       "</div>"
      ],
      "text/plain": [
       "                                        Category  \\\n",
       "ID                                                 \n",
       "f9dcbd09-32ac-41d9-a0b1-fdb2793378cf  Treehouses   \n",
       "1b4736a7-e73e-45bc-a9b5-d3e7fcf652fd  Treehouses   \n",
       "d577bc30-2222-4bef-a35e-a9825642aec4  Treehouses   \n",
       "ca9cbfd4-7798-4e8d-8c17-d5a64fba0abc  Treehouses   \n",
       "cfe479b9-c8f8-44af-9bc6-46ede9f14bb5  Treehouses   \n",
       "...                                          ...   \n",
       "cfbc88da-e88c-415a-b397-108d0948c4ba  Beachfront   \n",
       "4fea5054-f999-4c07-addc-67e4d893deab  Beachfront   \n",
       "282118e2-049e-4d9f-b2f2-b47477881b07  Beachfront   \n",
       "9ebf9cec-624e-480e-8704-dffa7cb1fe51  Beachfront   \n",
       "d2b06c80-c643-485d-a24b-15d0811a3166  Beachfront   \n",
       "\n",
       "                                                                                  Title  \\\n",
       "ID                                                                                        \n",
       "f9dcbd09-32ac-41d9-a0b1-fdb2793378cf                  Red Kite Tree Tent - Ynys Affalon   \n",
       "1b4736a7-e73e-45bc-a9b5-d3e7fcf652fd     Az Alom Cabin - Treehouse Tree to Nature Cabin   \n",
       "d577bc30-2222-4bef-a35e-a9825642aec4                        Cabane Entre Les Pins\\n🌲🏕️🌲   \n",
       "ca9cbfd4-7798-4e8d-8c17-d5a64fba0abc   Tree Top Cabin with log burner & private hot tub   \n",
       "cfe479b9-c8f8-44af-9bc6-46ede9f14bb5                        Treehouse near Paris Disney   \n",
       "...                                                                                 ...   \n",
       "cfbc88da-e88c-415a-b397-108d0948c4ba                            Lancing Beach Apartment   \n",
       "4fea5054-f999-4c07-addc-67e4d893deab                                          Apartment   \n",
       "282118e2-049e-4d9f-b2f2-b47477881b07               Sea front flat with a stunning view!   \n",
       "9ebf9cec-624e-480e-8704-dffa7cb1fe51  MP713 - Camber Sands Holiday Park - Sleeps 6 +...   \n",
       "d2b06c80-c643-485d-a24b-15d0811a3166                      Sea Scene's ,  Hayling Island   \n",
       "\n",
       "                                                                            Description  \\\n",
       "ID                                                                                        \n",
       "f9dcbd09-32ac-41d9-a0b1-fdb2793378cf  Escape to one of these two fabulous Tree Tents...   \n",
       "1b4736a7-e73e-45bc-a9b5-d3e7fcf652fd  Come and spend a romantic stay with a couple o...   \n",
       "d577bc30-2222-4bef-a35e-a9825642aec4  Rustic cabin between the pines, 3 meters high ...   \n",
       "ca9cbfd4-7798-4e8d-8c17-d5a64fba0abc  The Tree top cabin is situated in our peaceful...   \n",
       "cfe479b9-c8f8-44af-9bc6-46ede9f14bb5  Charming cabin nestled in the leaves, real unu...   \n",
       "...                                                                                 ...   \n",
       "cfbc88da-e88c-415a-b397-108d0948c4ba  An apartment directly on the beach at Lancing,...   \n",
       "4fea5054-f999-4c07-addc-67e4d893deab  Light roomy space with outside garden 5 minute...   \n",
       "282118e2-049e-4d9f-b2f2-b47477881b07  This specious two bedroom flat on the sea fron...   \n",
       "9ebf9cec-624e-480e-8704-dffa7cb1fe51  With all the modern amenities, our contemporar...   \n",
       "d2b06c80-c643-485d-a24b-15d0811a3166  Sea Scenes is a homely two bedroom groundfloor...   \n",
       "\n",
       "                                                                              Amenities  \\\n",
       "ID                                                                                        \n",
       "f9dcbd09-32ac-41d9-a0b1-fdb2793378cf  ['What this place offers', 'Bathroom', 'Shampo...   \n",
       "1b4736a7-e73e-45bc-a9b5-d3e7fcf652fd  ['What this place offers', 'Bedroom and laundr...   \n",
       "d577bc30-2222-4bef-a35e-a9825642aec4  ['What this place offers', 'Scenic views', 'Ga...   \n",
       "ca9cbfd4-7798-4e8d-8c17-d5a64fba0abc  ['What this place offers', 'Bathroom', 'Hot wa...   \n",
       "cfe479b9-c8f8-44af-9bc6-46ede9f14bb5  ['What this place offers', 'Bathroom', 'Hair d...   \n",
       "...                                                                                 ...   \n",
       "cfbc88da-e88c-415a-b397-108d0948c4ba  ['What this place offers', 'Bathroom', 'Hair d...   \n",
       "4fea5054-f999-4c07-addc-67e4d893deab  ['What this place offers', 'Bathroom', 'Hair d...   \n",
       "282118e2-049e-4d9f-b2f2-b47477881b07  ['What this place offers', 'Scenic views', 'Be...   \n",
       "9ebf9cec-624e-480e-8704-dffa7cb1fe51  ['What this place offers', 'Bathroom', 'Hot wa...   \n",
       "d2b06c80-c643-485d-a24b-15d0811a3166  ['What this place offers', 'Bathroom', 'Hair d...   \n",
       "\n",
       "                                                                         Location  \\\n",
       "ID                                                                                  \n",
       "f9dcbd09-32ac-41d9-a0b1-fdb2793378cf             Llandrindod Wells United Kingdom   \n",
       "1b4736a7-e73e-45bc-a9b5-d3e7fcf652fd                  Guyonvelle Grand Est France   \n",
       "d577bc30-2222-4bef-a35e-a9825642aec4                     Duclair Normandie France   \n",
       "ca9cbfd4-7798-4e8d-8c17-d5a64fba0abc                Barmouth Wales United Kingdom   \n",
       "cfe479b9-c8f8-44af-9bc6-46ede9f14bb5  Le Plessis-Feu-Aussoux Île-de-France France   \n",
       "...                                                                           ...   \n",
       "cfbc88da-e88c-415a-b397-108d0948c4ba                       Lancing United Kingdom   \n",
       "4fea5054-f999-4c07-addc-67e4d893deab     Brighton and Hove England United Kingdom   \n",
       "282118e2-049e-4d9f-b2f2-b47477881b07           East Sussex England United Kingdom   \n",
       "9ebf9cec-624e-480e-8704-dffa7cb1fe51                Camber England United Kingdom   \n",
       "d2b06c80-c643-485d-a24b-15d0811a3166      Hayling Island Hampshire United Kingdom   \n",
       "\n",
       "                                     guests  beds  bathrooms  Price_Night  \\\n",
       "ID                                                                          \n",
       "f9dcbd09-32ac-41d9-a0b1-fdb2793378cf      2   1.0        1.0          105   \n",
       "1b4736a7-e73e-45bc-a9b5-d3e7fcf652fd      3   3.0        0.0           92   \n",
       "d577bc30-2222-4bef-a35e-a9825642aec4      4   2.0        1.5           52   \n",
       "ca9cbfd4-7798-4e8d-8c17-d5a64fba0abc      2   1.0        1.0          132   \n",
       "cfe479b9-c8f8-44af-9bc6-46ede9f14bb5      4   3.0        1.0          143   \n",
       "...                                     ...   ...        ...          ...   \n",
       "cfbc88da-e88c-415a-b397-108d0948c4ba      4   2.0        1.5          240   \n",
       "4fea5054-f999-4c07-addc-67e4d893deab      2   1.0        1.0           78   \n",
       "282118e2-049e-4d9f-b2f2-b47477881b07      4   2.0        1.5          113   \n",
       "9ebf9cec-624e-480e-8704-dffa7cb1fe51      6   3.0        2.0           80   \n",
       "d2b06c80-c643-485d-a24b-15d0811a3166      4   2.0        1.0          104   \n",
       "\n",
       "                                      Cleanliness_rating  Accuracy_rating  \\\n",
       "ID                                                                          \n",
       "f9dcbd09-32ac-41d9-a0b1-fdb2793378cf                 4.6              4.7   \n",
       "1b4736a7-e73e-45bc-a9b5-d3e7fcf652fd                 4.3              4.7   \n",
       "d577bc30-2222-4bef-a35e-a9825642aec4                 4.2              4.6   \n",
       "ca9cbfd4-7798-4e8d-8c17-d5a64fba0abc                 4.8              4.9   \n",
       "cfe479b9-c8f8-44af-9bc6-46ede9f14bb5                 5.0              4.9   \n",
       "...                                                  ...              ...   \n",
       "cfbc88da-e88c-415a-b397-108d0948c4ba                 4.9              5.0   \n",
       "4fea5054-f999-4c07-addc-67e4d893deab                 4.8              5.0   \n",
       "282118e2-049e-4d9f-b2f2-b47477881b07                 4.8              5.0   \n",
       "9ebf9cec-624e-480e-8704-dffa7cb1fe51                 4.7              4.8   \n",
       "d2b06c80-c643-485d-a24b-15d0811a3166                 4.9              4.9   \n",
       "\n",
       "                                      Communication_rating  Location_rating  \\\n",
       "ID                                                                            \n",
       "f9dcbd09-32ac-41d9-a0b1-fdb2793378cf                   4.3              5.0   \n",
       "1b4736a7-e73e-45bc-a9b5-d3e7fcf652fd                   4.6              4.9   \n",
       "d577bc30-2222-4bef-a35e-a9825642aec4                   4.8              4.8   \n",
       "ca9cbfd4-7798-4e8d-8c17-d5a64fba0abc                   4.9              4.9   \n",
       "cfe479b9-c8f8-44af-9bc6-46ede9f14bb5                   5.0              4.7   \n",
       "...                                                    ...              ...   \n",
       "cfbc88da-e88c-415a-b397-108d0948c4ba                   5.0              5.0   \n",
       "4fea5054-f999-4c07-addc-67e4d893deab                   4.9              4.9   \n",
       "282118e2-049e-4d9f-b2f2-b47477881b07                   5.0              5.0   \n",
       "9ebf9cec-624e-480e-8704-dffa7cb1fe51                   5.0              5.0   \n",
       "d2b06c80-c643-485d-a24b-15d0811a3166                   4.9              4.9   \n",
       "\n",
       "                                      Check-in_rating  Value_rating  \\\n",
       "ID                                                                    \n",
       "f9dcbd09-32ac-41d9-a0b1-fdb2793378cf              4.3           4.3   \n",
       "1b4736a7-e73e-45bc-a9b5-d3e7fcf652fd              4.7           4.5   \n",
       "d577bc30-2222-4bef-a35e-a9825642aec4              4.8           4.7   \n",
       "ca9cbfd4-7798-4e8d-8c17-d5a64fba0abc              5.0           4.6   \n",
       "cfe479b9-c8f8-44af-9bc6-46ede9f14bb5              5.0           4.7   \n",
       "...                                               ...           ...   \n",
       "cfbc88da-e88c-415a-b397-108d0948c4ba              4.9           4.8   \n",
       "4fea5054-f999-4c07-addc-67e4d893deab              5.0           4.9   \n",
       "282118e2-049e-4d9f-b2f2-b47477881b07              5.0           4.8   \n",
       "9ebf9cec-624e-480e-8704-dffa7cb1fe51              5.0           4.7   \n",
       "d2b06c80-c643-485d-a24b-15d0811a3166              4.9           4.3   \n",
       "\n",
       "                                      amenities_count  \\\n",
       "ID                                                      \n",
       "f9dcbd09-32ac-41d9-a0b1-fdb2793378cf             13.0   \n",
       "1b4736a7-e73e-45bc-a9b5-d3e7fcf652fd              8.0   \n",
       "d577bc30-2222-4bef-a35e-a9825642aec4             51.0   \n",
       "ca9cbfd4-7798-4e8d-8c17-d5a64fba0abc             23.0   \n",
       "cfe479b9-c8f8-44af-9bc6-46ede9f14bb5             32.0   \n",
       "...                                               ...   \n",
       "cfbc88da-e88c-415a-b397-108d0948c4ba             33.0   \n",
       "4fea5054-f999-4c07-addc-67e4d893deab             54.0   \n",
       "282118e2-049e-4d9f-b2f2-b47477881b07             38.0   \n",
       "9ebf9cec-624e-480e-8704-dffa7cb1fe51             24.0   \n",
       "d2b06c80-c643-485d-a24b-15d0811a3166             29.0   \n",
       "\n",
       "                                                                                    url  \\\n",
       "ID                                                                                        \n",
       "f9dcbd09-32ac-41d9-a0b1-fdb2793378cf  https://www.airbnb.co.uk/rooms/26620994?adults...   \n",
       "1b4736a7-e73e-45bc-a9b5-d3e7fcf652fd  https://www.airbnb.co.uk/rooms/27055498?adults...   \n",
       "d577bc30-2222-4bef-a35e-a9825642aec4  https://www.airbnb.co.uk/rooms/51427108?adults...   \n",
       "ca9cbfd4-7798-4e8d-8c17-d5a64fba0abc  https://www.airbnb.co.uk/rooms/49543851?adults...   \n",
       "cfe479b9-c8f8-44af-9bc6-46ede9f14bb5  https://www.airbnb.co.uk/rooms/935398?adults=1...   \n",
       "...                                                                                 ...   \n",
       "cfbc88da-e88c-415a-b397-108d0948c4ba  https://www.airbnb.co.uk/rooms/12680472?adults...   \n",
       "4fea5054-f999-4c07-addc-67e4d893deab  https://www.airbnb.co.uk/rooms/48565992?adults...   \n",
       "282118e2-049e-4d9f-b2f2-b47477881b07  https://www.airbnb.co.uk/rooms/49742544?adults...   \n",
       "9ebf9cec-624e-480e-8704-dffa7cb1fe51  https://www.airbnb.co.uk/rooms/47777462?adults...   \n",
       "d2b06c80-c643-485d-a24b-15d0811a3166  https://www.airbnb.co.uk/rooms/32377446?adults...   \n",
       "\n",
       "                                     bedrooms  \n",
       "ID                                             \n",
       "f9dcbd09-32ac-41d9-a0b1-fdb2793378cf        1  \n",
       "1b4736a7-e73e-45bc-a9b5-d3e7fcf652fd        1  \n",
       "d577bc30-2222-4bef-a35e-a9825642aec4        1  \n",
       "ca9cbfd4-7798-4e8d-8c17-d5a64fba0abc        1  \n",
       "cfe479b9-c8f8-44af-9bc6-46ede9f14bb5        2  \n",
       "...                                       ...  \n",
       "cfbc88da-e88c-415a-b397-108d0948c4ba        2  \n",
       "4fea5054-f999-4c07-addc-67e4d893deab        1  \n",
       "282118e2-049e-4d9f-b2f2-b47477881b07        2  \n",
       "9ebf9cec-624e-480e-8704-dffa7cb1fe51        2  \n",
       "d2b06c80-c643-485d-a24b-15d0811a3166        2  \n",
       "\n",
       "[830 rows x 18 columns]"
      ]
     },
     "execution_count": 3,
     "metadata": {},
     "output_type": "execute_result"
    }
   ],
   "source": [
    "airbnb_df"
   ]
  },
  {
   "attachments": {},
   "cell_type": "markdown",
   "metadata": {},
   "source": [
    "## Task 3"
   ]
  },
  {
   "cell_type": "code",
   "execution_count": 4,
   "metadata": {},
   "outputs": [
    {
     "name": "stdout",
     "output_type": "stream",
     "text": [
      "                                      beds  bathrooms  Cleanliness_rating  \\\n",
      "ID                                                                          \n",
      "f9dcbd09-32ac-41d9-a0b1-fdb2793378cf   1.0        1.0                 4.6   \n",
      "1b4736a7-e73e-45bc-a9b5-d3e7fcf652fd   3.0        0.0                 4.3   \n",
      "d577bc30-2222-4bef-a35e-a9825642aec4   2.0        1.5                 4.2   \n",
      "ca9cbfd4-7798-4e8d-8c17-d5a64fba0abc   1.0        1.0                 4.8   \n",
      "cfe479b9-c8f8-44af-9bc6-46ede9f14bb5   3.0        1.0                 5.0   \n",
      "...                                    ...        ...                 ...   \n",
      "cfbc88da-e88c-415a-b397-108d0948c4ba   2.0        1.5                 4.9   \n",
      "4fea5054-f999-4c07-addc-67e4d893deab   1.0        1.0                 4.8   \n",
      "282118e2-049e-4d9f-b2f2-b47477881b07   2.0        1.5                 4.8   \n",
      "9ebf9cec-624e-480e-8704-dffa7cb1fe51   3.0        2.0                 4.7   \n",
      "d2b06c80-c643-485d-a24b-15d0811a3166   2.0        1.0                 4.9   \n",
      "\n",
      "                                      Accuracy_rating  Communication_rating  \\\n",
      "ID                                                                            \n",
      "f9dcbd09-32ac-41d9-a0b1-fdb2793378cf              4.7                   4.3   \n",
      "1b4736a7-e73e-45bc-a9b5-d3e7fcf652fd              4.7                   4.6   \n",
      "d577bc30-2222-4bef-a35e-a9825642aec4              4.6                   4.8   \n",
      "ca9cbfd4-7798-4e8d-8c17-d5a64fba0abc              4.9                   4.9   \n",
      "cfe479b9-c8f8-44af-9bc6-46ede9f14bb5              4.9                   5.0   \n",
      "...                                               ...                   ...   \n",
      "cfbc88da-e88c-415a-b397-108d0948c4ba              5.0                   5.0   \n",
      "4fea5054-f999-4c07-addc-67e4d893deab              5.0                   4.9   \n",
      "282118e2-049e-4d9f-b2f2-b47477881b07              5.0                   5.0   \n",
      "9ebf9cec-624e-480e-8704-dffa7cb1fe51              4.8                   5.0   \n",
      "d2b06c80-c643-485d-a24b-15d0811a3166              4.9                   4.9   \n",
      "\n",
      "                                      Location_rating  Check-in_rating  \\\n",
      "ID                                                                       \n",
      "f9dcbd09-32ac-41d9-a0b1-fdb2793378cf              5.0              4.3   \n",
      "1b4736a7-e73e-45bc-a9b5-d3e7fcf652fd              4.9              4.7   \n",
      "d577bc30-2222-4bef-a35e-a9825642aec4              4.8              4.8   \n",
      "ca9cbfd4-7798-4e8d-8c17-d5a64fba0abc              4.9              5.0   \n",
      "cfe479b9-c8f8-44af-9bc6-46ede9f14bb5              4.7              5.0   \n",
      "...                                               ...              ...   \n",
      "cfbc88da-e88c-415a-b397-108d0948c4ba              5.0              4.9   \n",
      "4fea5054-f999-4c07-addc-67e4d893deab              4.9              5.0   \n",
      "282118e2-049e-4d9f-b2f2-b47477881b07              5.0              5.0   \n",
      "9ebf9cec-624e-480e-8704-dffa7cb1fe51              5.0              5.0   \n",
      "d2b06c80-c643-485d-a24b-15d0811a3166              4.9              4.9   \n",
      "\n",
      "                                      Value_rating  amenities_count  \n",
      "ID                                                                   \n",
      "f9dcbd09-32ac-41d9-a0b1-fdb2793378cf           4.3             13.0  \n",
      "1b4736a7-e73e-45bc-a9b5-d3e7fcf652fd           4.5              8.0  \n",
      "d577bc30-2222-4bef-a35e-a9825642aec4           4.7             51.0  \n",
      "ca9cbfd4-7798-4e8d-8c17-d5a64fba0abc           4.6             23.0  \n",
      "cfe479b9-c8f8-44af-9bc6-46ede9f14bb5           4.7             32.0  \n",
      "...                                            ...              ...  \n",
      "cfbc88da-e88c-415a-b397-108d0948c4ba           4.8             33.0  \n",
      "4fea5054-f999-4c07-addc-67e4d893deab           4.9             54.0  \n",
      "282118e2-049e-4d9f-b2f2-b47477881b07           4.8             38.0  \n",
      "9ebf9cec-624e-480e-8704-dffa7cb1fe51           4.7             24.0  \n",
      "d2b06c80-c643-485d-a24b-15d0811a3166           4.3             29.0  \n",
      "\n",
      "[830 rows x 9 columns]\n"
     ]
    },
    {
     "data": {
      "text/plain": [
       "(830,)"
      ]
     },
     "execution_count": 4,
     "metadata": {},
     "output_type": "execute_result"
    }
   ],
   "source": [
    "def load_airbnb(label:str, df):\n",
    "    features=df.drop(label, axis=1)\n",
    "    labels=df[label]\n",
    "    features = features.select_dtypes(include =['float64', 'int64'])\n",
    "    return(features, labels)\n",
    "    \n",
    "\n",
    "\n",
    "X,y = load_airbnb('Price_Night', airbnb_df)\n",
    "\n",
    "print(X)\n",
    "y.shape\n",
    "\n",
    "\n",
    "\n",
    "\n",
    "\n",
    "\n",
    "\n"
   ]
  },
  {
   "attachments": {},
   "cell_type": "markdown",
   "metadata": {},
   "source": [
    "# Milestone 4"
   ]
  },
  {
   "attachments": {},
   "cell_type": "markdown",
   "metadata": {},
   "source": [
    "### Task 1"
   ]
  },
  {
   "cell_type": "code",
   "execution_count": 12,
   "metadata": {},
   "outputs": [
    {
     "name": "stdout",
     "output_type": "stream",
     "text": [
      "Number of samples in dataset: 830\n",
      "Number of samples in:\n",
      "    Training: 581\n",
      "    Testing: 249\n"
     ]
    }
   ],
   "source": [
    "# Start by importing your load_airbnb function defined earlier and using it to load in a dataset with the price per night (\"Price_Night\") as the label. At this point, it should only include numerical values. You will use the other modes of data later.\n",
    "# Use sklearn to train a linear regression model to predict the \"Price_Night\" feature from the tabular data. You should find and use the built in model class SGDRegressor provided by sklearn instead of building your own from scratch.\n",
    "# The point of this task is to get a baseline to compare other more advanced models to, and to try to improve upon.\n",
    "\n",
    "from sklearn.linear_model import SGDRegressor\n",
    "from sklearn import datasets\n",
    "from sklearn.model_selection import train_test_split\n",
    "from sklearn.metrics import mean_squared_error\n",
    "\n",
    "X,y = load_airbnb('Price_Night', airbnb_df)\n",
    "\n",
    "print(f\"Number of samples in dataset: {len(X)}\")\n",
    "\n",
    "X_train, X_test, y_train, y_test = train_test_split(X, y, test_size=0.3)\n",
    "print(\"Number of samples in:\")\n",
    "print(f\"    Training: {len(y_train)}\")\n",
    "print(f\"    Testing: {len(y_test)}\")\n",
    "\n"
   ]
  },
  {
   "cell_type": "code",
   "execution_count": 13,
   "metadata": {},
   "outputs": [
    {
     "name": "stdout",
     "output_type": "stream",
     "text": [
      "Number of samples in:\n",
      "    Training: 581\n",
      "    Validation: 125\n",
      "    Testing: 124\n"
     ]
    }
   ],
   "source": [
    "X_test, X_validation, y_test, y_validation = train_test_split(\n",
    "    X_test, y_test, test_size=0.5\n",
    ")\n",
    "\n",
    "print(\"Number of samples in:\")\n",
    "print(f\"    Training: {len(y_train)}\")\n",
    "print(f\"    Validation: {len(y_validation)}\")\n",
    "print(f\"    Testing: {len(y_test)}\")"
   ]
  },
  {
   "cell_type": "code",
   "execution_count": 15,
   "metadata": {},
   "outputs": [
    {
     "name": "stdout",
     "output_type": "stream",
     "text": [
      "    Training: 581\n",
      "    Validation: 125\n",
      "    Testing: 124\n"
     ]
    }
   ],
   "source": [
    "data_sets = [X_train, y_train, X_test, y_test, X_validation, y_validation]\n",
    "\n",
    "print(f\"    Training: {len(y_train)}\")\n",
    "print(f\"    Validation: {len(y_validation)}\")\n",
    "print(f\"    Testing: {len(y_test)}\")"
   ]
  },
  {
   "cell_type": "code",
   "execution_count": 16,
   "metadata": {},
   "outputs": [],
   "source": [
    "model = SGDRegressor()\n",
    "\n",
    "model.fit(X_train, y_train)\n",
    "\n",
    "y_train_pred = model.predict(X_train)\n",
    "y_validation_pred = model.predict(X_validation)\n",
    "y_test_pred = model.predict(X_test)\n",
    "\n",
    "\n",
    "\n"
   ]
  },
  {
   "cell_type": "code",
   "execution_count": 17,
   "metadata": {},
   "outputs": [],
   "source": [
    "model = SGDRegressor()\n",
    "\n",
    "model.fit(data_sets[0], data_sets[1])\n",
    "\n",
    "y_train_pred = model.predict(data_sets[0])\n",
    "y_validation_pred = model.predict(data_sets[4])\n",
    "y_test_pred = model.predict(data_sets[2])\n",
    "\n"
   ]
  },
  {
   "cell_type": "code",
   "execution_count": null,
   "metadata": {},
   "outputs": [],
   "source": [
    "train_loss = mean_squared_error(data_sets[1], y_train_pred)\n",
    "validation_loss = mean_squared_error(y_validation, y_validation_pred)\n",
    "test_loss = mean_squared_error(y_test, y_test_pred)\n",
    "\n",
    "print(\n",
    "        f\"Train Loss: {train_loss} | Validation Loss: {validation_loss} | \"\n",
    "        f\"Test Loss: {test_loss}\"\n",
    "    )"
   ]
  },
  {
   "cell_type": "code",
   "execution_count": 45,
   "metadata": {},
   "outputs": [
    {
     "name": "stdout",
     "output_type": "stream",
     "text": [
      "Train Loss: 7.494133552919852e+17 | Validation Loss: 5.300282413754014e+21 | Test Loss: 5.831731824324447e+17\n"
     ]
    }
   ],
   "source": [
    "train_loss = mean_squared_error(y_train, y_train_pred)\n",
    "validation_loss = mean_squared_error(y_validation, y_validation_pred)\n",
    "test_loss = mean_squared_error(y_test, y_test_pred)\n",
    "\n",
    "print(\n",
    "        f\"Train Loss: {train_loss} | Validation Loss: {validation_loss} | \"\n",
    "        f\"Test Loss: {test_loss}\"\n",
    "    )"
   ]
  },
  {
   "cell_type": "code",
   "execution_count": 46,
   "metadata": {},
   "outputs": [],
   "source": [
    "import matplotlib.pyplot as plt\n",
    "import numpy as np\n",
    "\n",
    "def plot_predictions(y_pred, y_true):\n",
    "    samples = len(y_pred)\n",
    "    plt.figure()\n",
    "    plt.scatter(np.arange(samples), y_pred, c='r', label='predictions')\n",
    "    plt.scatter(np.arange(samples), y_true, c='b', label='true labels', marker='x')\n",
    "    plt.legend()\n",
    "    plt.xlabel('Sample numbers')\n",
    "    plt.ylabel('Values')\n",
    "    plt.show()"
   ]
  },
  {
   "cell_type": "code",
   "execution_count": 47,
   "metadata": {},
   "outputs": [
    {
     "data": {
      "image/png": "[encoded data removed]",
      "text/plain": [
       "<Figure size 640x480 with 1 Axes>"
      ]
     },
     "metadata": {},
     "output_type": "display_data"
    }
   ],
   "source": [
    "plot_predictions(y_test_pred[:50], y_test[:50])"
   ]
  },
  {
   "attachments": {},
   "cell_type": "markdown",
   "metadata": {},
   "source": [
    "### Task 2 - Evaluate the regression model performance"
   ]
  },
  {
   "cell_type": "code",
   "execution_count": 51,
   "metadata": {},
   "outputs": [
    {
     "name": "stdout",
     "output_type": "stream",
     "text": [
      "MSE for train set: 7.494133552919852e+17 | MSE for test set: 5.831731824324447e+17\n"
     ]
    }
   ],
   "source": [
    "# Use sklearn to compute the key measures of performance for your regression model. \n",
    "# That should include the RMSE, and R^2 for both the training and test sets.\n",
    "\n",
    "# MSE for training and test sets.\n",
    "\n",
    "MSE_train = mean_squared_error(y_train, y_train_pred)\n",
    "MSE_test = mean_squared_error(y_test, y_test_pred)\n",
    "\n",
    "print(f\"MSE for train set: {MSE_train} | \"f\"MSE for test set: {MSE_test}\")\n"
   ]
  },
  {
   "cell_type": "code",
   "execution_count": 52,
   "metadata": {},
   "outputs": [
    {
     "name": "stdout",
     "output_type": "stream",
     "text": [
      "RMSE for train set: 865686638.046346 | RMSE for test set: 763657765.253811\n"
     ]
    }
   ],
   "source": [
    "# RMSE for both the training and test sets\n",
    "\n",
    "RMSE_train = mean_squared_error(y_train, y_train_pred, squared=False)\n",
    "RMSE_test = mean_squared_error(y_test, y_test_pred, squared=False)\n",
    "\n",
    "print(f\"RMSE for train set: {RMSE_train} | \"f\"RMSE for test set: {RMSE_test}\")\n",
    "\n"
   ]
  },
  {
   "cell_type": "code",
   "execution_count": 54,
   "metadata": {},
   "outputs": [
    {
     "name": "stdout",
     "output_type": "stream",
     "text": [
      "MAE for train set: 596761806.6588314 | MAE for test set: 530103898.94487834\n"
     ]
    }
   ],
   "source": [
    "# MAE for both the training and test sets\n",
    "\n",
    "from sklearn.metrics import mean_absolute_error\n",
    "\n",
    "MAE_train = mean_absolute_error(y_train, y_train_pred)\n",
    "MAE_test = mean_absolute_error(y_test, y_test_pred)\n",
    "\n",
    "print(f\"MAE for train set: {MAE_train} | \"f\"MAE for test set: {MAE_test}\")\n"
   ]
  },
  {
   "cell_type": "code",
   "execution_count": 55,
   "metadata": {},
   "outputs": [
    {
     "name": "stdout",
     "output_type": "stream",
     "text": [
      "R2 for train set: -36347033718035.555 | R2 for test set: -80826007116118.6\n"
     ]
    }
   ],
   "source": [
    "# R2 for both the training and test sets\n",
    "\n",
    "from sklearn.metrics import r2_score\n",
    "\n",
    "R2_train = r2_score(y_train, y_train_pred)\n",
    "R2_test = r2_score(y_test, y_test_pred)\n",
    "\n",
    "print(f\"R2 for train set: {R2_train} | \"f\"R2 for test set: {R2_test}\")\n",
    "\n"
   ]
  },
  {
   "attachments": {},
   "cell_type": "markdown",
   "metadata": {},
   "source": [
    "### Task 3 - Implement a custom function to tune the hyperparameters of the model\n"
   ]
  },
  {
   "cell_type": "code",
   "execution_count": 38,
   "metadata": {},
   "outputs": [],
   "source": [
    "from sklearn.metrics import mean_absolute_error, mean_squared_error\n",
    "from sklearn.metrics import r2_score\n",
    "import itertools\n",
    "\n",
    "def custom_tune_regression_model_hyperparameters(model_type, X_train, y_train, X_validation, y_validation, grid_dict):\n",
    "        keys, values = zip(*grid_dict.items())\n",
    "        iteration_dicts = [dict(zip(keys, v)) for v in itertools.product(*values)]\n",
    "        RMSE_list = []\n",
    "\n",
    "        for iteration in iteration_dicts:\n",
    "                model = model_type(learning_rate=iteration['learning_rate'], max_iter=iteration['max_iter'])\n",
    "                model.fit(X_train, y_train)\n",
    "                # y_train_pred = model.predict(X_train)\n",
    "                # train_RMSE = mean_squared_error(y_train, y_train_pred, squared=False)\n",
    "                y_validation_pred = model.predict(X_validation)\n",
    "                validation_RMSE = mean_squared_error(y_validation, y_validation_pred, squared=False)\n",
    "                validation_MAE = mean_absolute_error(y_validation, y_validation_pred)\n",
    "                validation_R2 = r2_score(y_validation, y_validation_pred)\n",
    "                RMSE_list.append(validation_RMSE)\n",
    "                print(f\"This iteration RMSE is {validation_RMSE}\")\n",
    "                if validation_RMSE <= min(RMSE_list):\n",
    "                        best_model = model\n",
    "                        best_iteration_parameters = iteration\n",
    "                        best_validation_RMSE = validation_RMSE\n",
    "                        best_validation_MAE = validation_MAE\n",
    "                        best_validation_R2 = validation_R2\n",
    "                        print(f\"The best RMSE is {best_validation_RMSE}\")\n",
    "                        performance_metrics = {'validation RMSE': best_validation_RMSE, 'validation MAE': best_validation_MAE, 'validation R2': best_validation_R2}\n",
    "        return best_model, performance_metrics, best_iteration_parameters\n",
    "        \n",
    "\n",
    "        # for lr, mi in zip(learning_rate, max_iter):\n",
    "        #         print(f\"Evaluating model with learning rate {lr:.3f}\"\n",
    "        #                 f\" and max iter {mi}... \", end=\"\")\n",
    "        #         model = model(learning_rate=lr, max_iter=mi)\n",
    "        #         model.fit(X_train, y_train)\n",
    "        #         train_RMSE = mean_squared_error(y_validation, y_validation_pred, squared=False)\n",
    "        #         validation_RMSE = mean_squared_error(y_validation, y_validation_pred, squared=False)\n",
    "                \n",
    "        #         train_MAE = mean_absolute_error(y_train, y_train_pred)\n",
    "        #         validation_MAE = mean_absolute_error(y_validation, y_validation_pred)\n",
    "\n",
    "        #         train_R2 = r2_score(y_train, y_train_pred)\n",
    "        #         validation_R2 = r2_score(y_validation, y_validation_pred)\n",
    "\n",
    "        #         print(f\"score: {validation_RMSE:.3f}\")\n",
    "        #         RMSE_list.append(validation_RMSE)\n",
    "\n",
    "\n",
    "        # if validation_RMSE <= min(RMSE_list):\n",
    "        #         best_model = model\n",
    "        #         best_parameters = {'learning rate': lr, 'maximum iterations': mi}\n",
    "        #         performance_metrics = {'validation RMSE': validation_RMSE, 'validation MAE': validation_MAE, 'validation R2': validation_R2}\n",
    "        \n",
    "\n",
    "        \n"
   ]
  },
  {
   "cell_type": "code",
   "execution_count": 44,
   "metadata": {},
   "outputs": [
    {
     "name": "stdout",
     "output_type": "stream",
     "text": [
      "This iteration RMSE is 7111616166258.326\n",
      "The best RMSE is 7111616166258.326\n",
      "This iteration RMSE is 23298808456326.965\n",
      "This iteration RMSE is 4497590095254.298\n",
      "The best RMSE is 4497590095254.298\n",
      "This iteration RMSE is 21146480867577.64\n",
      "This iteration RMSE is 20479151170349.39\n",
      "This iteration RMSE is 354199447293363.6\n",
      "This iteration RMSE is 188820130318607.94\n",
      "This iteration RMSE is 47058929756283.31\n",
      "This iteration RMSE is 191768022929.04593\n",
      "The best RMSE is 191768022929.04593\n",
      "This iteration RMSE is 27129761401.94475\n",
      "The best RMSE is 27129761401.94475\n",
      "This iteration RMSE is 11461346447.436975\n",
      "The best RMSE is 11461346447.436975\n",
      "This iteration RMSE is 15819863282.130156\n",
      "This iteration RMSE is 14341152941.221449\n",
      "This iteration RMSE is 12085513873.018772\n",
      "This iteration RMSE is 14626653858.89966\n",
      "This iteration RMSE is 6191989101.156755\n",
      "The best RMSE is 6191989101.156755\n",
      "The best model is SGDRegressor(learning_rate='adaptive', max_iter=2000)\n",
      "The best_parameters are {'learning_rate': 'adaptive', 'max_iter': 2000}\n",
      "The best performance_metrics are {'validation RMSE': 6191989101.156755, 'validation MAE': 4281844613.2662663, 'validation R2': -4499299570815918.0}\n"
     ]
    }
   ],
   "source": [
    "from sklearn.linear_model import SGDRegressor\n",
    "\n",
    "grid_dict = {'learning_rate': ['constant', 'optimal', 'invscaling', 'adaptive'], 'max_iter': [500, 1000, 1500, 2000]}\n",
    "\n",
    "best_model, performance_metrics, best_iteration_parameters = custom_tune_regression_model_hyperparameters(SGDRegressor, X_train, y_train, X_validation, y_validation, grid_dict)\n",
    "print(f\"The best model is {best_model}\")\n",
    "print(f\"The best_parameters are {best_iteration_parameters}\")\n",
    "print(f\"The best performance_metrics are {performance_metrics}\")"
   ]
  },
  {
   "cell_type": "code",
   "execution_count": 17,
   "metadata": {},
   "outputs": [],
   "source": [
    "from sklearn.metrics import mean_absolute_error\n",
    "from sklearn.metrics import r2_score\n",
    "import itertools\n",
    "\n",
    "\n",
    "learning_rate = [0.01, 0.1, 1, 10]\n",
    "max_iter = [500, 1000, 1500, 2000]\n",
    "\n"
   ]
  },
  {
   "cell_type": "code",
   "execution_count": 30,
   "metadata": {},
   "outputs": [
    {
     "name": "stdout",
     "output_type": "stream",
     "text": [
      "[{'learning rate': 0.01, 'max_iter': 500}, {'learning rate': 0.01, 'max_iter': 1000}, {'learning rate': 0.01, 'max_iter': 1500}, {'learning rate': 0.01, 'max_iter': 2000}, {'learning rate': 0.1, 'max_iter': 500}, {'learning rate': 0.1, 'max_iter': 1000}, {'learning rate': 0.1, 'max_iter': 1500}, {'learning rate': 0.1, 'max_iter': 2000}, {'learning rate': 1, 'max_iter': 500}, {'learning rate': 1, 'max_iter': 1000}, {'learning rate': 1, 'max_iter': 1500}, {'learning rate': 1, 'max_iter': 2000}, {'learning rate': 10, 'max_iter': 500}, {'learning rate': 10, 'max_iter': 1000}, {'learning rate': 10, 'max_iter': 1500}, {'learning rate': 10, 'max_iter': 2000}]\n",
      "500\n",
      "1000\n",
      "1500\n",
      "2000\n",
      "500\n",
      "1000\n",
      "1500\n",
      "2000\n",
      "500\n",
      "1000\n",
      "1500\n",
      "2000\n",
      "500\n",
      "1000\n",
      "1500\n",
      "2000\n"
     ]
    }
   ],
   "source": [
    "grid_dict = {'learning rate': [0.01, 0.1, 1, 10], 'max_iter': [500, 1000, 1500, 2000]}\n",
    "import itertools\n",
    "\n",
    "keys, values = zip(*grid_dict.items())\n",
    "iteration_dicts = [dict(zip(keys, v)) for v in itertools.product(*values)]\n",
    "\n",
    "print(iteration_dicts)\n",
    "\n",
    "for iteration in iteration_dicts:\n",
    "    print(iteration['max_iter'])\n"
   ]
  },
  {
   "cell_type": "code",
   "execution_count": 19,
   "metadata": {},
   "outputs": [
    {
     "name": "stdout",
     "output_type": "stream",
     "text": [
      "('learning rate', 'max_iter') ([0.01, 0.1, 1, 10], [500, 1000, 1500, 2000])\n"
     ]
    }
   ],
   "source": [
    "print(keys, values)"
   ]
  },
  {
   "cell_type": "code",
   "execution_count": 24,
   "metadata": {},
   "outputs": [
    {
     "name": "stdout",
     "output_type": "stream",
     "text": [
      "('learning rate', 'max_iter') ([0.01, 0.1, 1, 10], [500, 1000, 1500, 2000])\n"
     ]
    }
   ],
   "source": [
    "keys, values = zip(*grid_dict.items())\n",
    "\n",
    "print(keys, values)"
   ]
  },
  {
   "cell_type": "code",
   "execution_count": 25,
   "metadata": {},
   "outputs": [],
   "source": [
    "iteration_dicts = [dict(zip(keys, v)) for v in itertools.product(*values)]\n",
    "\n"
   ]
  },
  {
   "cell_type": "code",
   "execution_count": 26,
   "metadata": {},
   "outputs": [
    {
     "name": "stdout",
     "output_type": "stream",
     "text": [
      "(0.01, 500)\n",
      "(0.01, 1000)\n",
      "(0.01, 1500)\n",
      "(0.01, 2000)\n",
      "(0.1, 500)\n",
      "(0.1, 1000)\n",
      "(0.1, 1500)\n",
      "(0.1, 2000)\n",
      "(1, 500)\n",
      "(1, 1000)\n",
      "(1, 1500)\n",
      "(1, 2000)\n",
      "(10, 500)\n",
      "(10, 1000)\n",
      "(10, 1500)\n",
      "(10, 2000)\n"
     ]
    }
   ],
   "source": [
    "for v in itertools.product(*values):\n",
    "    print(v)\n"
   ]
  },
  {
   "cell_type": "code",
   "execution_count": 27,
   "metadata": {},
   "outputs": [
    {
     "name": "stdout",
     "output_type": "stream",
     "text": [
      "[{'learning rate': 0.01, 'max_iter': 500}, {'learning rate': 0.01, 'max_iter': 1000}, {'learning rate': 0.01, 'max_iter': 1500}, {'learning rate': 0.01, 'max_iter': 2000}, {'learning rate': 0.1, 'max_iter': 500}, {'learning rate': 0.1, 'max_iter': 1000}, {'learning rate': 0.1, 'max_iter': 1500}, {'learning rate': 0.1, 'max_iter': 2000}, {'learning rate': 1, 'max_iter': 500}, {'learning rate': 1, 'max_iter': 1000}, {'learning rate': 1, 'max_iter': 1500}, {'learning rate': 1, 'max_iter': 2000}, {'learning rate': 10, 'max_iter': 500}, {'learning rate': 10, 'max_iter': 1000}, {'learning rate': 10, 'max_iter': 1500}, {'learning rate': 10, 'max_iter': 2000}]\n"
     ]
    }
   ],
   "source": [
    "iteration_dicts = []\n",
    "for v in itertools.product(*values):\n",
    "    d = dict(zip(keys,v))\n",
    "    iteration_dicts.append(d)\n",
    "\n",
    "print(iteration_dicts)"
   ]
  }
 ],
 "metadata": {
  "kernelspec": {
   "display_name": "Python 3.9.13 ('airbnb_venv': venv)",
   "language": "python",
   "name": "python3"
  },
  "language_info": {
   "codemirror_mode": {
    "name": "ipython",
    "version": 3
   },
   "file_extension": ".py",
   "mimetype": "text/x-python",
   "name": "python",
   "nbconvert_exporter": "python",
   "pygments_lexer": "ipython3",
   "version": "3.9.13"
  },
  "orig_nbformat": 4,
  "vscode": {
   "interpreter": {
    "hash": "542ceaa9af875ce9b2350b4f7ccf68c23e5d3425160335ff7a67958514d7a01e"
   }
  }
 },
 "nbformat": 4,
 "nbformat_minor": 2
}
