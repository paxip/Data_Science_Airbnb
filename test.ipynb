{
 "cells": [
  {
   "cell_type": "code",
   "execution_count": 83,
   "metadata": {},
   "outputs": [],
   "source": [
    "import pandas as pd"
   ]
  },
  {
   "attachments": {},
   "cell_type": "markdown",
   "metadata": {},
   "source": [
    "## Milestone 3 - Data Preparation"
   ]
  },
  {
   "cell_type": "markdown",
   "metadata": {},
   "source": [
    "### Task 1"
   ]
  },
  {
   "cell_type": "code",
   "execution_count": 63,
   "metadata": {},
   "outputs": [
    {
     "data": {
      "text/plain": [
       "'\\ndef remove_rows_with_missing_ratings()\\nremoves the rows with missing values in these columns. \\nIt should take in the dataset as a pandas dataframe and return the same type.\\n\\ndef combine_description_strings() \\nThe \"Description\" column contains lists of strings. \\nPandas recognises these as strings containing python lists\\n1. Remove records with a missing description.\\n2. Remove the \\'About this space\\' prefix which every description starts with.\\n3. Remove empty quotes from lists.\\n3. Combine/ join the list items into one string.\\nIt should take in the dataset as a pandas dataframe and return the same type.\\n\\ndef set_default_feature_values()\\nReplace entries with empty values with the number 1. \\nIt should take in the dataset as a pandas dataframe and return the same type.\\n\\ndef clean_tabular_data()\\nTakes in the raw data frame.\\ncalls the three functions above sequentially \\non the output of the previous one, \\nand returns the processed data.\\n\\nif __name__ == \"__main__\"\\n1. Load the raw data in using pandas\\n2. Call clean_tabular_data on it\\n3. Save the processed data as clean_tabular_data.csv in the same folder \\nas you found the raw tabular data.\\n\\n\\n'"
      ]
     },
     "execution_count": 63,
     "metadata": {},
     "output_type": "execute_result"
    }
   ],
   "source": [
    "'''\n",
    "def remove_rows_with_missing_ratings()\n",
    "removes the rows with missing values in these columns. \n",
    "It should take in the dataset as a pandas dataframe and return the same type.\n",
    "\n",
    "def combine_description_strings() \n",
    "The \"Description\" column contains lists of strings. \n",
    "Pandas recognises these as strings containing python lists\n",
    "1. Remove records with a missing description.\n",
    "2. Remove the 'About this space' prefix which every description starts with.\n",
    "3. Remove empty quotes from lists.\n",
    "3. Combine/ join the list items into one string.\n",
    "It should take in the dataset as a pandas dataframe and return the same type.\n",
    "\n",
    "def set_default_feature_values()\n",
    "Replace entries with empty values with the number 1. \n",
    "It should take in the dataset as a pandas dataframe and return the same type.\n",
    "\n",
    "def clean_tabular_data()\n",
    "Takes in the raw data frame.\n",
    "calls the three functions above sequentially \n",
    "on the output of the previous one, \n",
    "and returns the processed data.\n",
    "\n",
    "if __name__ == \"__main__\"\n",
    "1. Load the raw data in using pandas\n",
    "2. Call clean_tabular_data on it\n",
    "3. Save the processed data as clean_tabular_data.csv in the same folder \n",
    "as you found the raw tabular data.\n",
    "\n",
    "\n",
    "'''"
   ]
  },
  {
   "cell_type": "code",
   "execution_count": 84,
   "metadata": {},
   "outputs": [
    {
     "name": "stdout",
     "output_type": "stream",
     "text": [
      "<class 'pandas.core.frame.DataFrame'>\n",
      "RangeIndex: 988 entries, 0 to 987\n",
      "Data columns (total 20 columns):\n",
      " #   Column                Non-Null Count  Dtype  \n",
      "---  ------                --------------  -----  \n",
      " 0   ID                    988 non-null    object \n",
      " 1   Category              988 non-null    object \n",
      " 2   Title                 988 non-null    object \n",
      " 3   Description           900 non-null    object \n",
      " 4   Amenities             988 non-null    object \n",
      " 5   Location              988 non-null    object \n",
      " 6   guests                969 non-null    object \n",
      " 7   beds                  945 non-null    float64\n",
      " 8   bathrooms             888 non-null    float64\n",
      " 9   Price_Night           988 non-null    int64  \n",
      " 10  Cleanliness_rating    890 non-null    float64\n",
      " 11  Accuracy_rating       890 non-null    float64\n",
      " 12  Communication_rating  890 non-null    float64\n",
      " 13  Location_rating       890 non-null    float64\n",
      " 14  Check-in_rating       890 non-null    float64\n",
      " 15  Value_rating          890 non-null    float64\n",
      " 16  amenities_count       988 non-null    float64\n",
      " 17  url                   988 non-null    object \n",
      " 18  bedrooms              906 non-null    object \n",
      " 19  Unnamed: 19           1 non-null      float64\n",
      "dtypes: float64(10), int64(1), object(9)\n",
      "memory usage: 154.5+ KB\n"
     ]
    }
   ],
   "source": [
    "tabular_data_df = pd.read_csv('listing.csv')\n",
    "tabular_data_df.info()"
   ]
  },
  {
   "cell_type": "code",
   "execution_count": 85,
   "metadata": {},
   "outputs": [
    {
     "data": {
      "text/plain": [
       "ID                        0\n",
       "Category                  0\n",
       "Title                     0\n",
       "Description              88\n",
       "Amenities                 0\n",
       "Location                  0\n",
       "guests                   19\n",
       "beds                     43\n",
       "bathrooms               100\n",
       "Price_Night               0\n",
       "Cleanliness_rating       98\n",
       "Accuracy_rating          98\n",
       "Communication_rating     98\n",
       "Location_rating          98\n",
       "Check-in_rating          98\n",
       "Value_rating             98\n",
       "amenities_count           0\n",
       "url                       0\n",
       "bedrooms                 82\n",
       "Unnamed: 19             987\n",
       "dtype: int64"
      ]
     },
     "execution_count": 85,
     "metadata": {},
     "output_type": "execute_result"
    }
   ],
   "source": [
    "tabular_data_df.isna().sum()"
   ]
  },
  {
   "cell_type": "code",
   "execution_count": 66,
   "metadata": {},
   "outputs": [
    {
     "data": {
      "text/plain": [
       "ID                       object\n",
       "Category                 object\n",
       "Title                    object\n",
       "Description              object\n",
       "Amenities                object\n",
       "Location                 object\n",
       "guests                   object\n",
       "beds                    float64\n",
       "bathrooms               float64\n",
       "Price_Night               int64\n",
       "Cleanliness_rating      float64\n",
       "Accuracy_rating         float64\n",
       "Communication_rating    float64\n",
       "Location_rating         float64\n",
       "Check-in_rating         float64\n",
       "Value_rating            float64\n",
       "amenities_count         float64\n",
       "url                      object\n",
       "bedrooms                 object\n",
       "Unnamed: 19             float64\n",
       "dtype: object"
      ]
     },
     "execution_count": 66,
     "metadata": {},
     "output_type": "execute_result"
    }
   ],
   "source": [
    "tabular_data_df.dtypes"
   ]
  },
  {
   "cell_type": "code",
   "execution_count": 86,
   "metadata": {},
   "outputs": [],
   "source": [
    "tabular_data_df.dropna(subset=['Cleanliness_rating', 'Accuracy_rating', 'Communication_rating', 'Location_rating', 'Check-in_rating', 'Value_rating'], inplace=True)"
   ]
  },
  {
   "cell_type": "code",
   "execution_count": 87,
   "metadata": {},
   "outputs": [
    {
     "data": {
      "text/plain": [
       "ID                        0\n",
       "Category                  0\n",
       "Title                     0\n",
       "Description              60\n",
       "Amenities                 0\n",
       "Location                  0\n",
       "guests                   18\n",
       "beds                     34\n",
       "bathrooms                79\n",
       "Price_Night               0\n",
       "Cleanliness_rating        0\n",
       "Accuracy_rating           0\n",
       "Communication_rating      0\n",
       "Location_rating           0\n",
       "Check-in_rating           0\n",
       "Value_rating              0\n",
       "amenities_count           0\n",
       "url                       0\n",
       "bedrooms                 76\n",
       "Unnamed: 19             889\n",
       "dtype: int64"
      ]
     },
     "execution_count": 87,
     "metadata": {},
     "output_type": "execute_result"
    }
   ],
   "source": [
    "tabular_data_df.isna().sum()"
   ]
  },
  {
   "cell_type": "code",
   "execution_count": 69,
   "metadata": {},
   "outputs": [
    {
     "data": {
      "text/plain": [
       "0      ['About this space', \"Escape to one of these t...\n",
       "1      ['About this space', \"Come and spend a romanti...\n",
       "2      ['About this space', 'Rustic cabin between the...\n",
       "3      ['About this space', 'The Tree top cabin is si...\n",
       "5      ['About this space', 'Charming cabin nestled i...\n",
       "                             ...                        \n",
       "982    ['About this space', 'An apartment directly on...\n",
       "983    ['About this space', 'Light roomy space with o...\n",
       "984    ['About this space', 'This specious two bedroo...\n",
       "985    ['About this space', 'With all the modern amen...\n",
       "987    ['About this space', 'Sea Scenes is a homely t...\n",
       "Name: Description, Length: 890, dtype: object"
      ]
     },
     "execution_count": 69,
     "metadata": {},
     "output_type": "execute_result"
    }
   ],
   "source": [
    "description_df = tabular_data_df['Description']\n",
    "description_df"
   ]
  },
  {
   "cell_type": "code",
   "execution_count": 70,
   "metadata": {},
   "outputs": [
    {
     "data": {
      "text/plain": [
       "str"
      ]
     },
     "execution_count": 70,
     "metadata": {},
     "output_type": "execute_result"
    }
   ],
   "source": [
    "type(description_df.loc[982])"
   ]
  },
  {
   "cell_type": "code",
   "execution_count": 71,
   "metadata": {},
   "outputs": [
    {
     "data": {
      "text/plain": [
       "str"
      ]
     },
     "execution_count": 71,
     "metadata": {},
     "output_type": "execute_result"
    }
   ],
   "source": [
    "type(description_df.loc[982])"
   ]
  },
  {
   "cell_type": "code",
   "execution_count": 72,
   "metadata": {},
   "outputs": [],
   "source": [
    "tabular_data_df.dropna(subset=['Description'], inplace=True)\n"
   ]
  },
  {
   "cell_type": "code",
   "execution_count": 73,
   "metadata": {},
   "outputs": [
    {
     "data": {
      "text/plain": [
       "ID                        0\n",
       "Category                  0\n",
       "Title                     0\n",
       "Description               0\n",
       "Amenities                 0\n",
       "Location                  0\n",
       "guests                   15\n",
       "beds                     29\n",
       "bathrooms                65\n",
       "Price_Night               0\n",
       "Cleanliness_rating        0\n",
       "Accuracy_rating           0\n",
       "Communication_rating      0\n",
       "Location_rating           0\n",
       "Check-in_rating           0\n",
       "Value_rating              0\n",
       "amenities_count           0\n",
       "url                       0\n",
       "bedrooms                 70\n",
       "Unnamed: 19             829\n",
       "dtype: int64"
      ]
     },
     "execution_count": 73,
     "metadata": {},
     "output_type": "execute_result"
    }
   ],
   "source": [
    "tabular_data_df.isna().sum()"
   ]
  },
  {
   "cell_type": "code",
   "execution_count": 74,
   "metadata": {},
   "outputs": [
    {
     "data": {
      "text/plain": [
       "'[\\'About this space\\', \"Escape to one of these two fabulous Tree Tents. Suspended high above the canopy, it’s time to appreciate life from a new perspective. Featured on George Clarke’s Amazing Spaces, these Tree Tents are a feat of aviation technology. Tree Tent comes complete with fire pit, outdoor kitchen and shower with hot water. You’ll discover a comfortable bed and cosy wood burning stove. Part of the Red Kite Estate, along with our barn and its sister tree tent, the first ever built in the UK, Dragon\\'s Egg.\", \\'The space\\', \\'The space\\\\nThe true joy of this place is how wonderfully simple it is (aviation technology aside). Days are filled with fireside discussions, wildlife watching and stunningly beautiful walks. With the nearest mobile signal a ten minute walk away, it’s a great place to ditch the digital and truly escape. Head over the bridge to your own private deck that happily houses a clever outdoor-kitchen and shower (complete with hot water). It’s the perfect spot to fry up breakfast whilst basking in peace and tranquility. There is also a flushing toilet situated just up the hill.And don’t worry, you’re not totally left to your own devices, on arrival you can expect bed linen, towels and a load of dry wood and kindling. If you feel the need to leave your new found homestead in the trees then the local area has lots of suitably chilled things to do. Head out on a moorland walk to take in some magical views - and perhaps even grab a pint at the local pub en route. Further afield, the stunning Elan Valley, a landscape bursting with impressive dams and reservoirs, is well worthy of an explore. And for those needing supplies - and perhaps a flat white - then the friendly market town of Builth Wells is just down the road.\\', \\'\\', \\'\\', \\'\\', \\'Other things to note\\\\nYou are entering a remote woodland hideaway for a digital detox: there is very patchy mobile signal and limited internet connectivity.\\']'"
      ]
     },
     "execution_count": 74,
     "metadata": {},
     "output_type": "execute_result"
    }
   ],
   "source": [
    "tabular_data_df['Description'].loc[0]"
   ]
  },
  {
   "cell_type": "code",
   "execution_count": 75,
   "metadata": {},
   "outputs": [
    {
     "data": {
      "text/plain": [
       "str"
      ]
     },
     "execution_count": 75,
     "metadata": {},
     "output_type": "execute_result"
    }
   ],
   "source": [
    "type(tabular_data_df['Description'].loc[0])"
   ]
  },
  {
   "cell_type": "code",
   "execution_count": 76,
   "metadata": {},
   "outputs": [
    {
     "data": {
      "text/plain": [
       "0      Escape to one of these two fabulous Tree Tents...\n",
       "1      Come and spend a romantic stay with a couple o...\n",
       "2      Rustic cabin between the pines, 3 meters high ...\n",
       "3      The Tree top cabin is situated in our peaceful...\n",
       "5      Charming cabin nestled in the leaves, real unu...\n",
       "                             ...                        \n",
       "982    An apartment directly on the beach at Lancing,...\n",
       "983    Light roomy space with outside garden 5 minute...\n",
       "984    This specious two bedroom flat on the sea fron...\n",
       "985    With all the modern amenities, our contemporar...\n",
       "987    Sea Scenes is a homely two bedroom groundfloor...\n",
       "Name: Description, Length: 830, dtype: object"
      ]
     },
     "execution_count": 76,
     "metadata": {},
     "output_type": "execute_result"
    }
   ],
   "source": [
    "from ast import literal_eval\n",
    "\n",
    "def clean_description_strings(text):\n",
    "    try:\n",
    "        description_list = literal_eval(text)\n",
    "        description_list.remove('About this space')\n",
    "        description_list = ''.join(description_list)\n",
    "        return description_list\n",
    "    except Exception as e:\n",
    "        return text\n",
    "        \n",
    "\n",
    "\n",
    "tabular_data_df['Description'] = tabular_data_df['Description'].apply(clean_description_strings) \n",
    "    \n",
    "tabular_data_df['Description']\n",
    "\n"
   ]
  },
  {
   "cell_type": "code",
   "execution_count": 77,
   "metadata": {},
   "outputs": [],
   "source": [
    "tabular_data_df['Description'].replace([r\"\\\\n\", \"\\n\", r\"\\'\"], [\" \",\" \",\"\"], regex=True, inplace=True)"
   ]
  },
  {
   "cell_type": "code",
   "execution_count": 78,
   "metadata": {},
   "outputs": [
    {
     "data": {
      "text/plain": [
       "'Escape to one of these two fabulous Tree Tents. Suspended high above the canopy, it’s time to appreciate life from a new perspective. Featured on George Clarke’s Amazing Spaces, these Tree Tents are a feat of aviation technology. Tree Tent comes complete with fire pit, outdoor kitchen and shower with hot water. You’ll discover a comfortable bed and cosy wood burning stove. Part of the Red Kite Estate, along with our barn and its sister tree tent, the first ever built in the UK, Dragons Egg.The spaceThe space The true joy of this place is how wonderfully simple it is (aviation technology aside). Days are filled with fireside discussions, wildlife watching and stunningly beautiful walks. With the nearest mobile signal a ten minute walk away, it’s a great place to ditch the digital and truly escape. Head over the bridge to your own private deck that happily houses a clever outdoor-kitchen and shower (complete with hot water). It’s the perfect spot to fry up breakfast whilst basking in peace and tranquility. There is also a flushing toilet situated just up the hill.And don’t worry, you’re not totally left to your own devices, on arrival you can expect bed linen, towels and a load of dry wood and kindling. If you feel the need to leave your new found homestead in the trees then the local area has lots of suitably chilled things to do. Head out on a moorland walk to take in some magical views - and perhaps even grab a pint at the local pub en route. Further afield, the stunning Elan Valley, a landscape bursting with impressive dams and reservoirs, is well worthy of an explore. And for those needing supplies - and perhaps a flat white - then the friendly market town of Builth Wells is just down the road.Other things to note You are entering a remote woodland hideaway for a digital detox: there is very patchy mobile signal and limited internet connectivity.'"
      ]
     },
     "execution_count": 78,
     "metadata": {},
     "output_type": "execute_result"
    }
   ],
   "source": [
    "tabular_data_df['Description'].loc[0]"
   ]
  },
  {
   "cell_type": "code",
   "execution_count": 79,
   "metadata": {},
   "outputs": [
    {
     "ename": "SyntaxError",
     "evalue": "invalid syntax (<unknown>, line 1)",
     "output_type": "error",
     "traceback": [
      "Traceback \u001b[0;36m(most recent call last)\u001b[0m:\n",
      "\u001b[0m  File \u001b[1;32m~/Documents/GitHub/Data_Science_Airbnb/airbnb_venv/lib/python3.9/site-packages/IPython/core/interactiveshell.py:3433\u001b[0m in \u001b[1;35mrun_code\u001b[0m\n    exec(code_obj, self.user_global_ns, self.user_ns)\u001b[0m\n",
      "\u001b[0m  Cell \u001b[1;32mIn[79], line 3\u001b[0m\n    tabular_data_df['Description'] = tabular_data_df['Description'].apply(lambda x : literal_eval(str(x)))\u001b[0m\n",
      "\u001b[0m  File \u001b[1;32m~/Documents/GitHub/Data_Science_Airbnb/airbnb_venv/lib/python3.9/site-packages/pandas/core/series.py:4771\u001b[0m in \u001b[1;35mapply\u001b[0m\n    return SeriesApply(self, func, convert_dtype, args, kwargs).apply()\u001b[0m\n",
      "\u001b[0m  File \u001b[1;32m~/Documents/GitHub/Data_Science_Airbnb/airbnb_venv/lib/python3.9/site-packages/pandas/core/apply.py:1105\u001b[0m in \u001b[1;35mapply\u001b[0m\n    return self.apply_standard()\u001b[0m\n",
      "\u001b[0m  File \u001b[1;32m~/Documents/GitHub/Data_Science_Airbnb/airbnb_venv/lib/python3.9/site-packages/pandas/core/apply.py:1156\u001b[0m in \u001b[1;35mapply_standard\u001b[0m\n    mapped = lib.map_infer(\u001b[0m\n",
      "\u001b[0m  File \u001b[1;32mpandas/_libs/lib.pyx:2918\u001b[0m in \u001b[1;35mpandas._libs.lib.map_infer\u001b[0m\n",
      "\u001b[0m  Cell \u001b[1;32mIn[79], line 3\u001b[0m in \u001b[1;35m<lambda>\u001b[0m\n    tabular_data_df['Description'] = tabular_data_df['Description'].apply(lambda x : literal_eval(str(x)))\u001b[0m\n",
      "\u001b[0m  File \u001b[1;32m/Library/Frameworks/Python.framework/Versions/3.9/lib/python3.9/ast.py:62\u001b[0m in \u001b[1;35mliteral_eval\u001b[0m\n    node_or_string = parse(node_or_string, mode='eval')\u001b[0m\n",
      "\u001b[0;36m  File \u001b[0;32m/Library/Frameworks/Python.framework/Versions/3.9/lib/python3.9/ast.py:50\u001b[0;36m in \u001b[0;35mparse\u001b[0;36m\n\u001b[0;31m    return compile(source, filename, mode, flags,\u001b[0;36m\n",
      "\u001b[0;36m  File \u001b[0;32m<unknown>:1\u001b[0;36m\u001b[0m\n\u001b[0;31m    Escape to one of these two fabulous Tree Tents. Suspended high above the canopy, it’s time to appreciate life from a new perspective. Featured on George Clarke’s Amazing Spaces, these Tree Tents are a feat of aviation technology. Tree Tent comes complete with fire pit, outdoor kitchen and shower with hot water. You’ll discover a comfortable bed and cosy wood burning stove. Part of the Red Kite Estate, along with our barn and its sister tree tent, the first ever built in the UK, Dragons Egg.The spaceThe space The true joy of this place is how wonderfully simple it is (aviation technology aside). Days are filled with fireside discussions, wildlife watching and stunningly beautiful walks. With the nearest mobile signal a ten minute walk away, it’s a great place to ditch the digital and truly escape. Head over the bridge to your own private deck that happily houses a clever outdoor-kitchen and shower (complete with hot water). It’s the perfect spot to fry up breakfast whilst basking in peace and tranquility. There is also a flushing toilet situated just up the hill.And don’t worry, you’re not totally left to your own devices, on arrival you can expect bed linen, towels and a load of dry wood and kindling. If you feel the need to leave your new found homestead in the trees then the local area has lots of suitably chilled things to do. Head out on a moorland walk to take in some magical views - and perhaps even grab a pint at the local pub en route. Further afield, the stunning Elan Valley, a landscape bursting with impressive dams and reservoirs, is well worthy of an explore. And for those needing supplies - and perhaps a flat white - then the friendly market town of Builth Wells is just down the road.Other things to note You are entering a remote woodland hideaway for a digital detox: there is very patchy mobile signal and limited internet connectivity.\u001b[0m\n\u001b[0m           ^\u001b[0m\n\u001b[0;31mSyntaxError\u001b[0m\u001b[0;31m:\u001b[0m invalid syntax\n"
     ]
    }
   ],
   "source": [
    "from ast import literal_eval\n",
    "\n",
    "tabular_data_df['Description'] = tabular_data_df['Description'].apply(lambda x : literal_eval(str(x)))\n"
   ]
  },
  {
   "cell_type": "code",
   "execution_count": null,
   "metadata": {},
   "outputs": [
    {
     "ename": "IndentationError",
     "evalue": "unexpected indent (<unknown>, line 1)",
     "output_type": "error",
     "traceback": [
      "Traceback \u001b[0;36m(most recent call last)\u001b[0m:\n",
      "\u001b[0m  File \u001b[1;32m~/Documents/GitHub/Data_Science_Airbnb/airbnb_venv/lib/python3.9/site-packages/IPython/core/interactiveshell.py:3433\u001b[0m in \u001b[1;35mrun_code\u001b[0m\n    exec(code_obj, self.user_global_ns, self.user_ns)\u001b[0m\n",
      "\u001b[0m  Cell \u001b[1;32mIn[51], line 9\u001b[0m\n    tabular_data_df['Description'] = tabular_data_df['Description'].apply(literal_return)\u001b[0m\n",
      "\u001b[0m  File \u001b[1;32m~/Documents/GitHub/Data_Science_Airbnb/airbnb_venv/lib/python3.9/site-packages/pandas/core/series.py:4771\u001b[0m in \u001b[1;35mapply\u001b[0m\n    return SeriesApply(self, func, convert_dtype, args, kwargs).apply()\u001b[0m\n",
      "\u001b[0m  File \u001b[1;32m~/Documents/GitHub/Data_Science_Airbnb/airbnb_venv/lib/python3.9/site-packages/pandas/core/apply.py:1105\u001b[0m in \u001b[1;35mapply\u001b[0m\n    return self.apply_standard()\u001b[0m\n",
      "\u001b[0m  File \u001b[1;32m~/Documents/GitHub/Data_Science_Airbnb/airbnb_venv/lib/python3.9/site-packages/pandas/core/apply.py:1156\u001b[0m in \u001b[1;35mapply_standard\u001b[0m\n    mapped = lib.map_infer(\u001b[0m\n",
      "\u001b[0m  File \u001b[1;32mpandas/_libs/lib.pyx:2918\u001b[0m in \u001b[1;35mpandas._libs.lib.map_infer\u001b[0m\n",
      "\u001b[0m  Cell \u001b[1;32mIn[51], line 5\u001b[0m in \u001b[1;35mliteral_return\u001b[0m\n    return literal_eval(val)\u001b[0m\n",
      "\u001b[0m  File \u001b[1;32m/Library/Frameworks/Python.framework/Versions/3.9/lib/python3.9/ast.py:62\u001b[0m in \u001b[1;35mliteral_eval\u001b[0m\n    node_or_string = parse(node_or_string, mode='eval')\u001b[0m\n",
      "\u001b[0;36m  File \u001b[0;32m/Library/Frameworks/Python.framework/Versions/3.9/lib/python3.9/ast.py:50\u001b[0;36m in \u001b[0;35mparse\u001b[0;36m\n\u001b[0;31m    return compile(source, filename, mode, flags,\u001b[0;36m\n",
      "\u001b[0;36m  File \u001b[0;32m<unknown>:1\u001b[0;36m\u001b[0m\n\u001b[0;31m    sleeps 6 with pool\u001b[0m\n\u001b[0m    ^\u001b[0m\n\u001b[0;31mIndentationError\u001b[0m\u001b[0;31m:\u001b[0m unexpected indent\n"
     ]
    }
   ],
   "source": [
    "from ast import literal_eval\n",
    "\n",
    "def literal_return(val):\n",
    "    try:\n",
    "        return literal_eval(val)\n",
    "    except ValueError:\n",
    "        return (val)\n",
    "\n",
    "tabular_data_df['Description'] = tabular_data_df['Description'].apply(literal_return)"
   ]
  },
  {
   "cell_type": "code",
   "execution_count": null,
   "metadata": {},
   "outputs": [],
   "source": [
    "class Clean_airbnb_tabular_data:\n",
    "    # don't forget init method!\n",
    "\n",
    "    def remove_rows_with_missing_ratings(self):\n",
    "        tabular_data_df.dropna(subset=['Cleanliness_rating', 'Accuracy_rating', 'Communication_rating', 'Location_rating', 'Check-in_rating', 'Value_rating'], inplace=True)\n",
    "        print(tabular_data_df.isna().sum())\n",
    "        return tabular_data_df\n",
    "\n",
    "    def combine_description_strings():\n",
    "        \n",
    "        \n",
    "\n",
    "        \n",
    "        \n",
    "\n",
    "    \n",
    "\n",
    "\n",
    "\n",
    "        \n",
    "        \n",
    "def clean_description_strings(text):\n",
    "    try:\n",
    "        description_list = literal_eval(text)\n",
    "        description_list.remove('About this space')\n",
    "        description_list = ''.join(description_list)\n",
    "        return description_list\n",
    "    except Exception as e:\n",
    "        return text\n",
    "        \n",
    "\n",
    "\n",
    "tabular_data_df['Description'] = tabular_data_df['Description'].apply(clean_description_strings) \n",
    "    \n",
    "tabular_data_df['Description']\n",
    "\n",
    "\n",
    "\n",
    "\n",
    "\n",
    "\n",
    "\n",
    "\n",
    "\n",
    "\n",
    "\n",
    "\n",
    "\n",
    "\n",
    "\n",
    "if __name__ == \"__main__\":\n",
    "    tabular_data_df = pd.read_csv('listing.csv')\n"
   ]
  },
  {
   "attachments": {},
   "cell_type": "markdown",
   "metadata": {},
   "source": [
    "### Task 1 - Final solution"
   ]
  },
  {
   "cell_type": "code",
   "execution_count": 82,
   "metadata": {},
   "outputs": [
    {
     "ename": "IndentationError",
     "evalue": "expected an indented block (290087931.py, line 15)",
     "output_type": "error",
     "traceback": [
      "\u001b[0;36m  Cell \u001b[0;32mIn[82], line 15\u001b[0;36m\u001b[0m\n\u001b[0;31m    \u001b[0m\n\u001b[0m    ^\u001b[0m\n\u001b[0;31mIndentationError\u001b[0m\u001b[0;31m:\u001b[0m expected an indented block\n"
     ]
    }
   ],
   "source": [
    "class Data_Preparation:\n",
    "    # don't forget init method!\n",
    "\n",
    "    def remove_rows_with_missing_ratings():\n",
    "        listings_df = pd.read_csv('listing.csv')\n",
    "        listings_df.dropna(subset=['Cleanliness_rating', 'Accuracy_rating', 'Communication_rating', 'Location_rating', 'Check-in_rating', 'Value_rating'], inplace=True)\n",
    "        return listings_df\n",
    "\n",
    "    def combine_description_strings():\n",
    "        listings_df.dropna(subset=['Description'], inplace=True)\n"
   ]
  }
 ],
 "metadata": {
  "kernelspec": {
   "display_name": "Python 3.9.13 ('airbnb_venv': venv)",
   "language": "python",
   "name": "python3"
  },
  "language_info": {
   "codemirror_mode": {
    "name": "ipython",
    "version": 3
   },
   "file_extension": ".py",
   "mimetype": "text/x-python",
   "name": "python",
   "nbconvert_exporter": "python",
   "pygments_lexer": "ipython3",
   "version": "3.9.13"
  },
  "orig_nbformat": 4,
  "vscode": {
   "interpreter": {
    "hash": "542ceaa9af875ce9b2350b4f7ccf68c23e5d3425160335ff7a67958514d7a01e"
   }
  }
 },
 "nbformat": 4,
 "nbformat_minor": 2
}
