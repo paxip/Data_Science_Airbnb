{
 "cells": [
  {
   "cell_type": "code",
   "execution_count": 1,
   "metadata": {},
   "outputs": [],
   "source": [
    "import pandas as pd"
   ]
  },
  {
   "cell_type": "markdown",
   "metadata": {},
   "source": [
    "## Milestone 3"
   ]
  },
  {
   "cell_type": "markdown",
   "metadata": {},
   "source": [
    "### Task 1"
   ]
  },
  {
   "cell_type": "code",
   "execution_count": null,
   "metadata": {},
   "outputs": [],
   "source": [
    "'''\n",
    "def remove_rows_with_missing_ratings()\n",
    "removes the rows with missing values in these columns. \n",
    "It should take in the dataset as a pandas dataframe and return the same type.\n",
    "\n",
    "def combine_description_strings() \n",
    "The \"Description\" column contains lists of strings. \n",
    "Pandas recognises these as strings containing python lists\n",
    "1. Remove records with a missing description.\n",
    "2. Remove the 'About this space' prefix which every description starts with.\n",
    "3. Remove empty quotes from lists.\n",
    "3. Combine/ join the list items into one string.\n",
    "It should take in the dataset as a pandas dataframe and return the same type.\n",
    "\n",
    "def set_default_feature_values()\n",
    "Replace entries with empty values with the number 1. \n",
    "It should take in the dataset as a pandas dataframe and return the same type.\n",
    "\n",
    "def clean_tabular_data()\n",
    "Takes in the raw data frame.\n",
    "calls the three functions above sequentially \n",
    "on the output of the previous one, \n",
    "and returns the processed data.\n",
    "\n",
    "if __name__ == \"__main__\"\n",
    "1. Load the raw data in using pandas\n",
    "2. Call clean_tabular_data on it\n",
    "3. Save the processed data as clean_tabular_data.csv in the same folder \n",
    "as you found the raw tabular data.\n",
    "\n",
    "\n",
    "'''"
   ]
  },
  {
   "cell_type": "code",
   "execution_count": 17,
   "metadata": {},
   "outputs": [
    {
     "name": "stdout",
     "output_type": "stream",
     "text": [
      "<class 'pandas.core.frame.DataFrame'>\n",
      "RangeIndex: 988 entries, 0 to 987\n",
      "Data columns (total 20 columns):\n",
      " #   Column                Non-Null Count  Dtype  \n",
      "---  ------                --------------  -----  \n",
      " 0   ID                    988 non-null    object \n",
      " 1   Category              988 non-null    object \n",
      " 2   Title                 988 non-null    object \n",
      " 3   Description           900 non-null    object \n",
      " 4   Amenities             988 non-null    object \n",
      " 5   Location              988 non-null    object \n",
      " 6   guests                969 non-null    object \n",
      " 7   beds                  945 non-null    float64\n",
      " 8   bathrooms             888 non-null    float64\n",
      " 9   Price_Night           988 non-null    int64  \n",
      " 10  Cleanliness_rating    890 non-null    float64\n",
      " 11  Accuracy_rating       890 non-null    float64\n",
      " 12  Communication_rating  890 non-null    float64\n",
      " 13  Location_rating       890 non-null    float64\n",
      " 14  Check-in_rating       890 non-null    float64\n",
      " 15  Value_rating          890 non-null    float64\n",
      " 16  amenities_count       988 non-null    float64\n",
      " 17  url                   988 non-null    object \n",
      " 18  bedrooms              906 non-null    object \n",
      " 19  Unnamed: 19           1 non-null      float64\n",
      "dtypes: float64(10), int64(1), object(9)\n",
      "memory usage: 154.5+ KB\n"
     ]
    }
   ],
   "source": [
    "tabular_data_df = pd.read_csv('listing.csv')\n",
    "tabular_data_df.info()"
   ]
  },
  {
   "cell_type": "code",
   "execution_count": 18,
   "metadata": {},
   "outputs": [
    {
     "data": {
      "text/plain": [
       "ID                        0\n",
       "Category                  0\n",
       "Title                     0\n",
       "Description              88\n",
       "Amenities                 0\n",
       "Location                  0\n",
       "guests                   19\n",
       "beds                     43\n",
       "bathrooms               100\n",
       "Price_Night               0\n",
       "Cleanliness_rating       98\n",
       "Accuracy_rating          98\n",
       "Communication_rating     98\n",
       "Location_rating          98\n",
       "Check-in_rating          98\n",
       "Value_rating             98\n",
       "amenities_count           0\n",
       "url                       0\n",
       "bedrooms                 82\n",
       "Unnamed: 19             987\n",
       "dtype: int64"
      ]
     },
     "execution_count": 18,
     "metadata": {},
     "output_type": "execute_result"
    }
   ],
   "source": [
    "tabular_data_df.isna().sum()"
   ]
  },
  {
   "cell_type": "code",
   "execution_count": 19,
   "metadata": {},
   "outputs": [
    {
     "data": {
      "text/plain": [
       "ID                       object\n",
       "Category                 object\n",
       "Title                    object\n",
       "Description              object\n",
       "Amenities                object\n",
       "Location                 object\n",
       "guests                   object\n",
       "beds                    float64\n",
       "bathrooms               float64\n",
       "Price_Night               int64\n",
       "Cleanliness_rating      float64\n",
       "Accuracy_rating         float64\n",
       "Communication_rating    float64\n",
       "Location_rating         float64\n",
       "Check-in_rating         float64\n",
       "Value_rating            float64\n",
       "amenities_count         float64\n",
       "url                      object\n",
       "bedrooms                 object\n",
       "Unnamed: 19             float64\n",
       "dtype: object"
      ]
     },
     "execution_count": 19,
     "metadata": {},
     "output_type": "execute_result"
    }
   ],
   "source": [
    "tabular_data_df.dtypes"
   ]
  },
  {
   "cell_type": "code",
   "execution_count": 32,
   "metadata": {},
   "outputs": [],
   "source": [
    "tabular_data_df.dropna(subset=['Cleanliness_rating', 'Accuracy_rating', 'Communication_rating', 'Location_rating', 'Check-in_rating', 'Value_rating'], inplace=True)"
   ]
  },
  {
   "cell_type": "code",
   "execution_count": 33,
   "metadata": {},
   "outputs": [
    {
     "data": {
      "text/plain": [
       "ID                        0\n",
       "Category                  0\n",
       "Title                     0\n",
       "Description              60\n",
       "Amenities                 0\n",
       "Location                  0\n",
       "guests                   18\n",
       "beds                     34\n",
       "bathrooms                79\n",
       "Price_Night               0\n",
       "Cleanliness_rating        0\n",
       "Accuracy_rating           0\n",
       "Communication_rating      0\n",
       "Location_rating           0\n",
       "Check-in_rating           0\n",
       "Value_rating              0\n",
       "amenities_count           0\n",
       "url                       0\n",
       "bedrooms                 76\n",
       "Unnamed: 19             889\n",
       "dtype: int64"
      ]
     },
     "execution_count": 33,
     "metadata": {},
     "output_type": "execute_result"
    }
   ],
   "source": [
    "tabular_data_df.isna().sum()"
   ]
  },
  {
   "cell_type": "code",
   "execution_count": null,
   "metadata": {},
   "outputs": [],
   "source": [
    "class Clean_airbnb_tabular_data:\n",
    "    # don't forget init method!\n",
    "\n",
    "    def remove_rows_with_missing_ratings(self):\n",
    "        tabular_data_df.dropna(subset=['Cleanliness_rating', 'Accuracy_rating', 'Communication_rating', 'Location_rating', 'Check-in_rating', 'Value_rating'], inplace=True)\n",
    "        print(tabular_data_df.isna().sum())\n",
    "        return tabular_data_df\n",
    "\n",
    "    \n",
    "\n",
    "\n",
    "\n",
    "        \n",
    "        \n",
    "\n",
    "\n",
    "\n",
    "\n",
    "\n",
    "\n",
    "\n",
    "\n",
    "\n",
    "\n",
    "\n",
    "\n",
    "\n",
    "\n",
    "\n",
    "\n",
    "if __name__ == \"__main__\":\n",
    "    tabular_data_df = pd.read_csv('listing.csv')\n"
   ]
  }
 ],
 "metadata": {
  "kernelspec": {
   "display_name": "Python 3.9.13 ('airbnb_venv': venv)",
   "language": "python",
   "name": "python3"
  },
  "language_info": {
   "codemirror_mode": {
    "name": "ipython",
    "version": 3
   },
   "file_extension": ".py",
   "mimetype": "text/x-python",
   "name": "python",
   "nbconvert_exporter": "python",
   "pygments_lexer": "ipython3",
   "version": "3.9.13"
  },
  "orig_nbformat": 4,
  "vscode": {
   "interpreter": {
    "hash": "542ceaa9af875ce9b2350b4f7ccf68c23e5d3425160335ff7a67958514d7a01e"
   }
  }
 },
 "nbformat": 4,
 "nbformat_minor": 2
}
