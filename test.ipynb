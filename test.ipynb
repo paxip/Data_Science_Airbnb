{
 "cells": [
  {
   "cell_type": "code",
   "execution_count": 113,
   "metadata": {},
   "outputs": [],
   "source": [
    "import pandas as pd"
   ]
  },
  {
   "attachments": {},
   "cell_type": "markdown",
   "metadata": {},
   "source": [
    "## Milestone 3 - Data Preparation"
   ]
  },
  {
   "cell_type": "markdown",
   "metadata": {},
   "source": [
    "### Task 1"
   ]
  },
  {
   "cell_type": "code",
   "execution_count": null,
   "metadata": {},
   "outputs": [],
   "source": [
    "'''\n",
    "def remove_rows_with_missing_ratings()\n",
    "removes the rows with missing values in these columns. \n",
    "It should take in the dataset as a pandas dataframe and return the same type.\n",
    "\n",
    "def combine_description_strings() \n",
    "The \"Description\" column contains lists of strings. \n",
    "Pandas recognises these as strings containing python lists\n",
    "1. Remove records with a missing description.\n",
    "2. Remove the 'About this space' prefix which every description starts with.\n",
    "3. Remove empty quotes from lists.\n",
    "3. Combine/ join the list items into one string.\n",
    "It should take in the dataset as a pandas dataframe and return the same type.\n",
    "\n",
    "def set_default_feature_values()\n",
    "Replace entries with empty values with the number 1. \n",
    "It should take in the dataset as a pandas dataframe and return the same type.\n",
    "\n",
    "def clean_tabular_data()\n",
    "Takes in the raw data frame.\n",
    "calls the three functions above sequentially \n",
    "on the output of the previous one, \n",
    "and returns the processed data.\n",
    "\n",
    "if __name__ == \"__main__\"\n",
    "1. Load the raw data in using pandas\n",
    "2. Call clean_tabular_data on it\n",
    "3. Save the processed data as clean_tabular_data.csv in the same folder \n",
    "as you found the raw tabular data.\n",
    "\n",
    "\n",
    "'''"
   ]
  },
  {
   "cell_type": "code",
   "execution_count": 114,
   "metadata": {},
   "outputs": [
    {
     "name": "stdout",
     "output_type": "stream",
     "text": [
      "<class 'pandas.core.frame.DataFrame'>\n",
      "RangeIndex: 988 entries, 0 to 987\n",
      "Data columns (total 20 columns):\n",
      " #   Column                Non-Null Count  Dtype  \n",
      "---  ------                --------------  -----  \n",
      " 0   ID                    988 non-null    object \n",
      " 1   Category              988 non-null    object \n",
      " 2   Title                 988 non-null    object \n",
      " 3   Description           900 non-null    object \n",
      " 4   Amenities             988 non-null    object \n",
      " 5   Location              988 non-null    object \n",
      " 6   guests                969 non-null    object \n",
      " 7   beds                  945 non-null    float64\n",
      " 8   bathrooms             888 non-null    float64\n",
      " 9   Price_Night           988 non-null    int64  \n",
      " 10  Cleanliness_rating    890 non-null    float64\n",
      " 11  Accuracy_rating       890 non-null    float64\n",
      " 12  Communication_rating  890 non-null    float64\n",
      " 13  Location_rating       890 non-null    float64\n",
      " 14  Check-in_rating       890 non-null    float64\n",
      " 15  Value_rating          890 non-null    float64\n",
      " 16  amenities_count       988 non-null    float64\n",
      " 17  url                   988 non-null    object \n",
      " 18  bedrooms              906 non-null    object \n",
      " 19  Unnamed: 19           1 non-null      float64\n",
      "dtypes: float64(10), int64(1), object(9)\n",
      "memory usage: 154.5+ KB\n"
     ]
    }
   ],
   "source": [
    "tabular_data_df = pd.read_csv('listing.csv')\n",
    "tabular_data_df.info()"
   ]
  },
  {
   "cell_type": "code",
   "execution_count": 93,
   "metadata": {},
   "outputs": [
    {
     "data": {
      "text/plain": [
       "ID                        0\n",
       "Category                  0\n",
       "Title                     0\n",
       "Description              88\n",
       "Amenities                 0\n",
       "Location                  0\n",
       "guests                   19\n",
       "beds                     43\n",
       "bathrooms               100\n",
       "Price_Night               0\n",
       "Cleanliness_rating       98\n",
       "Accuracy_rating          98\n",
       "Communication_rating     98\n",
       "Location_rating          98\n",
       "Check-in_rating          98\n",
       "Value_rating             98\n",
       "amenities_count           0\n",
       "url                       0\n",
       "bedrooms                 82\n",
       "Unnamed: 19             987\n",
       "dtype: int64"
      ]
     },
     "execution_count": 93,
     "metadata": {},
     "output_type": "execute_result"
    }
   ],
   "source": [
    "tabular_data_df.isna().sum()"
   ]
  },
  {
   "cell_type": "code",
   "execution_count": 94,
   "metadata": {},
   "outputs": [
    {
     "data": {
      "text/plain": [
       "ID                       object\n",
       "Category                 object\n",
       "Title                    object\n",
       "Description              object\n",
       "Amenities                object\n",
       "Location                 object\n",
       "guests                   object\n",
       "beds                    float64\n",
       "bathrooms               float64\n",
       "Price_Night               int64\n",
       "Cleanliness_rating      float64\n",
       "Accuracy_rating         float64\n",
       "Communication_rating    float64\n",
       "Location_rating         float64\n",
       "Check-in_rating         float64\n",
       "Value_rating            float64\n",
       "amenities_count         float64\n",
       "url                      object\n",
       "bedrooms                 object\n",
       "Unnamed: 19             float64\n",
       "dtype: object"
      ]
     },
     "execution_count": 94,
     "metadata": {},
     "output_type": "execute_result"
    }
   ],
   "source": [
    "tabular_data_df.dtypes"
   ]
  },
  {
   "cell_type": "code",
   "execution_count": 95,
   "metadata": {},
   "outputs": [],
   "source": [
    "tabular_data_df.dropna(subset=['Cleanliness_rating', 'Accuracy_rating', 'Communication_rating', 'Location_rating', 'Check-in_rating', 'Value_rating'], inplace=True)"
   ]
  },
  {
   "cell_type": "code",
   "execution_count": 96,
   "metadata": {},
   "outputs": [
    {
     "data": {
      "text/plain": [
       "ID                        0\n",
       "Category                  0\n",
       "Title                     0\n",
       "Description              60\n",
       "Amenities                 0\n",
       "Location                  0\n",
       "guests                   18\n",
       "beds                     34\n",
       "bathrooms                79\n",
       "Price_Night               0\n",
       "Cleanliness_rating        0\n",
       "Accuracy_rating           0\n",
       "Communication_rating      0\n",
       "Location_rating           0\n",
       "Check-in_rating           0\n",
       "Value_rating              0\n",
       "amenities_count           0\n",
       "url                       0\n",
       "bedrooms                 76\n",
       "Unnamed: 19             889\n",
       "dtype: int64"
      ]
     },
     "execution_count": 96,
     "metadata": {},
     "output_type": "execute_result"
    }
   ],
   "source": [
    "tabular_data_df.isna().sum()"
   ]
  },
  {
   "cell_type": "code",
   "execution_count": 69,
   "metadata": {},
   "outputs": [
    {
     "data": {
      "text/plain": [
       "0      ['About this space', \"Escape to one of these t...\n",
       "1      ['About this space', \"Come and spend a romanti...\n",
       "2      ['About this space', 'Rustic cabin between the...\n",
       "3      ['About this space', 'The Tree top cabin is si...\n",
       "5      ['About this space', 'Charming cabin nestled i...\n",
       "                             ...                        \n",
       "982    ['About this space', 'An apartment directly on...\n",
       "983    ['About this space', 'Light roomy space with o...\n",
       "984    ['About this space', 'This specious two bedroo...\n",
       "985    ['About this space', 'With all the modern amen...\n",
       "987    ['About this space', 'Sea Scenes is a homely t...\n",
       "Name: Description, Length: 890, dtype: object"
      ]
     },
     "execution_count": 69,
     "metadata": {},
     "output_type": "execute_result"
    }
   ],
   "source": [
    "description_df = tabular_data_df['Description']\n",
    "description_df"
   ]
  },
  {
   "cell_type": "code",
   "execution_count": 70,
   "metadata": {},
   "outputs": [
    {
     "data": {
      "text/plain": [
       "str"
      ]
     },
     "execution_count": 70,
     "metadata": {},
     "output_type": "execute_result"
    }
   ],
   "source": [
    "type(description_df.loc[982])"
   ]
  },
  {
   "cell_type": "code",
   "execution_count": 71,
   "metadata": {},
   "outputs": [
    {
     "data": {
      "text/plain": [
       "str"
      ]
     },
     "execution_count": 71,
     "metadata": {},
     "output_type": "execute_result"
    }
   ],
   "source": [
    "type(description_df.loc[982])"
   ]
  },
  {
   "cell_type": "code",
   "execution_count": 88,
   "metadata": {},
   "outputs": [],
   "source": [
    "tabular_data_df.dropna(subset=['Description'], inplace=True)\n"
   ]
  },
  {
   "cell_type": "code",
   "execution_count": 89,
   "metadata": {},
   "outputs": [
    {
     "data": {
      "text/plain": [
       "ID                        0\n",
       "Category                  0\n",
       "Title                     0\n",
       "Description               0\n",
       "Amenities                 0\n",
       "Location                  0\n",
       "guests                   15\n",
       "beds                     29\n",
       "bathrooms                65\n",
       "Price_Night               0\n",
       "Cleanliness_rating        0\n",
       "Accuracy_rating           0\n",
       "Communication_rating      0\n",
       "Location_rating           0\n",
       "Check-in_rating           0\n",
       "Value_rating              0\n",
       "amenities_count           0\n",
       "url                       0\n",
       "bedrooms                 70\n",
       "Unnamed: 19             829\n",
       "dtype: int64"
      ]
     },
     "execution_count": 89,
     "metadata": {},
     "output_type": "execute_result"
    }
   ],
   "source": [
    "tabular_data_df.isna().sum()"
   ]
  },
  {
   "cell_type": "code",
   "execution_count": 90,
   "metadata": {},
   "outputs": [
    {
     "data": {
      "text/plain": [
       "'[\\'About this space\\', \"Escape to one of these two fabulous Tree Tents. Suspended high above the canopy, it’s time to appreciate life from a new perspective. Featured on George Clarke’s Amazing Spaces, these Tree Tents are a feat of aviation technology. Tree Tent comes complete with fire pit, outdoor kitchen and shower with hot water. You’ll discover a comfortable bed and cosy wood burning stove. Part of the Red Kite Estate, along with our barn and its sister tree tent, the first ever built in the UK, Dragon\\'s Egg.\", \\'The space\\', \\'The space\\\\nThe true joy of this place is how wonderfully simple it is (aviation technology aside). Days are filled with fireside discussions, wildlife watching and stunningly beautiful walks. With the nearest mobile signal a ten minute walk away, it’s a great place to ditch the digital and truly escape. Head over the bridge to your own private deck that happily houses a clever outdoor-kitchen and shower (complete with hot water). It’s the perfect spot to fry up breakfast whilst basking in peace and tranquility. There is also a flushing toilet situated just up the hill.And don’t worry, you’re not totally left to your own devices, on arrival you can expect bed linen, towels and a load of dry wood and kindling. If you feel the need to leave your new found homestead in the trees then the local area has lots of suitably chilled things to do. Head out on a moorland walk to take in some magical views - and perhaps even grab a pint at the local pub en route. Further afield, the stunning Elan Valley, a landscape bursting with impressive dams and reservoirs, is well worthy of an explore. And for those needing supplies - and perhaps a flat white - then the friendly market town of Builth Wells is just down the road.\\', \\'\\', \\'\\', \\'\\', \\'Other things to note\\\\nYou are entering a remote woodland hideaway for a digital detox: there is very patchy mobile signal and limited internet connectivity.\\']'"
      ]
     },
     "execution_count": 90,
     "metadata": {},
     "output_type": "execute_result"
    }
   ],
   "source": [
    "tabular_data_df['Description'].loc[0]"
   ]
  },
  {
   "cell_type": "code",
   "execution_count": 75,
   "metadata": {},
   "outputs": [
    {
     "data": {
      "text/plain": [
       "str"
      ]
     },
     "execution_count": 75,
     "metadata": {},
     "output_type": "execute_result"
    }
   ],
   "source": [
    "type(tabular_data_df['Description'].loc[0])"
   ]
  },
  {
   "cell_type": "code",
   "execution_count": 76,
   "metadata": {},
   "outputs": [
    {
     "data": {
      "text/plain": [
       "0      Escape to one of these two fabulous Tree Tents...\n",
       "1      Come and spend a romantic stay with a couple o...\n",
       "2      Rustic cabin between the pines, 3 meters high ...\n",
       "3      The Tree top cabin is situated in our peaceful...\n",
       "5      Charming cabin nestled in the leaves, real unu...\n",
       "                             ...                        \n",
       "982    An apartment directly on the beach at Lancing,...\n",
       "983    Light roomy space with outside garden 5 minute...\n",
       "984    This specious two bedroom flat on the sea fron...\n",
       "985    With all the modern amenities, our contemporar...\n",
       "987    Sea Scenes is a homely two bedroom groundfloor...\n",
       "Name: Description, Length: 830, dtype: object"
      ]
     },
     "execution_count": 76,
     "metadata": {},
     "output_type": "execute_result"
    }
   ],
   "source": [
    "from ast import literal_eval\n",
    "\n",
    "def clean_description_strings(text):\n",
    "    try:\n",
    "        description_list = literal_eval(text)\n",
    "        description_list.remove('About this space')\n",
    "        description_list = ''.join(description_list)\n",
    "        return description_list\n",
    "    except Exception as e:\n",
    "        return text\n",
    "        \n",
    "\n",
    "\n",
    "tabular_data_df['Description'] = tabular_data_df['Description'].apply(clean_description_strings) \n",
    "    \n",
    "tabular_data_df['Description']\n",
    "\n"
   ]
  },
  {
   "cell_type": "code",
   "execution_count": 77,
   "metadata": {},
   "outputs": [],
   "source": [
    "tabular_data_df['Description'].replace([r\"\\\\n\", \"\\n\", r\"\\'\"], [\" \",\" \",\"\"], regex=True, inplace=True)"
   ]
  },
  {
   "cell_type": "code",
   "execution_count": 78,
   "metadata": {},
   "outputs": [
    {
     "data": {
      "text/plain": [
       "'Escape to one of these two fabulous Tree Tents. Suspended high above the canopy, it’s time to appreciate life from a new perspective. Featured on George Clarke’s Amazing Spaces, these Tree Tents are a feat of aviation technology. Tree Tent comes complete with fire pit, outdoor kitchen and shower with hot water. You’ll discover a comfortable bed and cosy wood burning stove. Part of the Red Kite Estate, along with our barn and its sister tree tent, the first ever built in the UK, Dragons Egg.The spaceThe space The true joy of this place is how wonderfully simple it is (aviation technology aside). Days are filled with fireside discussions, wildlife watching and stunningly beautiful walks. With the nearest mobile signal a ten minute walk away, it’s a great place to ditch the digital and truly escape. Head over the bridge to your own private deck that happily houses a clever outdoor-kitchen and shower (complete with hot water). It’s the perfect spot to fry up breakfast whilst basking in peace and tranquility. There is also a flushing toilet situated just up the hill.And don’t worry, you’re not totally left to your own devices, on arrival you can expect bed linen, towels and a load of dry wood and kindling. If you feel the need to leave your new found homestead in the trees then the local area has lots of suitably chilled things to do. Head out on a moorland walk to take in some magical views - and perhaps even grab a pint at the local pub en route. Further afield, the stunning Elan Valley, a landscape bursting with impressive dams and reservoirs, is well worthy of an explore. And for those needing supplies - and perhaps a flat white - then the friendly market town of Builth Wells is just down the road.Other things to note You are entering a remote woodland hideaway for a digital detox: there is very patchy mobile signal and limited internet connectivity.'"
      ]
     },
     "execution_count": 78,
     "metadata": {},
     "output_type": "execute_result"
    }
   ],
   "source": [
    "tabular_data_df['Description'].loc[0]"
   ]
  },
  {
   "cell_type": "code",
   "execution_count": null,
   "metadata": {},
   "outputs": [],
   "source": [
    "from ast import literal_eval\n",
    "\n",
    "tabular_data_df['Description'] = tabular_data_df['Description'].apply(lambda x : literal_eval(str(x)))\n"
   ]
  },
  {
   "cell_type": "code",
   "execution_count": null,
   "metadata": {},
   "outputs": [],
   "source": [
    "from ast import literal_eval\n",
    "\n",
    "def literal_return(val):\n",
    "    try:\n",
    "        return literal_eval(val)\n",
    "    except ValueError:\n",
    "        return (val)\n",
    "\n",
    "tabular_data_df['Description'] = tabular_data_df['Description'].apply(literal_return)"
   ]
  },
  {
   "cell_type": "code",
   "execution_count": 115,
   "metadata": {},
   "outputs": [
    {
     "data": {
      "text/html": [
       "<div>\n",
       "<style scoped>\n",
       "    .dataframe tbody tr th:only-of-type {\n",
       "        vertical-align: middle;\n",
       "    }\n",
       "\n",
       "    .dataframe tbody tr th {\n",
       "        vertical-align: top;\n",
       "    }\n",
       "\n",
       "    .dataframe thead th {\n",
       "        text-align: right;\n",
       "    }\n",
       "</style>\n",
       "<table border=\"1\" class=\"dataframe\">\n",
       "  <thead>\n",
       "    <tr style=\"text-align: right;\">\n",
       "      <th></th>\n",
       "      <th>guests</th>\n",
       "      <th>beds</th>\n",
       "      <th>bathrooms</th>\n",
       "      <th>bedrooms</th>\n",
       "    </tr>\n",
       "  </thead>\n",
       "  <tbody>\n",
       "    <tr>\n",
       "      <th>0</th>\n",
       "      <td>2</td>\n",
       "      <td>1.0</td>\n",
       "      <td>1.0</td>\n",
       "      <td>NaN</td>\n",
       "    </tr>\n",
       "    <tr>\n",
       "      <th>1</th>\n",
       "      <td>3</td>\n",
       "      <td>3.0</td>\n",
       "      <td>0.0</td>\n",
       "      <td>1</td>\n",
       "    </tr>\n",
       "    <tr>\n",
       "      <th>2</th>\n",
       "      <td>4</td>\n",
       "      <td>2.0</td>\n",
       "      <td>1.5</td>\n",
       "      <td>1</td>\n",
       "    </tr>\n",
       "    <tr>\n",
       "      <th>3</th>\n",
       "      <td>2</td>\n",
       "      <td>NaN</td>\n",
       "      <td>1.0</td>\n",
       "      <td>NaN</td>\n",
       "    </tr>\n",
       "    <tr>\n",
       "      <th>4</th>\n",
       "      <td>2</td>\n",
       "      <td>1.0</td>\n",
       "      <td>NaN</td>\n",
       "      <td>1</td>\n",
       "    </tr>\n",
       "    <tr>\n",
       "      <th>...</th>\n",
       "      <td>...</td>\n",
       "      <td>...</td>\n",
       "      <td>...</td>\n",
       "      <td>...</td>\n",
       "    </tr>\n",
       "    <tr>\n",
       "      <th>983</th>\n",
       "      <td>2</td>\n",
       "      <td>1.0</td>\n",
       "      <td>1.0</td>\n",
       "      <td>1</td>\n",
       "    </tr>\n",
       "    <tr>\n",
       "      <th>984</th>\n",
       "      <td>4</td>\n",
       "      <td>2.0</td>\n",
       "      <td>1.5</td>\n",
       "      <td>2</td>\n",
       "    </tr>\n",
       "    <tr>\n",
       "      <th>985</th>\n",
       "      <td>6</td>\n",
       "      <td>3.0</td>\n",
       "      <td>2.0</td>\n",
       "      <td>2</td>\n",
       "    </tr>\n",
       "    <tr>\n",
       "      <th>986</th>\n",
       "      <td>10</td>\n",
       "      <td>7.0</td>\n",
       "      <td>5.0</td>\n",
       "      <td>5</td>\n",
       "    </tr>\n",
       "    <tr>\n",
       "      <th>987</th>\n",
       "      <td>4</td>\n",
       "      <td>2.0</td>\n",
       "      <td>1.0</td>\n",
       "      <td>2</td>\n",
       "    </tr>\n",
       "  </tbody>\n",
       "</table>\n",
       "<p>988 rows × 4 columns</p>\n",
       "</div>"
      ],
      "text/plain": [
       "    guests  beds  bathrooms bedrooms\n",
       "0        2   1.0        1.0      NaN\n",
       "1        3   3.0        0.0        1\n",
       "2        4   2.0        1.5        1\n",
       "3        2   NaN        1.0      NaN\n",
       "4        2   1.0        NaN        1\n",
       "..     ...   ...        ...      ...\n",
       "983      2   1.0        1.0        1\n",
       "984      4   2.0        1.5        2\n",
       "985      6   3.0        2.0        2\n",
       "986     10   7.0        5.0        5\n",
       "987      4   2.0        1.0        2\n",
       "\n",
       "[988 rows x 4 columns]"
      ]
     },
     "execution_count": 115,
     "metadata": {},
     "output_type": "execute_result"
    }
   ],
   "source": [
    "tabular_data_df[['guests','beds','bathrooms','bedrooms']]"
   ]
  },
  {
   "cell_type": "code",
   "execution_count": 116,
   "metadata": {},
   "outputs": [],
   "source": [
    "values = {\"guests\": 1, \"beds\": 1, \"bathrooms\": 1, \"bedrooms\": 1}\n",
    "tabular_data_df.fillna(value=values, inplace=True)\n"
   ]
  },
  {
   "cell_type": "code",
   "execution_count": 117,
   "metadata": {},
   "outputs": [
    {
     "data": {
      "text/html": [
       "<div>\n",
       "<style scoped>\n",
       "    .dataframe tbody tr th:only-of-type {\n",
       "        vertical-align: middle;\n",
       "    }\n",
       "\n",
       "    .dataframe tbody tr th {\n",
       "        vertical-align: top;\n",
       "    }\n",
       "\n",
       "    .dataframe thead th {\n",
       "        text-align: right;\n",
       "    }\n",
       "</style>\n",
       "<table border=\"1\" class=\"dataframe\">\n",
       "  <thead>\n",
       "    <tr style=\"text-align: right;\">\n",
       "      <th></th>\n",
       "      <th>guests</th>\n",
       "      <th>beds</th>\n",
       "      <th>bathrooms</th>\n",
       "      <th>bedrooms</th>\n",
       "    </tr>\n",
       "  </thead>\n",
       "  <tbody>\n",
       "    <tr>\n",
       "      <th>0</th>\n",
       "      <td>2</td>\n",
       "      <td>1.0</td>\n",
       "      <td>1.0</td>\n",
       "      <td>1</td>\n",
       "    </tr>\n",
       "    <tr>\n",
       "      <th>1</th>\n",
       "      <td>3</td>\n",
       "      <td>3.0</td>\n",
       "      <td>0.0</td>\n",
       "      <td>1</td>\n",
       "    </tr>\n",
       "    <tr>\n",
       "      <th>2</th>\n",
       "      <td>4</td>\n",
       "      <td>2.0</td>\n",
       "      <td>1.5</td>\n",
       "      <td>1</td>\n",
       "    </tr>\n",
       "    <tr>\n",
       "      <th>3</th>\n",
       "      <td>2</td>\n",
       "      <td>1.0</td>\n",
       "      <td>1.0</td>\n",
       "      <td>1</td>\n",
       "    </tr>\n",
       "    <tr>\n",
       "      <th>4</th>\n",
       "      <td>2</td>\n",
       "      <td>1.0</td>\n",
       "      <td>1.0</td>\n",
       "      <td>1</td>\n",
       "    </tr>\n",
       "    <tr>\n",
       "      <th>...</th>\n",
       "      <td>...</td>\n",
       "      <td>...</td>\n",
       "      <td>...</td>\n",
       "      <td>...</td>\n",
       "    </tr>\n",
       "    <tr>\n",
       "      <th>983</th>\n",
       "      <td>2</td>\n",
       "      <td>1.0</td>\n",
       "      <td>1.0</td>\n",
       "      <td>1</td>\n",
       "    </tr>\n",
       "    <tr>\n",
       "      <th>984</th>\n",
       "      <td>4</td>\n",
       "      <td>2.0</td>\n",
       "      <td>1.5</td>\n",
       "      <td>2</td>\n",
       "    </tr>\n",
       "    <tr>\n",
       "      <th>985</th>\n",
       "      <td>6</td>\n",
       "      <td>3.0</td>\n",
       "      <td>2.0</td>\n",
       "      <td>2</td>\n",
       "    </tr>\n",
       "    <tr>\n",
       "      <th>986</th>\n",
       "      <td>10</td>\n",
       "      <td>7.0</td>\n",
       "      <td>5.0</td>\n",
       "      <td>5</td>\n",
       "    </tr>\n",
       "    <tr>\n",
       "      <th>987</th>\n",
       "      <td>4</td>\n",
       "      <td>2.0</td>\n",
       "      <td>1.0</td>\n",
       "      <td>2</td>\n",
       "    </tr>\n",
       "  </tbody>\n",
       "</table>\n",
       "<p>988 rows × 4 columns</p>\n",
       "</div>"
      ],
      "text/plain": [
       "    guests  beds  bathrooms bedrooms\n",
       "0        2   1.0        1.0        1\n",
       "1        3   3.0        0.0        1\n",
       "2        4   2.0        1.5        1\n",
       "3        2   1.0        1.0        1\n",
       "4        2   1.0        1.0        1\n",
       "..     ...   ...        ...      ...\n",
       "983      2   1.0        1.0        1\n",
       "984      4   2.0        1.5        2\n",
       "985      6   3.0        2.0        2\n",
       "986     10   7.0        5.0        5\n",
       "987      4   2.0        1.0        2\n",
       "\n",
       "[988 rows x 4 columns]"
      ]
     },
     "execution_count": 117,
     "metadata": {},
     "output_type": "execute_result"
    }
   ],
   "source": [
    "tabular_data_df[['guests','beds','bathrooms','bedrooms']]"
   ]
  },
  {
   "cell_type": "code",
   "execution_count": null,
   "metadata": {},
   "outputs": [],
   "source": [
    "class Clean_airbnb_tabular_data:\n",
    "    # don't forget init method!\n",
    "\n",
    "    def remove_rows_with_missing_ratings(self):\n",
    "        tabular_data_df.dropna(subset=['Cleanliness_rating', 'Accuracy_rating', 'Communication_rating', 'Location_rating', 'Check-in_rating', 'Value_rating'], inplace=True)\n",
    "        print(tabular_data_df.isna().sum())\n",
    "        return tabular_data_df\n",
    "\n",
    "    def combine_description_strings():\n",
    "        \n",
    "        \n",
    "        \n",
    "\n",
    "        \n",
    "        \n",
    "\n",
    "    \n",
    "\n",
    "\n",
    "\n",
    "        \n",
    "        \n",
    "def clean_description_strings(text):\n",
    "    try:\n",
    "        description_list = literal_eval(text)\n",
    "        description_list.remove('About this space')\n",
    "        description_list = ''.join(description_list)\n",
    "        return description_list\n",
    "    except Exception as e:\n",
    "        return text\n",
    "        \n",
    "\n",
    "\n",
    "tabular_data_df['Description'] = tabular_data_df['Description'].apply(clean_description_strings) \n",
    "    \n",
    "tabular_data_df['Description']\n",
    "\n",
    "\n",
    "\n",
    "\n",
    "\n",
    "\n",
    "\n",
    "\n",
    "\n",
    "\n",
    "\n",
    "\n",
    "\n",
    "\n",
    "\n",
    "if __name__ == \"__main__\":\n",
    "    tabular_data_df = pd.read_csv('listing.csv')\n"
   ]
  },
  {
   "attachments": {},
   "cell_type": "markdown",
   "metadata": {},
   "source": [
    "### Task 1 - Final solution"
   ]
  },
  {
   "cell_type": "code",
   "execution_count": null,
   "metadata": {},
   "outputs": [],
   "source": [
    "from ast import literal_eval\n",
    "\n",
    "\n",
    "airbnb_df = pd.read_csv('listing.csv')\n",
    "\n",
    "\n",
    "class Data_Preparation:\n",
    "    def __init__(self):\n",
    "        self.airbnb_df = airbnb_df\n",
    "\n",
    "    def remove_rows_with_missing_ratings():\n",
    "        airbnb_df.dropna(subset=['Cleanliness_rating', 'Accuracy_rating', 'Communication_rating', 'Location_rating', 'Check-in_rating', 'Value_rating'], inplace=True)\n",
    "        return airbnb_df\n",
    "\n",
    "    def combine_description_strings():\n",
    "        airbnb_df.dropna(subset=['Description'], inplace=True)\n",
    "        airbnb_df['Description'] = airbnb_df['Description'].apply(clean_description_strings) \n",
    "        airbnb_df['Description'].replace([r\"\\\\n\", \"\\n\", r\"\\'\"], [\" \",\" \",\"\"], regex=True, inplace=True)\n",
    "        return airbnb_df\n",
    "\n",
    "    def clean_description_strings(text):\n",
    "        try:\n",
    "            description_list = literal_eval(text)\n",
    "            description_list.remove('About this space')\n",
    "            description_list = ''.join(description_list)\n",
    "            return description_list\n",
    "        except Exception as e:\n",
    "            return text       \n",
    "\n",
    "    def set_default_feature_values():\n",
    "        values = {\"guests\": 1, \"beds\": 1, \"bathrooms\": 1, \"bedrooms\": 1}\n",
    "        airbnb_df.fillna(value=values, inplace=True)\n",
    "        return airbnb_df\n",
    "\n",
    "    def set_default_feature_values(self):\n",
    "        airbnb_df = pd.read_csv('listing.csv')\n",
    "        self.remove_rows_with_missing_ratings()\n",
    "        self.combine_description_strings()\n",
    "        self.set_default_feature_values()\n",
    "\n",
    "        \n",
    "\n",
    "    \n",
    "\n",
    "\n",
    "\n",
    "\n",
    "\n",
    "        \n",
    "        \n",
    "\n",
    "\n",
    "    \n",
    "    \n"
   ]
  }
 ],
 "metadata": {
  "kernelspec": {
   "display_name": "Python 3.9.13 ('airbnb_venv': venv)",
   "language": "python",
   "name": "python3"
  },
  "language_info": {
   "codemirror_mode": {
    "name": "ipython",
    "version": 3
   },
   "file_extension": ".py",
   "mimetype": "text/x-python",
   "name": "python",
   "nbconvert_exporter": "python",
   "pygments_lexer": "ipython3",
   "version": "3.9.13 (v3.9.13:6de2ca5339, May 17 2022, 11:37:23) \n[Clang 13.0.0 (clang-1300.0.29.30)]"
  },
  "orig_nbformat": 4,
  "vscode": {
   "interpreter": {
    "hash": "542ceaa9af875ce9b2350b4f7ccf68c23e5d3425160335ff7a67958514d7a01e"
   }
  }
 },
 "nbformat": 4,
 "nbformat_minor": 2
}
