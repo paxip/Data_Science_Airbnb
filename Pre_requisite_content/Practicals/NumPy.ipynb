{
 "cells": [
  {
   "attachments": {},
   "cell_type": "markdown",
   "metadata": {},
   "source": [
    "# Numpy - Intro - Practicals"
   ]
  },
  {
   "cell_type": "code",
   "execution_count": 7,
   "metadata": {},
   "outputs": [
    {
     "data": {
      "text/plain": [
       "5"
      ]
     },
     "execution_count": 7,
     "metadata": {},
     "output_type": "execute_result"
    }
   ],
   "source": [
    "# Create a NumPy array with 5 elements of your choice.\n",
    "\n",
    "import numpy as np\n",
    "\n",
    "arr = np.array([1,2,3,3,5])\n",
    "arr\n",
    "\n",
    "arr[4]"
   ]
  },
  {
   "cell_type": "code",
   "execution_count": 12,
   "metadata": {},
   "outputs": [
    {
     "data": {
      "text/plain": [
       "array([[ 8,  1,  0,  0],\n",
       "       [ 0,  8,  6,  2],\n",
       "       [10,  2,  9,  1]])"
      ]
     },
     "execution_count": 12,
     "metadata": {},
     "output_type": "execute_result"
    }
   ],
   "source": [
    "# Use the np.random.randint function to create a 2D array of size (3,4) with random integers between 0 and 10.\n",
    "\n",
    "arr_1 = np.random.randint(11, size=(3,4), dtype=int)\n",
    "arr_1\n"
   ]
  },
  {
   "attachments": {},
   "cell_type": "markdown",
   "metadata": {},
   "source": [
    "## Numpy - Array Operations - Practicals"
   ]
  },
  {
   "cell_type": "code",
   "execution_count": null,
   "metadata": {},
   "outputs": [],
   "source": []
  },
  {
   "cell_type": "code",
   "execution_count": 21,
   "metadata": {},
   "outputs": [
    {
     "data": {
      "text/plain": [
       "array([[18, 99, 99, 30, 63, 10, 75, 88, 13, 73],\n",
       "       [14,  1, 63, 88, 54, 47,  3, 20, 80, 54],\n",
       "       [59,  6, 54, 80, 90, 24, 73, 95, 55, 55],\n",
       "       [48,  9, 87, 70, 79, 89, 83, 82,  2, 29],\n",
       "       [12, 27,  1, 20, 69, 50,  8, 13, 97, 86],\n",
       "       [ 9, 22, 79, 47, 68, 37, 94, 10, 45, 48]])"
      ]
     },
     "execution_count": 21,
     "metadata": {},
     "output_type": "execute_result"
    }
   ],
   "source": [
    "# Create a NumPy array of random numbers with dimensions 6 x 10. Call it my_array\n",
    "my_array = np.random.randint(101, size=(6,10), dtype=int)\n",
    "my_array"
   ]
  },
  {
   "cell_type": "code",
   "execution_count": 24,
   "metadata": {},
   "outputs": [
    {
     "name": "stdout",
     "output_type": "stream",
     "text": [
      "(6, 3)\n"
     ]
    }
   ],
   "source": [
    "# Slice out the 1st, 3rd and 5th column of the array into as new array. Call it new_array\n",
    "\n",
    "new_array = my_array[:, [1, 3, 5]]\n",
    "\n",
    "new_array\n",
    "\n",
    "print(new_array.shape)"
   ]
  },
  {
   "cell_type": "code",
   "execution_count": 25,
   "metadata": {},
   "outputs": [
    {
     "ename": "ValueError",
     "evalue": "operands could not be broadcast together with shapes (6,10) (6,3) ",
     "output_type": "error",
     "traceback": [
      "\u001b[0;31m---------------------------------------------------------------------------\u001b[0m",
      "\u001b[0;31mValueError\u001b[0m                                Traceback (most recent call last)",
      "Cell \u001b[0;32mIn[25], line 3\u001b[0m\n\u001b[1;32m      1\u001b[0m \u001b[39m# Try to multiply my_array x new_array. Does it work? If not, do you know why?\u001b[39;00m\n\u001b[0;32m----> 3\u001b[0m np\u001b[39m.\u001b[39;49mmultiply(my_array, new_array)\n",
      "\u001b[0;31mValueError\u001b[0m: operands could not be broadcast together with shapes (6,10) (6,3) "
     ]
    }
   ],
   "source": [
    "# Try to multiply my_array x new_array. Does it work? If not, do you know why?\n",
    "\n",
    "np.multiply(my_array, new_array)\n",
    "\n"
   ]
  },
  {
   "cell_type": "code",
   "execution_count": 26,
   "metadata": {},
   "outputs": [
    {
     "data": {
      "text/plain": [
       "array([[99,  1,  6,  9, 27, 22],\n",
       "       [30, 88, 80, 70, 20, 47],\n",
       "       [10, 47, 24, 89, 50, 37]])"
      ]
     },
     "execution_count": 26,
     "metadata": {},
     "output_type": "execute_result"
    }
   ],
   "source": [
    "# Transpose new_array and try again. Does it work now?\n",
    "\n",
    "np.transpose(new_array)\n",
    "\n"
   ]
  },
  {
   "cell_type": "code",
   "execution_count": 28,
   "metadata": {},
   "outputs": [
    {
     "ename": "ValueError",
     "evalue": "operands could not be broadcast together with shapes (6,10) (6,3) ",
     "output_type": "error",
     "traceback": [
      "\u001b[0;31m---------------------------------------------------------------------------\u001b[0m",
      "\u001b[0;31mValueError\u001b[0m                                Traceback (most recent call last)",
      "Cell \u001b[0;32mIn[28], line 1\u001b[0m\n\u001b[0;32m----> 1\u001b[0m my_array\u001b[39m*\u001b[39;49mnew_array\n",
      "\u001b[0;31mValueError\u001b[0m: operands could not be broadcast together with shapes (6,10) (6,3) "
     ]
    }
   ],
   "source": [
    "my_array*new_array"
   ]
  },
  {
   "cell_type": "code",
   "execution_count": 30,
   "metadata": {},
   "outputs": [
    {
     "data": {
      "text/plain": [
       "array([[0, 0, 0, 0, 0],\n",
       "       [0, 0, 0, 0, 0],\n",
       "       [0, 0, 0, 0, 0],\n",
       "       [0, 0, 0, 0, 0],\n",
       "       [0, 0, 0, 0, 0]])"
      ]
     },
     "execution_count": 30,
     "metadata": {},
     "output_type": "execute_result"
    }
   ],
   "source": [
    "# Create a NumPy array of dimensions 5 x 5 where each element is a zero.\n",
    "arr1 = np.full((5, 5), fill_value = 0)\n",
    "\n",
    "arr1\n"
   ]
  },
  {
   "cell_type": "code",
   "execution_count": 33,
   "metadata": {},
   "outputs": [
    {
     "data": {
      "text/plain": [
       "array([[1, 0, 0, 0, 0],\n",
       "       [0, 1, 0, 0, 0],\n",
       "       [0, 0, 1, 0, 0],\n",
       "       [0, 0, 0, 1, 0],\n",
       "       [0, 0, 0, 0, 1]])"
      ]
     },
     "execution_count": 33,
     "metadata": {},
     "output_type": "execute_result"
    }
   ],
   "source": [
    "# Replace the left diagonal of the array with 1s.\n",
    "\n",
    "arr1 = np.eye(arr1.shape[1], dtype='int64') \n",
    "arr1"
   ]
  },
  {
   "cell_type": "code",
   "execution_count": 35,
   "metadata": {},
   "outputs": [
    {
     "data": {
      "text/plain": [
       "array([[[13, 10, 68, 84, 75],\n",
       "        [61, 76, 77, 37, 58],\n",
       "        [54, 77, 53, 58, 98],\n",
       "        [ 5, 20, 56, 56, 33]],\n",
       "\n",
       "       [[57, 55, 62, 98, 25],\n",
       "        [90, 61, 86, 15,  8],\n",
       "        [89, 49, 29,  8, 89],\n",
       "        [49, 79, 89, 25, 15]],\n",
       "\n",
       "       [[84, 16, 31, 86, 46],\n",
       "        [55, 18, 72, 95, 36],\n",
       "        [95, 21, 54, 39, 76],\n",
       "        [ 8, 61, 19, 29, 27]]])"
      ]
     },
     "execution_count": 35,
     "metadata": {},
     "output_type": "execute_result"
    }
   ],
   "source": [
    "# Create a 3D array of size (3,4,5) and use slicing to select the first two elements of the last dimension.\n",
    "\n",
    "three_d_array = np.random.randint(101, size=(3,4,5), dtype=int)\n",
    "\n",
    "three_d_array"
   ]
  },
  {
   "cell_type": "code",
   "execution_count": 44,
   "metadata": {},
   "outputs": [
    {
     "data": {
      "text/plain": [
       "array([[84, 16, 31, 86, 46],\n",
       "       [55, 18, 72, 95, 36],\n",
       "       [95, 21, 54, 39, 76],\n",
       "       [ 8, 61, 19, 29, 27]])"
      ]
     },
     "execution_count": 44,
     "metadata": {},
     "output_type": "execute_result"
    }
   ],
   "source": [
    "three_d_array[2]"
   ]
  },
  {
   "cell_type": "code",
   "execution_count": 56,
   "metadata": {},
   "outputs": [
    {
     "data": {
      "text/plain": [
       "array([84, 16])"
      ]
     },
     "execution_count": 56,
     "metadata": {},
     "output_type": "execute_result"
    }
   ],
   "source": [
    "three_d_array[2][0, 0:2]"
   ]
  },
  {
   "cell_type": "markdown",
   "metadata": {},
   "source": [
    "## Numpy - Reshape and Broadcasting - Practicals"
   ]
  },
  {
   "cell_type": "code",
   "execution_count": 61,
   "metadata": {},
   "outputs": [
    {
     "data": {
      "text/plain": [
       "array([[19, 15,  4,  0, 10,  4,  0,  7,  7,  3]])"
      ]
     },
     "execution_count": 61,
     "metadata": {},
     "output_type": "execute_result"
    }
   ],
   "source": [
    "arr_2 = np.random.randint(20, size=(1,10), dtype=int)\n",
    "arr_2"
   ]
  },
  {
   "cell_type": "code",
   "execution_count": 62,
   "metadata": {},
   "outputs": [
    {
     "data": {
      "text/plain": [
       "array([[19, 15,  4,  0, 10],\n",
       "       [ 4,  0,  7,  7,  3]])"
      ]
     },
     "execution_count": 62,
     "metadata": {},
     "output_type": "execute_result"
    }
   ],
   "source": [
    "arr_2.reshape(2,5)"
   ]
  },
  {
   "cell_type": "code",
   "execution_count": 64,
   "metadata": {},
   "outputs": [
    {
     "data": {
      "text/plain": [
       "array([[17, 11,  0, 16,  8]])"
      ]
     },
     "execution_count": 64,
     "metadata": {},
     "output_type": "execute_result"
    }
   ],
   "source": [
    "# Create a second NumPy array with 5 elements, and join it to the first array using the concatenate function.\n",
    "\n",
    "arr_3 = np.random.randint(20, size=(1,5), dtype=int)\n",
    "arr_3"
   ]
  },
  {
   "cell_type": "code",
   "execution_count": 68,
   "metadata": {},
   "outputs": [
    {
     "data": {
      "text/plain": [
       "array([[19, 15,  4,  0, 10,  4,  0,  7,  7,  3, 17, 11,  0, 16,  8]])"
      ]
     },
     "execution_count": 68,
     "metadata": {},
     "output_type": "execute_result"
    }
   ],
   "source": [
    "np.concatenate((arr_2, arr_3), axis=1)"
   ]
  },
  {
   "cell_type": "code",
   "execution_count": 70,
   "metadata": {},
   "outputs": [
    {
     "data": {
      "text/plain": [
       "array([[35, 34,  2],\n",
       "       [35, 33, 33]])"
      ]
     },
     "execution_count": 70,
     "metadata": {},
     "output_type": "execute_result"
    }
   ],
   "source": [
    "# Create two arrays of size (2,3) and broadcast them together to create an array of size (2,3,3).\n",
    "\n",
    "arr_3 = np.random.randint(40, size=(2,3), dtype=int)\n",
    "arr_3"
   ]
  },
  {
   "cell_type": "code",
   "execution_count": 71,
   "metadata": {},
   "outputs": [
    {
     "data": {
      "text/plain": [
       "array([[51,  4, 20],\n",
       "       [44, 29, 41]])"
      ]
     },
     "execution_count": 71,
     "metadata": {},
     "output_type": "execute_result"
    }
   ],
   "source": [
    "arr_4 = np.random.randint(60, size=(2,3), dtype=int)\n",
    "arr_4"
   ]
  },
  {
   "cell_type": "code",
   "execution_count": 73,
   "metadata": {},
   "outputs": [
    {
     "data": {
      "text/plain": [
       "array([[1785,  136,   40],\n",
       "       [1540,  957, 1353]])"
      ]
     },
     "execution_count": 73,
     "metadata": {},
     "output_type": "execute_result"
    }
   ],
   "source": [
    "result = arr_3 * arr_4\n",
    "result"
   ]
  }
 ],
 "metadata": {
  "kernelspec": {
   "display_name": "airbnb_venv",
   "language": "python",
   "name": "python3"
  },
  "language_info": {
   "codemirror_mode": {
    "name": "ipython",
    "version": 3
   },
   "file_extension": ".py",
   "mimetype": "text/x-python",
   "name": "python",
   "nbconvert_exporter": "python",
   "pygments_lexer": "ipython3",
   "version": "3.9.13"
  },
  "orig_nbformat": 4,
  "vscode": {
   "interpreter": {
    "hash": "542ceaa9af875ce9b2350b4f7ccf68c23e5d3425160335ff7a67958514d7a01e"
   }
  }
 },
 "nbformat": 4,
 "nbformat_minor": 2
}
