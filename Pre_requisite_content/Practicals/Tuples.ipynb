{
 "cells": [
  {
   "cell_type": "code",
   "execution_count": 14,
   "metadata": {},
   "outputs": [
    {
     "name": "stdout",
     "output_type": "stream",
     "text": [
      "<class 'tuple'>\n"
     ]
    }
   ],
   "source": [
    "tuple_1 = ()\n",
    "tuple_1\n",
    "\n",
    "print(type(tuple_1))"
   ]
  },
  {
   "cell_type": "code",
   "execution_count": 24,
   "metadata": {},
   "outputs": [],
   "source": [
    "# tuple_2 = tuple\n"
   ]
  },
  {
   "cell_type": "code",
   "execution_count": null,
   "metadata": {},
   "outputs": [],
   "source": []
  },
  {
   "cell_type": "code",
   "execution_count": 27,
   "metadata": {},
   "outputs": [
    {
     "name": "stdout",
     "output_type": "stream",
     "text": [
      "('tuple', False, 3.2, 1)\n"
     ]
    }
   ],
   "source": [
    "tuplex = (\"tuple\", False, 3.2, 1)\n",
    "print(tuplex)"
   ]
  },
  {
   "cell_type": "code",
   "execution_count": 28,
   "metadata": {},
   "outputs": [
    {
     "data": {
      "text/plain": [
       "('tuple', False, 3.2, 1)"
      ]
     },
     "execution_count": 28,
     "metadata": {},
     "output_type": "execute_result"
    }
   ],
   "source": [
    "tuple_1 + tuplex"
   ]
  },
  {
   "cell_type": "code",
   "execution_count": 29,
   "metadata": {},
   "outputs": [
    {
     "name": "stdout",
     "output_type": "stream",
     "text": [
      "tuple\n",
      "False\n",
      "3.2\n",
      "1\n"
     ]
    }
   ],
   "source": [
    "for x in tuplex:\n",
    "    print(x)\n"
   ]
  },
  {
   "cell_type": "code",
   "execution_count": 30,
   "metadata": {},
   "outputs": [
    {
     "data": {
      "text/plain": [
       "2"
      ]
     },
     "execution_count": 30,
     "metadata": {},
     "output_type": "execute_result"
    }
   ],
   "source": [
    "vowels = ('a', 'e', 'i', 'o', 'i', 'u')\n",
    "vowels.count('i')"
   ]
  },
  {
   "cell_type": "code",
   "execution_count": 31,
   "metadata": {},
   "outputs": [
    {
     "data": {
      "text/plain": [
       "8"
      ]
     },
     "execution_count": 31,
     "metadata": {},
     "output_type": "execute_result"
    }
   ],
   "source": [
    "numbers = (1, 7, 2, 7, 3, 7, 4, 7, 5, 7, 6, 7, 7, 7)\n",
    "numbers.count(7)"
   ]
  },
  {
   "cell_type": "code",
   "execution_count": 33,
   "metadata": {},
   "outputs": [
    {
     "data": {
      "text/plain": [
       "1"
      ]
     },
     "execution_count": 33,
     "metadata": {},
     "output_type": "execute_result"
    }
   ],
   "source": [
    "tuple = (1, 'f', [1, 2, 3], [4, 5], ('f', 'd'), ('f', 'd', 'e'), [1, 2, 3], 'a')\n",
    "tuple.count([1, 2, 3])\n",
    "tuple.count(('f', 'd'))"
   ]
  },
  {
   "cell_type": "code",
   "execution_count": 35,
   "metadata": {},
   "outputs": [
    {
     "ename": "ValueError",
     "evalue": "tuple.index(x): x not in tuple",
     "output_type": "error",
     "traceback": [
      "\u001b[0;31m---------------------------------------------------------------------------\u001b[0m",
      "\u001b[0;31mValueError\u001b[0m                                Traceback (most recent call last)",
      "Cell \u001b[0;32mIn[35], line 4\u001b[0m\n\u001b[1;32m      2\u001b[0m vowels\u001b[39m.\u001b[39mindex(\u001b[39m'\u001b[39m\u001b[39me\u001b[39m\u001b[39m'\u001b[39m)\n\u001b[1;32m      3\u001b[0m vowels\u001b[39m.\u001b[39mindex(\u001b[39m'\u001b[39m\u001b[39mi\u001b[39m\u001b[39m'\u001b[39m)\n\u001b[0;32m----> 4\u001b[0m vowels\u001b[39m.\u001b[39;49mindex(\u001b[39m'\u001b[39;49m\u001b[39mb\u001b[39;49m\u001b[39m'\u001b[39;49m)\n",
      "\u001b[0;31mValueError\u001b[0m: tuple.index(x): x not in tuple"
     ]
    }
   ],
   "source": [
    "vowels = ('a', 'e', 'i', 'o', 'i', 'u')\n",
    "vowels.index('e')\n",
    "vowels.index('i')\n",
    "vowels.index('b')"
   ]
  },
  {
   "cell_type": "code",
   "execution_count": 44,
   "metadata": {},
   "outputs": [
    {
     "data": {
      "text/plain": [
       "3"
      ]
     },
     "execution_count": 44,
     "metadata": {},
     "output_type": "execute_result"
    }
   ],
   "source": [
    "alphabet = ('a', 'e', 'i', 'o', 'u', 'g', 'l', 'i', 'u')\n",
    "\n",
    "sliced_alphabet = alphabet[4:8]\n",
    "sliced_alphabet.index('i')\n",
    "\n"
   ]
  },
  {
   "cell_type": "code",
   "execution_count": 46,
   "metadata": {},
   "outputs": [
    {
     "name": "stdout",
     "output_type": "stream",
     "text": [
      "xw is equal to a\n",
      "xx is equal to 5\n",
      "xy is equal to [1, 2, 3]\n",
      "xz is equal to 3.5\n"
     ]
    }
   ],
   "source": [
    "mixed_tuple = ('a', 5, [1,2,3], 3.5)\n",
    "\n",
    "xw, xx, xy, xz = ('a', 5, [1,2,3], 3.5)\n",
    "\n",
    "print(f'xw is equal to {xw}')\n",
    "print(f'xx is equal to {xx}')\n",
    "print(f'xy is equal to {xy}')\n",
    "print(f'xz is equal to {xz}')\n"
   ]
  },
  {
   "cell_type": "code",
   "execution_count": 50,
   "metadata": {},
   "outputs": [
    {
     "name": "stdout",
     "output_type": "stream",
     "text": [
      "70\n",
      "AiCore 10 Programming\n",
      "70\n"
     ]
    }
   ],
   "source": [
    "tuple = (70, \"AiCore\", 10, \"Programming\", 70) \n",
    "x, *y, z = tuple\n",
    "\n",
    "print(x)\n",
    "print(*y)\n",
    "print(z)"
   ]
  },
  {
   "cell_type": "code",
   "execution_count": 52,
   "metadata": {},
   "outputs": [
    {
     "ename": "TypeError",
     "evalue": "Value after * must be an iterable, not int",
     "output_type": "error",
     "traceback": [
      "\u001b[0;31m---------------------------------------------------------------------------\u001b[0m",
      "\u001b[0;31mTypeError\u001b[0m                                 Traceback (most recent call last)",
      "Cell \u001b[0;32mIn[52], line 2\u001b[0m\n\u001b[1;32m      1\u001b[0m \u001b[39mtuple\u001b[39m \u001b[39m=\u001b[39m (\u001b[39m70\u001b[39m, \u001b[39m\"\u001b[39m\u001b[39mAiCore\u001b[39m\u001b[39m\"\u001b[39m, \u001b[39m10\u001b[39m, \u001b[39m\"\u001b[39m\u001b[39mProgramming\u001b[39m\u001b[39m\"\u001b[39m, \u001b[39m70\u001b[39m)\n\u001b[0;32m----> 2\u001b[0m \u001b[39mtuple\u001b[39m \u001b[39m=\u001b[39m x, y, \u001b[39m*\u001b[39mz\n\u001b[1;32m      4\u001b[0m \u001b[39mprint\u001b[39m(x)\n\u001b[1;32m      5\u001b[0m \u001b[39mprint\u001b[39m(y)\n",
      "\u001b[0;31mTypeError\u001b[0m: Value after * must be an iterable, not int"
     ]
    }
   ],
   "source": [
    "tuple = (70, \"AiCore\", 10, \"Programming\", 70)\n",
    "tuple = x, y, *z\n",
    "\n",
    "print(x)\n",
    "print(y)\n",
    "print(z)\n",
    "\n"
   ]
  }
 ],
 "metadata": {
  "kernelspec": {
   "display_name": "airbnb_venv",
   "language": "python",
   "name": "python3"
  },
  "language_info": {
   "codemirror_mode": {
    "name": "ipython",
    "version": 3
   },
   "file_extension": ".py",
   "mimetype": "text/x-python",
   "name": "python",
   "nbconvert_exporter": "python",
   "pygments_lexer": "ipython3",
   "version": "3.9.13 (v3.9.13:6de2ca5339, May 17 2022, 11:37:23) \n[Clang 13.0.0 (clang-1300.0.29.30)]"
  },
  "orig_nbformat": 4,
  "vscode": {
   "interpreter": {
    "hash": "542ceaa9af875ce9b2350b4f7ccf68c23e5d3425160335ff7a67958514d7a01e"
   }
  }
 },
 "nbformat": 4,
 "nbformat_minor": 2
}
