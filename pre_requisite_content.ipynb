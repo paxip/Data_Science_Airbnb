{
 "cells": [
  {
   "cell_type": "code",
   "execution_count": null,
   "metadata": {},
   "outputs": [],
   "source": [
    "import pandas as pd\n",
    "import glob\n",
    "import plotly.express as px\n",
    "import matplotlib\n",
    "\n",
    "df = pd.read_csv('Medals.csv', encoding= 'unicode_escape')\n",
    "print(df.info())\n"
   ]
  },
  {
   "cell_type": "code",
   "execution_count": null,
   "metadata": {},
   "outputs": [],
   "source": [
    "\n",
    "# df.set_index('Team/NOC')\n",
    "df.drop(columns=['Rank', 'Rank by Total'], inplace=True)\n",
    "\n"
   ]
  },
  {
   "cell_type": "code",
   "execution_count": null,
   "metadata": {},
   "outputs": [],
   "source": [
    "print(df.info())"
   ]
  },
  {
   "cell_type": "code",
   "execution_count": null,
   "metadata": {},
   "outputs": [],
   "source": [
    "fig = px.bar(df, x='Team/NOC', y=['Gold', 'Silver', 'Bronze'], labels={'variable':'Medals', 'value':'Total'})\n",
    "fig.show()\n",
    "\n",
    "# athletes_per_discipline_per_gender = px.bar(df, x=“Discipline”, y=[“Female”, “Male”], title=“Total Athletes per Discipline per Gender”,\n",
    "#                                             labels={\n",
    "#                                                     ‘value’:‘Total’,\n",
    "#                                                     ‘variable’:‘Gender’}"
   ]
  },
  {
   "cell_type": "markdown",
   "metadata": {},
   "source": [
    "## India Air Quality"
   ]
  },
  {
   "cell_type": "code",
   "execution_count": null,
   "metadata": {},
   "outputs": [],
   "source": [
    "df = pd.read_csv('India_Air_Quality.csv', encoding= 'unicode_escape')\n",
    "print(df.info())"
   ]
  },
  {
   "cell_type": "code",
   "execution_count": null,
   "metadata": {},
   "outputs": [],
   "source": [
    "df.isnull()\n"
   ]
  },
  {
   "cell_type": "code",
   "execution_count": null,
   "metadata": {},
   "outputs": [],
   "source": [
    "print(df.isnull().sum())"
   ]
  },
  {
   "cell_type": "code",
   "execution_count": null,
   "metadata": {},
   "outputs": [],
   "source": [
    "new_df = df[['so2', 'no2', 'pm2_5','date']]\n",
    "print(new_df.info())\n",
    "\n",
    "\n",
    "\n"
   ]
  },
  {
   "cell_type": "code",
   "execution_count": null,
   "metadata": {},
   "outputs": [],
   "source": [
    "fig = px.line(new_df, x='date', y=['so2','no2','pm2_5'])\n"
   ]
  },
  {
   "cell_type": "markdown",
   "metadata": {},
   "source": [
    "## Data Cleaning\n"
   ]
  },
  {
   "cell_type": "code",
   "execution_count": null,
   "metadata": {},
   "outputs": [],
   "source": [
    "import pandas as pd\n",
    "pd.set_option('display.max_columns', None)\n",
    "flights_df = pd.read_csv(\"flights.txt\", sep=\"|\") # Make sure flights.txt is in the same directory\n"
   ]
  },
  {
   "cell_type": "code",
   "execution_count": null,
   "metadata": {},
   "outputs": [],
   "source": [
    "flights_df.head"
   ]
  },
  {
   "cell_type": "code",
   "execution_count": null,
   "metadata": {},
   "outputs": [],
   "source": [
    "flights_df.dtypes"
   ]
  },
  {
   "cell_type": "code",
   "execution_count": null,
   "metadata": {},
   "outputs": [],
   "source": [
    "flights_df.info()"
   ]
  },
  {
   "cell_type": "code",
   "execution_count": null,
   "metadata": {},
   "outputs": [],
   "source": [
    "df = flights_df.copy() \n"
   ]
  },
  {
   "cell_type": "code",
   "execution_count": null,
   "metadata": {},
   "outputs": [],
   "source": [
    "distance_df = flights_df.loc[:, \"DISTANCE\"].head(10)\n",
    "print(distance_df)"
   ]
  },
  {
   "cell_type": "code",
   "execution_count": null,
   "metadata": {},
   "outputs": [],
   "source": [
    "flights_df.loc[:, \"DISTANCE\"].head(10)"
   ]
  },
  {
   "cell_type": "code",
   "execution_count": null,
   "metadata": {},
   "outputs": [],
   "source": [
    "flights_df[\"DISTANCE\"] = flights_df[\"DISTANCE\"].astype('int64')\n"
   ]
  },
  {
   "cell_type": "code",
   "execution_count": null,
   "metadata": {},
   "outputs": [],
   "source": [
    "flights_df[\"DISTANCE\"]"
   ]
  },
  {
   "cell_type": "code",
   "execution_count": null,
   "metadata": {},
   "outputs": [],
   "source": [
    "flights_df[\"AIRLINECODE\"].describe()"
   ]
  },
  {
   "cell_type": "code",
   "execution_count": null,
   "metadata": {},
   "outputs": [],
   "source": [
    "flights_df['AIRLINECODE'] = flights_df['AIRLINECODE'].astype('category')\n",
    "flights_df['AIRLINECODE']"
   ]
  },
  {
   "cell_type": "code",
   "execution_count": null,
   "metadata": {},
   "outputs": [],
   "source": [
    "flights_df[\"AIRLINECODE\"].describe()"
   ]
  },
  {
   "cell_type": "code",
   "execution_count": null,
   "metadata": {},
   "outputs": [],
   "source": [
    "flights_df['AIRLINECODE'] = flights_df['AIRLINECODE'].astype('object')\n",
    "flights_df.info()"
   ]
  },
  {
   "cell_type": "code",
   "execution_count": null,
   "metadata": {},
   "outputs": [],
   "source": [
    "flights_df['AIRLINECODE'] = flights_df['AIRLINECODE'].astype('category')\n",
    "flights_df.info()"
   ]
  },
  {
   "cell_type": "code",
   "execution_count": null,
   "metadata": {},
   "outputs": [],
   "source": [
    "flights_df['AIRLINECODE_ASINT'] = flights_df['AIRLINECODE'].cat.codes.astype('int64')\n",
    "flights_df['AIRLINECODE_ASINT']"
   ]
  },
  {
   "cell_type": "code",
   "execution_count": null,
   "metadata": {},
   "outputs": [],
   "source": [
    "flights_df['AIRLINECODE_ASINT'].describe()"
   ]
  },
  {
   "cell_type": "code",
   "execution_count": null,
   "metadata": {},
   "outputs": [],
   "source": [
    "flights_df = flights_df.drop('AIRLINECODE_ASINT', 1)"
   ]
  },
  {
   "cell_type": "code",
   "execution_count": null,
   "metadata": {},
   "outputs": [],
   "source": [
    "flights_df.info()"
   ]
  },
  {
   "cell_type": "code",
   "execution_count": null,
   "metadata": {},
   "outputs": [],
   "source": [
    "'''\n",
    "Description of an item : text\n",
    "Yearly income : numeric\n",
    "Size of clothing : category\n",
    "Arrival time of a plane : datetime\n",
    "Birthdays of this cohort : datetime\n",
    "Flavours of milkshakes at McDonalds : category\n",
    "First half of a postcode : category\n",
    "Full postcode : category\n",
    "The time it took for runners to complete a 5K : numeric\n",
    "'''"
   ]
  },
  {
   "cell_type": "code",
   "execution_count": null,
   "metadata": {},
   "outputs": [],
   "source": [
    "flights_df.duplicated()"
   ]
  },
  {
   "cell_type": "code",
   "execution_count": null,
   "metadata": {},
   "outputs": [],
   "source": [
    "'''\n",
    "Note that we can .sum() over boolean values. \n",
    "Basically, False's are interpreted as 0s and True's as 1. \n",
    "So by summing over the dataframe, we can get the total number of duplicate values!\n",
    "'''\n",
    "\n",
    "flights_df.duplicated().sum()"
   ]
  },
  {
   "cell_type": "code",
   "execution_count": null,
   "metadata": {},
   "outputs": [],
   "source": [
    "duplicates = flights_df.duplicated(subset = [\"ORIGAIRPORTNAME\", \"DESTAIRPORTNAME\", \"AIRLINECODE\", \"FLIGHTDATE\", \"CRSDEPTIME\", \"DEPTIME\", \"ARRTIME\"], keep=False)\n",
    "flights_df[duplicates]\n",
    "# flights_df[duplicates].info()\n",
    "\n",
    "\n"
   ]
  },
  {
   "cell_type": "code",
   "execution_count": null,
   "metadata": {},
   "outputs": [],
   "source": [
    "flights_df[duplicates].sort_values(by='FLIGHTDATE', ascending=True)\n"
   ]
  },
  {
   "cell_type": "code",
   "execution_count": null,
   "metadata": {},
   "outputs": [],
   "source": [
    "summaries = {\"CRSARRTIME\": \"mean\", \"ARRTIME\": \"mean\", \"ARRDELAY\": \"mean\", \"CRSELAPSEDTIME\": \"mean\", \"ACTUALELAPSEDTIME\": \"mean\"}\n",
    "\n",
    "grouped_duplicates = flights_df[duplicates].groupby([\"FLIGHTDATE\", \"AIRLINECODE\", \"ORIGAIRPORTNAME\", \"DESTAIRPORTNAME\"])\n",
    "grouped_duplicates_min_transactionid = grouped_duplicates[\"TRANSACTIONID\"].min().reset_index()\n",
    "\n",
    "f_df_duplicates = pd.merge(\n",
    "    grouped_duplicates_min_transactionid,\n",
    "    grouped_duplicates.agg(summaries).reset_index(),\n",
    "    how=\"inner\"\n",
    ").sort_values(\"TRANSACTIONID\")\n",
    "\n",
    "f_df_duplicates\n"
   ]
  },
  {
   "cell_type": "code",
   "execution_count": null,
   "metadata": {},
   "outputs": [],
   "source": [
    "f_df_duplicates['TRANSACTIONID'].isnull().sum()"
   ]
  },
  {
   "cell_type": "code",
   "execution_count": null,
   "metadata": {},
   "outputs": [],
   "source": [
    "f_df_duplicates[f_df_duplicates['TRANSACTIONID'].isnull()] #filtering in pandas\n"
   ]
  },
  {
   "cell_type": "code",
   "execution_count": null,
   "metadata": {},
   "outputs": [],
   "source": [
    "f_df_duplicates.dropna(subset=['TRANSACTIONID'], inplace=True) #can also use 'all'"
   ]
  },
  {
   "cell_type": "code",
   "execution_count": null,
   "metadata": {},
   "outputs": [],
   "source": [
    "f_df_duplicates"
   ]
  },
  {
   "cell_type": "code",
   "execution_count": null,
   "metadata": {},
   "outputs": [],
   "source": [
    "f_df_duplicates[f_df_duplicates['TRANSACTIONID'].isnull()]"
   ]
  },
  {
   "cell_type": "code",
   "execution_count": null,
   "metadata": {},
   "outputs": [],
   "source": [
    "f_df_duplicates.dtypes"
   ]
  },
  {
   "cell_type": "code",
   "execution_count": null,
   "metadata": {},
   "outputs": [],
   "source": [
    "f_df_duplicates[\"TRANSACTIONID\"] = f_df_duplicates[\"TRANSACTIONID\"].astype('int64')\n",
    "f_df_duplicates.dtypes"
   ]
  },
  {
   "cell_type": "code",
   "execution_count": null,
   "metadata": {},
   "outputs": [],
   "source": [
    "flights_df"
   ]
  },
  {
   "cell_type": "code",
   "execution_count": null,
   "metadata": {},
   "outputs": [],
   "source": [
    "f_df_duplicates"
   ]
  },
  {
   "cell_type": "code",
   "execution_count": null,
   "metadata": {},
   "outputs": [],
   "source": [
    "flights_df.set_index('TRANSACTIONID', inplace=True)"
   ]
  },
  {
   "cell_type": "code",
   "execution_count": null,
   "metadata": {},
   "outputs": [],
   "source": [
    "f_df_duplicates.set_index('TRANSACTIONID', inplace=True)"
   ]
  },
  {
   "cell_type": "code",
   "execution_count": null,
   "metadata": {},
   "outputs": [],
   "source": [
    "flights_df.update(f_df_duplicates)"
   ]
  },
  {
   "cell_type": "code",
   "execution_count": null,
   "metadata": {},
   "outputs": [],
   "source": [
    "flights_df"
   ]
  },
  {
   "cell_type": "code",
   "execution_count": null,
   "metadata": {},
   "outputs": [],
   "source": [
    "flights_df.reset_index()"
   ]
  },
  {
   "cell_type": "code",
   "execution_count": null,
   "metadata": {},
   "outputs": [],
   "source": [
    "flights_df[flights_df[\"TRANSACTIONID\"]==1974100]"
   ]
  },
  {
   "cell_type": "code",
   "execution_count": null,
   "metadata": {},
   "outputs": [],
   "source": [
    "flights_df.drop_duplicates(subset=[\"ORIGAIRPORTNAME\", \"DESTAIRPORTNAME\", \"AIRLINECODE\", \"FLIGHTDATE\", \"CRSDEPTIME\", \"DEPTIME\", \"ARRTIME\"], keep=False)\n"
   ]
  },
  {
   "cell_type": "code",
   "execution_count": null,
   "metadata": {},
   "outputs": [],
   "source": [
    "states_df = flights_df.sort_values(by=['ORIGINSTATENAME'], ascending=True)\n",
    "states_df = states_df['ORIGINSTATENAME'].unique()\n",
    "\n",
    "states_df\n",
    "\n",
    "\n",
    "\n",
    "\n",
    "\n"
   ]
  },
  {
   "cell_type": "code",
   "execution_count": null,
   "metadata": {},
   "outputs": [],
   "source": [
    "unique_states_inc_fakestate_df = flights_df.at[383019, 'ORIGINSTATENAME'] = 'Fakestate'\n",
    "unique_states_inc_fakestate_df = flights_df.at[383019, 'ORIGINSTATENAME']"
   ]
  },
  {
   "cell_type": "code",
   "execution_count": null,
   "metadata": {},
   "outputs": [],
   "source": [
    "unique_states_inc_fakestate_df\n",
    "flights_df[\"ORIGINSTATENAME\"].unique()"
   ]
  },
  {
   "cell_type": "code",
   "execution_count": null,
   "metadata": {},
   "outputs": [],
   "source": [
    "cancelled_flights = flights_df[\"CANCELLED\"].value_counts()\n",
    "cancelled_flights"
   ]
  },
  {
   "cell_type": "markdown",
   "metadata": {},
   "source": []
  },
  {
   "cell_type": "code",
   "execution_count": null,
   "metadata": {},
   "outputs": [],
   "source": [
    "cancelled_flights.replace("
   ]
  },
  {
   "cell_type": "code",
   "execution_count": null,
   "metadata": {},
   "outputs": [],
   "source": [
    "flights_df = pd.read_csv('flights.txt', sep='|')"
   ]
  },
  {
   "cell_type": "code",
   "execution_count": null,
   "metadata": {},
   "outputs": [],
   "source": [
    "flights_df[\"FLIGHTDATE\"]"
   ]
  },
  {
   "cell_type": "code",
   "execution_count": null,
   "metadata": {},
   "outputs": [],
   "source": [
    "pd.to_datetime(flights_df[\"FLIGHTDATE\"])"
   ]
  },
  {
   "cell_type": "code",
   "execution_count": null,
   "metadata": {},
   "outputs": [],
   "source": [
    "date_format = \"%Y%m%d\"\n",
    "pd.to_datetime(flights_df[\"FLIGHTDATE\"], format=date_format)"
   ]
  },
  {
   "cell_type": "code",
   "execution_count": 92,
   "metadata": {},
   "outputs": [
    {
     "data": {
      "text/html": [
       "<div>\n",
       "<style scoped>\n",
       "    .dataframe tbody tr th:only-of-type {\n",
       "        vertical-align: middle;\n",
       "    }\n",
       "\n",
       "    .dataframe tbody tr th {\n",
       "        vertical-align: top;\n",
       "    }\n",
       "\n",
       "    .dataframe thead th {\n",
       "        text-align: right;\n",
       "    }\n",
       "</style>\n",
       "<table border=\"1\" class=\"dataframe\">\n",
       "  <thead>\n",
       "    <tr style=\"text-align: right;\">\n",
       "      <th></th>\n",
       "      <th>Id</th>\n",
       "      <th>Age</th>\n",
       "      <th>Job</th>\n",
       "      <th>Marital</th>\n",
       "      <th>Education</th>\n",
       "      <th>Default</th>\n",
       "      <th>Balance</th>\n",
       "      <th>HHInsurance</th>\n",
       "      <th>CarLoan</th>\n",
       "      <th>Communication</th>\n",
       "      <th>LastContactDay</th>\n",
       "      <th>LastContactMonth</th>\n",
       "      <th>NoOfContacts</th>\n",
       "      <th>DaysPassed</th>\n",
       "      <th>PrevAttempts</th>\n",
       "      <th>Outcome</th>\n",
       "      <th>CallStart</th>\n",
       "      <th>CallEnd</th>\n",
       "      <th>CarInsurance</th>\n",
       "    </tr>\n",
       "  </thead>\n",
       "  <tbody>\n",
       "    <tr>\n",
       "      <th>0</th>\n",
       "      <td>1</td>\n",
       "      <td>32</td>\n",
       "      <td>management</td>\n",
       "      <td>single</td>\n",
       "      <td>tertiary</td>\n",
       "      <td>0</td>\n",
       "      <td>1218</td>\n",
       "      <td>1</td>\n",
       "      <td>0</td>\n",
       "      <td>telephone</td>\n",
       "      <td>28</td>\n",
       "      <td>jan</td>\n",
       "      <td>2</td>\n",
       "      <td>-1</td>\n",
       "      <td>0</td>\n",
       "      <td>NaN</td>\n",
       "      <td>13:45:20</td>\n",
       "      <td>13:46:30</td>\n",
       "      <td>0</td>\n",
       "    </tr>\n",
       "    <tr>\n",
       "      <th>1</th>\n",
       "      <td>2</td>\n",
       "      <td>32</td>\n",
       "      <td>blue-collar</td>\n",
       "      <td>married</td>\n",
       "      <td>primary</td>\n",
       "      <td>0</td>\n",
       "      <td>1156</td>\n",
       "      <td>1</td>\n",
       "      <td>0</td>\n",
       "      <td>NaN</td>\n",
       "      <td>26</td>\n",
       "      <td>may</td>\n",
       "      <td>5</td>\n",
       "      <td>-1</td>\n",
       "      <td>0</td>\n",
       "      <td>NaN</td>\n",
       "      <td>14:49:03</td>\n",
       "      <td>14:52:08</td>\n",
       "      <td>0</td>\n",
       "    </tr>\n",
       "    <tr>\n",
       "      <th>2</th>\n",
       "      <td>3</td>\n",
       "      <td>29</td>\n",
       "      <td>management</td>\n",
       "      <td>single</td>\n",
       "      <td>tertiary</td>\n",
       "      <td>0</td>\n",
       "      <td>637</td>\n",
       "      <td>1</td>\n",
       "      <td>0</td>\n",
       "      <td>cellular</td>\n",
       "      <td>3</td>\n",
       "      <td>jun</td>\n",
       "      <td>1</td>\n",
       "      <td>119</td>\n",
       "      <td>1</td>\n",
       "      <td>failure</td>\n",
       "      <td>16:30:24</td>\n",
       "      <td>16:36:04</td>\n",
       "      <td>1</td>\n",
       "    </tr>\n",
       "    <tr>\n",
       "      <th>3</th>\n",
       "      <td>4</td>\n",
       "      <td>25</td>\n",
       "      <td>student</td>\n",
       "      <td>single</td>\n",
       "      <td>primary</td>\n",
       "      <td>0</td>\n",
       "      <td>373</td>\n",
       "      <td>1</td>\n",
       "      <td>0</td>\n",
       "      <td>cellular</td>\n",
       "      <td>11</td>\n",
       "      <td>may</td>\n",
       "      <td>2</td>\n",
       "      <td>-1</td>\n",
       "      <td>0</td>\n",
       "      <td>NaN</td>\n",
       "      <td>12:06:43</td>\n",
       "      <td>12:20:22</td>\n",
       "      <td>1</td>\n",
       "    </tr>\n",
       "    <tr>\n",
       "      <th>4</th>\n",
       "      <td>5</td>\n",
       "      <td>30</td>\n",
       "      <td>management</td>\n",
       "      <td>married</td>\n",
       "      <td>tertiary</td>\n",
       "      <td>0</td>\n",
       "      <td>2694</td>\n",
       "      <td>0</td>\n",
       "      <td>0</td>\n",
       "      <td>cellular</td>\n",
       "      <td>3</td>\n",
       "      <td>jun</td>\n",
       "      <td>1</td>\n",
       "      <td>-1</td>\n",
       "      <td>0</td>\n",
       "      <td>NaN</td>\n",
       "      <td>14:35:44</td>\n",
       "      <td>14:38:56</td>\n",
       "      <td>0</td>\n",
       "    </tr>\n",
       "    <tr>\n",
       "      <th>...</th>\n",
       "      <td>...</td>\n",
       "      <td>...</td>\n",
       "      <td>...</td>\n",
       "      <td>...</td>\n",
       "      <td>...</td>\n",
       "      <td>...</td>\n",
       "      <td>...</td>\n",
       "      <td>...</td>\n",
       "      <td>...</td>\n",
       "      <td>...</td>\n",
       "      <td>...</td>\n",
       "      <td>...</td>\n",
       "      <td>...</td>\n",
       "      <td>...</td>\n",
       "      <td>...</td>\n",
       "      <td>...</td>\n",
       "      <td>...</td>\n",
       "      <td>...</td>\n",
       "      <td>...</td>\n",
       "    </tr>\n",
       "    <tr>\n",
       "      <th>3995</th>\n",
       "      <td>3996</td>\n",
       "      <td>28</td>\n",
       "      <td>technician</td>\n",
       "      <td>single</td>\n",
       "      <td>tertiary</td>\n",
       "      <td>0</td>\n",
       "      <td>0</td>\n",
       "      <td>1</td>\n",
       "      <td>0</td>\n",
       "      <td>cellular</td>\n",
       "      <td>25</td>\n",
       "      <td>may</td>\n",
       "      <td>1</td>\n",
       "      <td>40</td>\n",
       "      <td>2</td>\n",
       "      <td>failure</td>\n",
       "      <td>17:46:28</td>\n",
       "      <td>17:50:57</td>\n",
       "      <td>1</td>\n",
       "    </tr>\n",
       "    <tr>\n",
       "      <th>3996</th>\n",
       "      <td>3997</td>\n",
       "      <td>49</td>\n",
       "      <td>admin.</td>\n",
       "      <td>divorced</td>\n",
       "      <td>secondary</td>\n",
       "      <td>0</td>\n",
       "      <td>124</td>\n",
       "      <td>1</td>\n",
       "      <td>1</td>\n",
       "      <td>cellular</td>\n",
       "      <td>29</td>\n",
       "      <td>jul</td>\n",
       "      <td>19</td>\n",
       "      <td>-1</td>\n",
       "      <td>0</td>\n",
       "      <td>NaN</td>\n",
       "      <td>14:49:16</td>\n",
       "      <td>14:51:21</td>\n",
       "      <td>0</td>\n",
       "    </tr>\n",
       "    <tr>\n",
       "      <th>3997</th>\n",
       "      <td>3998</td>\n",
       "      <td>27</td>\n",
       "      <td>admin.</td>\n",
       "      <td>single</td>\n",
       "      <td>secondary</td>\n",
       "      <td>0</td>\n",
       "      <td>-400</td>\n",
       "      <td>0</td>\n",
       "      <td>1</td>\n",
       "      <td>cellular</td>\n",
       "      <td>8</td>\n",
       "      <td>jul</td>\n",
       "      <td>1</td>\n",
       "      <td>-1</td>\n",
       "      <td>0</td>\n",
       "      <td>NaN</td>\n",
       "      <td>12:19:03</td>\n",
       "      <td>12:23:53</td>\n",
       "      <td>0</td>\n",
       "    </tr>\n",
       "    <tr>\n",
       "      <th>3998</th>\n",
       "      <td>3999</td>\n",
       "      <td>36</td>\n",
       "      <td>entrepreneur</td>\n",
       "      <td>single</td>\n",
       "      <td>tertiary</td>\n",
       "      <td>0</td>\n",
       "      <td>658</td>\n",
       "      <td>1</td>\n",
       "      <td>0</td>\n",
       "      <td>cellular</td>\n",
       "      <td>29</td>\n",
       "      <td>jan</td>\n",
       "      <td>1</td>\n",
       "      <td>227</td>\n",
       "      <td>3</td>\n",
       "      <td>failure</td>\n",
       "      <td>11:27:35</td>\n",
       "      <td>11:29:14</td>\n",
       "      <td>0</td>\n",
       "    </tr>\n",
       "    <tr>\n",
       "      <th>3999</th>\n",
       "      <td>4000</td>\n",
       "      <td>45</td>\n",
       "      <td>services</td>\n",
       "      <td>married</td>\n",
       "      <td>primary</td>\n",
       "      <td>0</td>\n",
       "      <td>137</td>\n",
       "      <td>1</td>\n",
       "      <td>0</td>\n",
       "      <td>NaN</td>\n",
       "      <td>9</td>\n",
       "      <td>may</td>\n",
       "      <td>2</td>\n",
       "      <td>-1</td>\n",
       "      <td>0</td>\n",
       "      <td>NaN</td>\n",
       "      <td>13:31:48</td>\n",
       "      <td>13:36:22</td>\n",
       "      <td>0</td>\n",
       "    </tr>\n",
       "  </tbody>\n",
       "</table>\n",
       "<p>4000 rows × 19 columns</p>\n",
       "</div>"
      ],
      "text/plain": [
       "        Id  Age           Job   Marital  Education  Default  Balance  \\\n",
       "0        1   32    management    single   tertiary        0     1218   \n",
       "1        2   32   blue-collar   married    primary        0     1156   \n",
       "2        3   29    management    single   tertiary        0      637   \n",
       "3        4   25       student    single    primary        0      373   \n",
       "4        5   30    management   married   tertiary        0     2694   \n",
       "...    ...  ...           ...       ...        ...      ...      ...   \n",
       "3995  3996   28    technician    single   tertiary        0        0   \n",
       "3996  3997   49        admin.  divorced  secondary        0      124   \n",
       "3997  3998   27        admin.    single  secondary        0     -400   \n",
       "3998  3999   36  entrepreneur    single   tertiary        0      658   \n",
       "3999  4000   45      services   married    primary        0      137   \n",
       "\n",
       "      HHInsurance  CarLoan Communication  LastContactDay LastContactMonth  \\\n",
       "0               1        0     telephone              28              jan   \n",
       "1               1        0           NaN              26              may   \n",
       "2               1        0      cellular               3              jun   \n",
       "3               1        0      cellular              11              may   \n",
       "4               0        0      cellular               3              jun   \n",
       "...           ...      ...           ...             ...              ...   \n",
       "3995            1        0      cellular              25              may   \n",
       "3996            1        1      cellular              29              jul   \n",
       "3997            0        1      cellular               8              jul   \n",
       "3998            1        0      cellular              29              jan   \n",
       "3999            1        0           NaN               9              may   \n",
       "\n",
       "      NoOfContacts  DaysPassed  PrevAttempts  Outcome CallStart   CallEnd  \\\n",
       "0                2          -1             0      NaN  13:45:20  13:46:30   \n",
       "1                5          -1             0      NaN  14:49:03  14:52:08   \n",
       "2                1         119             1  failure  16:30:24  16:36:04   \n",
       "3                2          -1             0      NaN  12:06:43  12:20:22   \n",
       "4                1          -1             0      NaN  14:35:44  14:38:56   \n",
       "...            ...         ...           ...      ...       ...       ...   \n",
       "3995             1          40             2  failure  17:46:28  17:50:57   \n",
       "3996            19          -1             0      NaN  14:49:16  14:51:21   \n",
       "3997             1          -1             0      NaN  12:19:03  12:23:53   \n",
       "3998             1         227             3  failure  11:27:35  11:29:14   \n",
       "3999             2          -1             0      NaN  13:31:48  13:36:22   \n",
       "\n",
       "      CarInsurance  \n",
       "0                0  \n",
       "1                0  \n",
       "2                1  \n",
       "3                1  \n",
       "4                0  \n",
       "...            ...  \n",
       "3995             1  \n",
       "3996             0  \n",
       "3997             0  \n",
       "3998             0  \n",
       "3999             0  \n",
       "\n",
       "[4000 rows x 19 columns]"
      ]
     },
     "execution_count": 92,
     "metadata": {},
     "output_type": "execute_result"
    }
   ],
   "source": [
    "car_insurance_df = pd.read_csv('Car_Insurance.csv')\n",
    "car_insurance_df"
   ]
  },
  {
   "cell_type": "code",
   "execution_count": 93,
   "metadata": {},
   "outputs": [
    {
     "name": "stdout",
     "output_type": "stream",
     "text": [
      "<class 'pandas.core.frame.DataFrame'>\n",
      "RangeIndex: 4000 entries, 0 to 3999\n",
      "Data columns (total 19 columns):\n",
      " #   Column            Non-Null Count  Dtype \n",
      "---  ------            --------------  ----- \n",
      " 0   Id                4000 non-null   int64 \n",
      " 1   Age               4000 non-null   int64 \n",
      " 2   Job               3981 non-null   object\n",
      " 3   Marital           4000 non-null   object\n",
      " 4   Education         3831 non-null   object\n",
      " 5   Default           4000 non-null   int64 \n",
      " 6   Balance           4000 non-null   int64 \n",
      " 7   HHInsurance       4000 non-null   int64 \n",
      " 8   CarLoan           4000 non-null   int64 \n",
      " 9   Communication     3098 non-null   object\n",
      " 10  LastContactDay    4000 non-null   int64 \n",
      " 11  LastContactMonth  4000 non-null   object\n",
      " 12  NoOfContacts      4000 non-null   int64 \n",
      " 13  DaysPassed        4000 non-null   int64 \n",
      " 14  PrevAttempts      4000 non-null   int64 \n",
      " 15  Outcome           958 non-null    object\n",
      " 16  CallStart         4000 non-null   object\n",
      " 17  CallEnd           4000 non-null   object\n",
      " 18  CarInsurance      4000 non-null   int64 \n",
      "dtypes: int64(11), object(8)\n",
      "memory usage: 593.9+ KB\n"
     ]
    }
   ],
   "source": [
    "car_insurance_df.info()"
   ]
  },
  {
   "cell_type": "code",
   "execution_count": 97,
   "metadata": {},
   "outputs": [
    {
     "data": {
      "text/plain": [
       "Id                     0\n",
       "Age                    0\n",
       "Job                   19\n",
       "Marital                0\n",
       "Education            169\n",
       "Default                0\n",
       "Balance                0\n",
       "HHInsurance            0\n",
       "CarLoan                0\n",
       "Communication        902\n",
       "LastContactDay         0\n",
       "LastContactMonth       0\n",
       "NoOfContacts           0\n",
       "DaysPassed             0\n",
       "PrevAttempts           0\n",
       "Outcome             3042\n",
       "CallStart              0\n",
       "CallEnd                0\n",
       "CarInsurance           0\n",
       "dtype: int64"
      ]
     },
     "execution_count": 97,
     "metadata": {},
     "output_type": "execute_result"
    }
   ],
   "source": [
    "null_counts = car_insurance_df.isnull().sum()\n",
    "null_counts"
   ]
  },
  {
   "cell_type": "code",
   "execution_count": 98,
   "metadata": {},
   "outputs": [
    {
     "data": {
      "text/html": [
       "<div>\n",
       "<style scoped>\n",
       "    .dataframe tbody tr th:only-of-type {\n",
       "        vertical-align: middle;\n",
       "    }\n",
       "\n",
       "    .dataframe tbody tr th {\n",
       "        vertical-align: top;\n",
       "    }\n",
       "\n",
       "    .dataframe thead th {\n",
       "        text-align: right;\n",
       "    }\n",
       "</style>\n",
       "<table border=\"1\" class=\"dataframe\">\n",
       "  <thead>\n",
       "    <tr style=\"text-align: right;\">\n",
       "      <th></th>\n",
       "      <th>Id</th>\n",
       "      <th>Age</th>\n",
       "      <th>Job</th>\n",
       "      <th>Marital</th>\n",
       "      <th>Education</th>\n",
       "      <th>Default</th>\n",
       "      <th>Balance</th>\n",
       "      <th>HHInsurance</th>\n",
       "      <th>CarLoan</th>\n",
       "      <th>Communication</th>\n",
       "      <th>LastContactDay</th>\n",
       "      <th>LastContactMonth</th>\n",
       "      <th>NoOfContacts</th>\n",
       "      <th>DaysPassed</th>\n",
       "      <th>PrevAttempts</th>\n",
       "      <th>Outcome</th>\n",
       "      <th>CallStart</th>\n",
       "      <th>CallEnd</th>\n",
       "      <th>CarInsurance</th>\n",
       "    </tr>\n",
       "  </thead>\n",
       "  <tbody>\n",
       "    <tr>\n",
       "      <th>2</th>\n",
       "      <td>3</td>\n",
       "      <td>29</td>\n",
       "      <td>management</td>\n",
       "      <td>single</td>\n",
       "      <td>tertiary</td>\n",
       "      <td>0</td>\n",
       "      <td>637</td>\n",
       "      <td>1</td>\n",
       "      <td>0</td>\n",
       "      <td>cellular</td>\n",
       "      <td>3</td>\n",
       "      <td>jun</td>\n",
       "      <td>1</td>\n",
       "      <td>119</td>\n",
       "      <td>1</td>\n",
       "      <td>failure</td>\n",
       "      <td>16:30:24</td>\n",
       "      <td>16:36:04</td>\n",
       "      <td>1</td>\n",
       "    </tr>\n",
       "    <tr>\n",
       "      <th>5</th>\n",
       "      <td>6</td>\n",
       "      <td>32</td>\n",
       "      <td>technician</td>\n",
       "      <td>single</td>\n",
       "      <td>tertiary</td>\n",
       "      <td>0</td>\n",
       "      <td>1625</td>\n",
       "      <td>0</td>\n",
       "      <td>0</td>\n",
       "      <td>cellular</td>\n",
       "      <td>22</td>\n",
       "      <td>may</td>\n",
       "      <td>1</td>\n",
       "      <td>109</td>\n",
       "      <td>1</td>\n",
       "      <td>failure</td>\n",
       "      <td>14:58:08</td>\n",
       "      <td>15:11:24</td>\n",
       "      <td>1</td>\n",
       "    </tr>\n",
       "    <tr>\n",
       "      <th>15</th>\n",
       "      <td>16</td>\n",
       "      <td>61</td>\n",
       "      <td>management</td>\n",
       "      <td>single</td>\n",
       "      <td>tertiary</td>\n",
       "      <td>0</td>\n",
       "      <td>2</td>\n",
       "      <td>0</td>\n",
       "      <td>0</td>\n",
       "      <td>cellular</td>\n",
       "      <td>12</td>\n",
       "      <td>aug</td>\n",
       "      <td>1</td>\n",
       "      <td>114</td>\n",
       "      <td>3</td>\n",
       "      <td>failure</td>\n",
       "      <td>16:18:48</td>\n",
       "      <td>16:20:59</td>\n",
       "      <td>1</td>\n",
       "    </tr>\n",
       "    <tr>\n",
       "      <th>16</th>\n",
       "      <td>17</td>\n",
       "      <td>34</td>\n",
       "      <td>admin.</td>\n",
       "      <td>single</td>\n",
       "      <td>secondary</td>\n",
       "      <td>0</td>\n",
       "      <td>69</td>\n",
       "      <td>1</td>\n",
       "      <td>0</td>\n",
       "      <td>telephone</td>\n",
       "      <td>6</td>\n",
       "      <td>may</td>\n",
       "      <td>3</td>\n",
       "      <td>362</td>\n",
       "      <td>4</td>\n",
       "      <td>other</td>\n",
       "      <td>11:48:45</td>\n",
       "      <td>11:50:17</td>\n",
       "      <td>0</td>\n",
       "    </tr>\n",
       "    <tr>\n",
       "      <th>17</th>\n",
       "      <td>18</td>\n",
       "      <td>46</td>\n",
       "      <td>management</td>\n",
       "      <td>married</td>\n",
       "      <td>tertiary</td>\n",
       "      <td>0</td>\n",
       "      <td>7331</td>\n",
       "      <td>0</td>\n",
       "      <td>0</td>\n",
       "      <td>cellular</td>\n",
       "      <td>11</td>\n",
       "      <td>sep</td>\n",
       "      <td>4</td>\n",
       "      <td>95</td>\n",
       "      <td>2</td>\n",
       "      <td>other</td>\n",
       "      <td>11:23:26</td>\n",
       "      <td>11:34:24</td>\n",
       "      <td>1</td>\n",
       "    </tr>\n",
       "    <tr>\n",
       "      <th>...</th>\n",
       "      <td>...</td>\n",
       "      <td>...</td>\n",
       "      <td>...</td>\n",
       "      <td>...</td>\n",
       "      <td>...</td>\n",
       "      <td>...</td>\n",
       "      <td>...</td>\n",
       "      <td>...</td>\n",
       "      <td>...</td>\n",
       "      <td>...</td>\n",
       "      <td>...</td>\n",
       "      <td>...</td>\n",
       "      <td>...</td>\n",
       "      <td>...</td>\n",
       "      <td>...</td>\n",
       "      <td>...</td>\n",
       "      <td>...</td>\n",
       "      <td>...</td>\n",
       "      <td>...</td>\n",
       "    </tr>\n",
       "    <tr>\n",
       "      <th>3987</th>\n",
       "      <td>3988</td>\n",
       "      <td>27</td>\n",
       "      <td>admin.</td>\n",
       "      <td>married</td>\n",
       "      <td>tertiary</td>\n",
       "      <td>0</td>\n",
       "      <td>2855</td>\n",
       "      <td>0</td>\n",
       "      <td>0</td>\n",
       "      <td>cellular</td>\n",
       "      <td>25</td>\n",
       "      <td>jan</td>\n",
       "      <td>1</td>\n",
       "      <td>301</td>\n",
       "      <td>3</td>\n",
       "      <td>failure</td>\n",
       "      <td>09:55:44</td>\n",
       "      <td>09:59:44</td>\n",
       "      <td>1</td>\n",
       "    </tr>\n",
       "    <tr>\n",
       "      <th>3990</th>\n",
       "      <td>3991</td>\n",
       "      <td>27</td>\n",
       "      <td>technician</td>\n",
       "      <td>single</td>\n",
       "      <td>secondary</td>\n",
       "      <td>0</td>\n",
       "      <td>126</td>\n",
       "      <td>1</td>\n",
       "      <td>1</td>\n",
       "      <td>cellular</td>\n",
       "      <td>5</td>\n",
       "      <td>feb</td>\n",
       "      <td>2</td>\n",
       "      <td>216</td>\n",
       "      <td>4</td>\n",
       "      <td>failure</td>\n",
       "      <td>13:30:49</td>\n",
       "      <td>13:33:16</td>\n",
       "      <td>0</td>\n",
       "    </tr>\n",
       "    <tr>\n",
       "      <th>3992</th>\n",
       "      <td>3993</td>\n",
       "      <td>34</td>\n",
       "      <td>technician</td>\n",
       "      <td>married</td>\n",
       "      <td>secondary</td>\n",
       "      <td>0</td>\n",
       "      <td>0</td>\n",
       "      <td>1</td>\n",
       "      <td>0</td>\n",
       "      <td>cellular</td>\n",
       "      <td>5</td>\n",
       "      <td>aug</td>\n",
       "      <td>2</td>\n",
       "      <td>2</td>\n",
       "      <td>3</td>\n",
       "      <td>success</td>\n",
       "      <td>10:51:19</td>\n",
       "      <td>10:55:10</td>\n",
       "      <td>1</td>\n",
       "    </tr>\n",
       "    <tr>\n",
       "      <th>3995</th>\n",
       "      <td>3996</td>\n",
       "      <td>28</td>\n",
       "      <td>technician</td>\n",
       "      <td>single</td>\n",
       "      <td>tertiary</td>\n",
       "      <td>0</td>\n",
       "      <td>0</td>\n",
       "      <td>1</td>\n",
       "      <td>0</td>\n",
       "      <td>cellular</td>\n",
       "      <td>25</td>\n",
       "      <td>may</td>\n",
       "      <td>1</td>\n",
       "      <td>40</td>\n",
       "      <td>2</td>\n",
       "      <td>failure</td>\n",
       "      <td>17:46:28</td>\n",
       "      <td>17:50:57</td>\n",
       "      <td>1</td>\n",
       "    </tr>\n",
       "    <tr>\n",
       "      <th>3998</th>\n",
       "      <td>3999</td>\n",
       "      <td>36</td>\n",
       "      <td>entrepreneur</td>\n",
       "      <td>single</td>\n",
       "      <td>tertiary</td>\n",
       "      <td>0</td>\n",
       "      <td>658</td>\n",
       "      <td>1</td>\n",
       "      <td>0</td>\n",
       "      <td>cellular</td>\n",
       "      <td>29</td>\n",
       "      <td>jan</td>\n",
       "      <td>1</td>\n",
       "      <td>227</td>\n",
       "      <td>3</td>\n",
       "      <td>failure</td>\n",
       "      <td>11:27:35</td>\n",
       "      <td>11:29:14</td>\n",
       "      <td>0</td>\n",
       "    </tr>\n",
       "  </tbody>\n",
       "</table>\n",
       "<p>907 rows × 19 columns</p>\n",
       "</div>"
      ],
      "text/plain": [
       "        Id  Age           Job  Marital  Education  Default  Balance  \\\n",
       "2        3   29    management   single   tertiary        0      637   \n",
       "5        6   32    technician   single   tertiary        0     1625   \n",
       "15      16   61    management   single   tertiary        0        2   \n",
       "16      17   34        admin.   single  secondary        0       69   \n",
       "17      18   46    management  married   tertiary        0     7331   \n",
       "...    ...  ...           ...      ...        ...      ...      ...   \n",
       "3987  3988   27        admin.  married   tertiary        0     2855   \n",
       "3990  3991   27    technician   single  secondary        0      126   \n",
       "3992  3993   34    technician  married  secondary        0        0   \n",
       "3995  3996   28    technician   single   tertiary        0        0   \n",
       "3998  3999   36  entrepreneur   single   tertiary        0      658   \n",
       "\n",
       "      HHInsurance  CarLoan Communication  LastContactDay LastContactMonth  \\\n",
       "2               1        0      cellular               3              jun   \n",
       "5               0        0      cellular              22              may   \n",
       "15              0        0      cellular              12              aug   \n",
       "16              1        0     telephone               6              may   \n",
       "17              0        0      cellular              11              sep   \n",
       "...           ...      ...           ...             ...              ...   \n",
       "3987            0        0      cellular              25              jan   \n",
       "3990            1        1      cellular               5              feb   \n",
       "3992            1        0      cellular               5              aug   \n",
       "3995            1        0      cellular              25              may   \n",
       "3998            1        0      cellular              29              jan   \n",
       "\n",
       "      NoOfContacts  DaysPassed  PrevAttempts  Outcome CallStart   CallEnd  \\\n",
       "2                1         119             1  failure  16:30:24  16:36:04   \n",
       "5                1         109             1  failure  14:58:08  15:11:24   \n",
       "15               1         114             3  failure  16:18:48  16:20:59   \n",
       "16               3         362             4    other  11:48:45  11:50:17   \n",
       "17               4          95             2    other  11:23:26  11:34:24   \n",
       "...            ...         ...           ...      ...       ...       ...   \n",
       "3987             1         301             3  failure  09:55:44  09:59:44   \n",
       "3990             2         216             4  failure  13:30:49  13:33:16   \n",
       "3992             2           2             3  success  10:51:19  10:55:10   \n",
       "3995             1          40             2  failure  17:46:28  17:50:57   \n",
       "3998             1         227             3  failure  11:27:35  11:29:14   \n",
       "\n",
       "      CarInsurance  \n",
       "2                1  \n",
       "5                1  \n",
       "15               1  \n",
       "16               0  \n",
       "17               1  \n",
       "...            ...  \n",
       "3987             1  \n",
       "3990             0  \n",
       "3992             1  \n",
       "3995             1  \n",
       "3998             0  \n",
       "\n",
       "[907 rows x 19 columns]"
      ]
     },
     "execution_count": 98,
     "metadata": {},
     "output_type": "execute_result"
    }
   ],
   "source": [
    "car_insurance_df.dropna(inplace=True)\n",
    "car_insurance_df"
   ]
  },
  {
   "cell_type": "code",
   "execution_count": 99,
   "metadata": {},
   "outputs": [
    {
     "data": {
      "text/html": [
       "<div>\n",
       "<style scoped>\n",
       "    .dataframe tbody tr th:only-of-type {\n",
       "        vertical-align: middle;\n",
       "    }\n",
       "\n",
       "    .dataframe tbody tr th {\n",
       "        vertical-align: top;\n",
       "    }\n",
       "\n",
       "    .dataframe thead th {\n",
       "        text-align: right;\n",
       "    }\n",
       "</style>\n",
       "<table border=\"1\" class=\"dataframe\">\n",
       "  <thead>\n",
       "    <tr style=\"text-align: right;\">\n",
       "      <th></th>\n",
       "      <th>Id</th>\n",
       "      <th>Age</th>\n",
       "      <th>Default</th>\n",
       "      <th>Balance</th>\n",
       "      <th>HHInsurance</th>\n",
       "      <th>CarLoan</th>\n",
       "      <th>LastContactDay</th>\n",
       "      <th>NoOfContacts</th>\n",
       "      <th>DaysPassed</th>\n",
       "      <th>PrevAttempts</th>\n",
       "      <th>CarInsurance</th>\n",
       "    </tr>\n",
       "  </thead>\n",
       "  <tbody>\n",
       "    <tr>\n",
       "      <th>count</th>\n",
       "      <td>907.000000</td>\n",
       "      <td>907.000000</td>\n",
       "      <td>907.000000</td>\n",
       "      <td>907.000000</td>\n",
       "      <td>907.000000</td>\n",
       "      <td>907.000000</td>\n",
       "      <td>907.000000</td>\n",
       "      <td>907.000000</td>\n",
       "      <td>907.000000</td>\n",
       "      <td>907.000000</td>\n",
       "      <td>907.000000</td>\n",
       "    </tr>\n",
       "    <tr>\n",
       "      <th>mean</th>\n",
       "      <td>2004.713341</td>\n",
       "      <td>41.261301</td>\n",
       "      <td>0.004410</td>\n",
       "      <td>1741.250276</td>\n",
       "      <td>0.509372</td>\n",
       "      <td>0.098126</td>\n",
       "      <td>14.407938</td>\n",
       "      <td>1.929438</td>\n",
       "      <td>204.815877</td>\n",
       "      <td>2.987872</td>\n",
       "      <td>0.579934</td>\n",
       "    </tr>\n",
       "    <tr>\n",
       "      <th>std</th>\n",
       "      <td>1121.137774</td>\n",
       "      <td>12.269017</td>\n",
       "      <td>0.066299</td>\n",
       "      <td>3273.816214</td>\n",
       "      <td>0.500188</td>\n",
       "      <td>0.297649</td>\n",
       "      <td>8.263130</td>\n",
       "      <td>1.394361</td>\n",
       "      <td>118.418023</td>\n",
       "      <td>3.375811</td>\n",
       "      <td>0.493842</td>\n",
       "    </tr>\n",
       "    <tr>\n",
       "      <th>min</th>\n",
       "      <td>3.000000</td>\n",
       "      <td>18.000000</td>\n",
       "      <td>0.000000</td>\n",
       "      <td>-982.000000</td>\n",
       "      <td>0.000000</td>\n",
       "      <td>0.000000</td>\n",
       "      <td>1.000000</td>\n",
       "      <td>1.000000</td>\n",
       "      <td>1.000000</td>\n",
       "      <td>1.000000</td>\n",
       "      <td>0.000000</td>\n",
       "    </tr>\n",
       "    <tr>\n",
       "      <th>25%</th>\n",
       "      <td>1089.000000</td>\n",
       "      <td>33.000000</td>\n",
       "      <td>0.000000</td>\n",
       "      <td>228.000000</td>\n",
       "      <td>0.000000</td>\n",
       "      <td>0.000000</td>\n",
       "      <td>7.000000</td>\n",
       "      <td>1.000000</td>\n",
       "      <td>102.000000</td>\n",
       "      <td>1.000000</td>\n",
       "      <td>0.000000</td>\n",
       "    </tr>\n",
       "    <tr>\n",
       "      <th>50%</th>\n",
       "      <td>2019.000000</td>\n",
       "      <td>38.000000</td>\n",
       "      <td>0.000000</td>\n",
       "      <td>724.000000</td>\n",
       "      <td>1.000000</td>\n",
       "      <td>0.000000</td>\n",
       "      <td>14.000000</td>\n",
       "      <td>1.000000</td>\n",
       "      <td>182.000000</td>\n",
       "      <td>2.000000</td>\n",
       "      <td>1.000000</td>\n",
       "    </tr>\n",
       "    <tr>\n",
       "      <th>75%</th>\n",
       "      <td>2938.500000</td>\n",
       "      <td>48.000000</td>\n",
       "      <td>0.000000</td>\n",
       "      <td>1947.000000</td>\n",
       "      <td>1.000000</td>\n",
       "      <td>0.000000</td>\n",
       "      <td>20.000000</td>\n",
       "      <td>2.000000</td>\n",
       "      <td>288.000000</td>\n",
       "      <td>4.000000</td>\n",
       "      <td>1.000000</td>\n",
       "    </tr>\n",
       "    <tr>\n",
       "      <th>max</th>\n",
       "      <td>3999.000000</td>\n",
       "      <td>82.000000</td>\n",
       "      <td>1.000000</td>\n",
       "      <td>52587.000000</td>\n",
       "      <td>1.000000</td>\n",
       "      <td>1.000000</td>\n",
       "      <td>31.000000</td>\n",
       "      <td>12.000000</td>\n",
       "      <td>854.000000</td>\n",
       "      <td>58.000000</td>\n",
       "      <td>1.000000</td>\n",
       "    </tr>\n",
       "  </tbody>\n",
       "</table>\n",
       "</div>"
      ],
      "text/plain": [
       "                Id         Age     Default       Balance  HHInsurance  \\\n",
       "count   907.000000  907.000000  907.000000    907.000000   907.000000   \n",
       "mean   2004.713341   41.261301    0.004410   1741.250276     0.509372   \n",
       "std    1121.137774   12.269017    0.066299   3273.816214     0.500188   \n",
       "min       3.000000   18.000000    0.000000   -982.000000     0.000000   \n",
       "25%    1089.000000   33.000000    0.000000    228.000000     0.000000   \n",
       "50%    2019.000000   38.000000    0.000000    724.000000     1.000000   \n",
       "75%    2938.500000   48.000000    0.000000   1947.000000     1.000000   \n",
       "max    3999.000000   82.000000    1.000000  52587.000000     1.000000   \n",
       "\n",
       "          CarLoan  LastContactDay  NoOfContacts  DaysPassed  PrevAttempts  \\\n",
       "count  907.000000      907.000000    907.000000  907.000000    907.000000   \n",
       "mean     0.098126       14.407938      1.929438  204.815877      2.987872   \n",
       "std      0.297649        8.263130      1.394361  118.418023      3.375811   \n",
       "min      0.000000        1.000000      1.000000    1.000000      1.000000   \n",
       "25%      0.000000        7.000000      1.000000  102.000000      1.000000   \n",
       "50%      0.000000       14.000000      1.000000  182.000000      2.000000   \n",
       "75%      0.000000       20.000000      2.000000  288.000000      4.000000   \n",
       "max      1.000000       31.000000     12.000000  854.000000     58.000000   \n",
       "\n",
       "       CarInsurance  \n",
       "count    907.000000  \n",
       "mean       0.579934  \n",
       "std        0.493842  \n",
       "min        0.000000  \n",
       "25%        0.000000  \n",
       "50%        1.000000  \n",
       "75%        1.000000  \n",
       "max        1.000000  "
      ]
     },
     "execution_count": 99,
     "metadata": {},
     "output_type": "execute_result"
    }
   ],
   "source": [
    "car_insurance_df.describe()"
   ]
  },
  {
   "cell_type": "code",
   "execution_count": 100,
   "metadata": {},
   "outputs": [
    {
     "data": {
      "text/plain": [
       "2         management\n",
       "5         technician\n",
       "15        management\n",
       "16            admin.\n",
       "17        management\n",
       "            ...     \n",
       "3987          admin.\n",
       "3990      technician\n",
       "3992      technician\n",
       "3995      technician\n",
       "3998    entrepreneur\n",
       "Name: Job, Length: 907, dtype: category\n",
       "Categories (11, object): ['admin.', 'blue-collar', 'entrepreneur', 'housemaid', ..., 'services', 'student', 'technician', 'unemployed']"
      ]
     },
     "execution_count": 100,
     "metadata": {},
     "output_type": "execute_result"
    }
   ],
   "source": [
    "\n",
    "\n",
    "car_insurance_df['Job'] = car_insurance_df['Job'].astype('category')\n",
    "car_insurance_df['Job']"
   ]
  },
  {
   "cell_type": "code",
   "execution_count": 102,
   "metadata": {},
   "outputs": [
    {
     "data": {
      "text/plain": [
       "'management'"
      ]
     },
     "execution_count": 102,
     "metadata": {},
     "output_type": "execute_result"
    }
   ],
   "source": [
    "# car_insurance_df['Job'].value_counts()\n",
    "\n",
    "car_insurance_df['Job'].value_counts().idxmax()"
   ]
  },
  {
   "cell_type": "code",
   "execution_count": 105,
   "metadata": {},
   "outputs": [
    {
     "data": {
      "text/plain": [
       "2       340.0\n",
       "5       796.0\n",
       "15      131.0\n",
       "16       92.0\n",
       "17      658.0\n",
       "        ...  \n",
       "3987    240.0\n",
       "3990    147.0\n",
       "3992    231.0\n",
       "3995    269.0\n",
       "3998     99.0\n",
       "Name: Call_duration, Length: 907, dtype: float64"
      ]
     },
     "execution_count": 105,
     "metadata": {},
     "output_type": "execute_result"
    }
   ],
   "source": [
    "car_insurance_df['CallEnd'] = pd.to_datetime(car_insurance_df['CallEnd'], format=\"%H:%M:%S\")\n",
    "\n",
    "car_insurance_df['CallStart'] = pd.to_datetime(car_insurance_df['CallStart'], format=\"%H:%M:%S\")\n",
    "\n",
    "car_insurance_df['Call_duration'] = car_insurance_df['CallEnd'] - car_insurance_df['CallStart']\n",
    "\n",
    "car_insurance_df['Call_duration'] = car_insurance_df['Call_duration'].dt.total_seconds()\n",
    "\n",
    "car_insurance_df['Call_duration']"
   ]
  },
  {
   "cell_type": "code",
   "execution_count": 106,
   "metadata": {},
   "outputs": [
    {
     "data": {
      "text/plain": [
       "335.74862183020946"
      ]
     },
     "execution_count": 106,
     "metadata": {},
     "output_type": "execute_result"
    }
   ],
   "source": [
    "car_insurance_df['Call_duration'].mean()"
   ]
  },
  {
   "cell_type": "code",
   "execution_count": 107,
   "metadata": {},
   "outputs": [
    {
     "data": {
      "text/html": [
       "<div>\n",
       "<style scoped>\n",
       "    .dataframe tbody tr th:only-of-type {\n",
       "        vertical-align: middle;\n",
       "    }\n",
       "\n",
       "    .dataframe tbody tr th {\n",
       "        vertical-align: top;\n",
       "    }\n",
       "\n",
       "    .dataframe thead th {\n",
       "        text-align: right;\n",
       "    }\n",
       "</style>\n",
       "<table border=\"1\" class=\"dataframe\">\n",
       "  <thead>\n",
       "    <tr style=\"text-align: right;\">\n",
       "      <th></th>\n",
       "      <th>Id</th>\n",
       "      <th>Age</th>\n",
       "      <th>Job</th>\n",
       "      <th>Marital</th>\n",
       "      <th>Education</th>\n",
       "      <th>Default</th>\n",
       "      <th>Balance</th>\n",
       "      <th>HHInsurance</th>\n",
       "      <th>CarLoan</th>\n",
       "      <th>Communication</th>\n",
       "      <th>LastContactDay</th>\n",
       "      <th>LastContactMonth</th>\n",
       "      <th>NoOfContacts</th>\n",
       "      <th>DaysPassed</th>\n",
       "      <th>PrevAttempts</th>\n",
       "      <th>Outcome</th>\n",
       "      <th>CallStart</th>\n",
       "      <th>CallEnd</th>\n",
       "      <th>CarInsurance</th>\n",
       "      <th>Call_duration</th>\n",
       "    </tr>\n",
       "  </thead>\n",
       "  <tbody>\n",
       "    <tr>\n",
       "      <th>2</th>\n",
       "      <td>3</td>\n",
       "      <td>29</td>\n",
       "      <td>management</td>\n",
       "      <td>single</td>\n",
       "      <td>tertiary</td>\n",
       "      <td>0</td>\n",
       "      <td>637</td>\n",
       "      <td>1</td>\n",
       "      <td>0</td>\n",
       "      <td>cellular</td>\n",
       "      <td>3</td>\n",
       "      <td>jun</td>\n",
       "      <td>1</td>\n",
       "      <td>119</td>\n",
       "      <td>1</td>\n",
       "      <td>failure</td>\n",
       "      <td>1900-01-01 16:30:24</td>\n",
       "      <td>1900-01-01 16:36:04</td>\n",
       "      <td>1</td>\n",
       "      <td>340.0</td>\n",
       "    </tr>\n",
       "    <tr>\n",
       "      <th>5</th>\n",
       "      <td>6</td>\n",
       "      <td>32</td>\n",
       "      <td>technician</td>\n",
       "      <td>single</td>\n",
       "      <td>tertiary</td>\n",
       "      <td>0</td>\n",
       "      <td>1625</td>\n",
       "      <td>0</td>\n",
       "      <td>0</td>\n",
       "      <td>cellular</td>\n",
       "      <td>22</td>\n",
       "      <td>may</td>\n",
       "      <td>1</td>\n",
       "      <td>109</td>\n",
       "      <td>1</td>\n",
       "      <td>failure</td>\n",
       "      <td>1900-01-01 14:58:08</td>\n",
       "      <td>1900-01-01 15:11:24</td>\n",
       "      <td>1</td>\n",
       "      <td>796.0</td>\n",
       "    </tr>\n",
       "    <tr>\n",
       "      <th>16</th>\n",
       "      <td>17</td>\n",
       "      <td>34</td>\n",
       "      <td>admin.</td>\n",
       "      <td>single</td>\n",
       "      <td>secondary</td>\n",
       "      <td>0</td>\n",
       "      <td>69</td>\n",
       "      <td>1</td>\n",
       "      <td>0</td>\n",
       "      <td>telephone</td>\n",
       "      <td>6</td>\n",
       "      <td>may</td>\n",
       "      <td>3</td>\n",
       "      <td>362</td>\n",
       "      <td>4</td>\n",
       "      <td>other</td>\n",
       "      <td>1900-01-01 11:48:45</td>\n",
       "      <td>1900-01-01 11:50:17</td>\n",
       "      <td>0</td>\n",
       "      <td>92.0</td>\n",
       "    </tr>\n",
       "    <tr>\n",
       "      <th>18</th>\n",
       "      <td>19</td>\n",
       "      <td>49</td>\n",
       "      <td>blue-collar</td>\n",
       "      <td>married</td>\n",
       "      <td>secondary</td>\n",
       "      <td>0</td>\n",
       "      <td>2039</td>\n",
       "      <td>1</td>\n",
       "      <td>0</td>\n",
       "      <td>cellular</td>\n",
       "      <td>6</td>\n",
       "      <td>may</td>\n",
       "      <td>1</td>\n",
       "      <td>169</td>\n",
       "      <td>2</td>\n",
       "      <td>failure</td>\n",
       "      <td>1900-01-01 12:42:54</td>\n",
       "      <td>1900-01-01 12:50:25</td>\n",
       "      <td>1</td>\n",
       "      <td>451.0</td>\n",
       "    </tr>\n",
       "    <tr>\n",
       "      <th>24</th>\n",
       "      <td>25</td>\n",
       "      <td>60</td>\n",
       "      <td>technician</td>\n",
       "      <td>married</td>\n",
       "      <td>secondary</td>\n",
       "      <td>0</td>\n",
       "      <td>824</td>\n",
       "      <td>1</td>\n",
       "      <td>0</td>\n",
       "      <td>cellular</td>\n",
       "      <td>9</td>\n",
       "      <td>feb</td>\n",
       "      <td>1</td>\n",
       "      <td>558</td>\n",
       "      <td>7</td>\n",
       "      <td>other</td>\n",
       "      <td>1900-01-01 16:30:52</td>\n",
       "      <td>1900-01-01 16:32:59</td>\n",
       "      <td>1</td>\n",
       "      <td>127.0</td>\n",
       "    </tr>\n",
       "    <tr>\n",
       "      <th>...</th>\n",
       "      <td>...</td>\n",
       "      <td>...</td>\n",
       "      <td>...</td>\n",
       "      <td>...</td>\n",
       "      <td>...</td>\n",
       "      <td>...</td>\n",
       "      <td>...</td>\n",
       "      <td>...</td>\n",
       "      <td>...</td>\n",
       "      <td>...</td>\n",
       "      <td>...</td>\n",
       "      <td>...</td>\n",
       "      <td>...</td>\n",
       "      <td>...</td>\n",
       "      <td>...</td>\n",
       "      <td>...</td>\n",
       "      <td>...</td>\n",
       "      <td>...</td>\n",
       "      <td>...</td>\n",
       "      <td>...</td>\n",
       "    </tr>\n",
       "    <tr>\n",
       "      <th>3985</th>\n",
       "      <td>3986</td>\n",
       "      <td>40</td>\n",
       "      <td>technician</td>\n",
       "      <td>married</td>\n",
       "      <td>primary</td>\n",
       "      <td>0</td>\n",
       "      <td>644</td>\n",
       "      <td>1</td>\n",
       "      <td>0</td>\n",
       "      <td>cellular</td>\n",
       "      <td>16</td>\n",
       "      <td>apr</td>\n",
       "      <td>2</td>\n",
       "      <td>336</td>\n",
       "      <td>1</td>\n",
       "      <td>failure</td>\n",
       "      <td>1900-01-01 10:49:27</td>\n",
       "      <td>1900-01-01 10:51:25</td>\n",
       "      <td>0</td>\n",
       "      <td>118.0</td>\n",
       "    </tr>\n",
       "    <tr>\n",
       "      <th>3987</th>\n",
       "      <td>3988</td>\n",
       "      <td>27</td>\n",
       "      <td>admin.</td>\n",
       "      <td>married</td>\n",
       "      <td>tertiary</td>\n",
       "      <td>0</td>\n",
       "      <td>2855</td>\n",
       "      <td>0</td>\n",
       "      <td>0</td>\n",
       "      <td>cellular</td>\n",
       "      <td>25</td>\n",
       "      <td>jan</td>\n",
       "      <td>1</td>\n",
       "      <td>301</td>\n",
       "      <td>3</td>\n",
       "      <td>failure</td>\n",
       "      <td>1900-01-01 09:55:44</td>\n",
       "      <td>1900-01-01 09:59:44</td>\n",
       "      <td>1</td>\n",
       "      <td>240.0</td>\n",
       "    </tr>\n",
       "    <tr>\n",
       "      <th>3990</th>\n",
       "      <td>3991</td>\n",
       "      <td>27</td>\n",
       "      <td>technician</td>\n",
       "      <td>single</td>\n",
       "      <td>secondary</td>\n",
       "      <td>0</td>\n",
       "      <td>126</td>\n",
       "      <td>1</td>\n",
       "      <td>1</td>\n",
       "      <td>cellular</td>\n",
       "      <td>5</td>\n",
       "      <td>feb</td>\n",
       "      <td>2</td>\n",
       "      <td>216</td>\n",
       "      <td>4</td>\n",
       "      <td>failure</td>\n",
       "      <td>1900-01-01 13:30:49</td>\n",
       "      <td>1900-01-01 13:33:16</td>\n",
       "      <td>0</td>\n",
       "      <td>147.0</td>\n",
       "    </tr>\n",
       "    <tr>\n",
       "      <th>3995</th>\n",
       "      <td>3996</td>\n",
       "      <td>28</td>\n",
       "      <td>technician</td>\n",
       "      <td>single</td>\n",
       "      <td>tertiary</td>\n",
       "      <td>0</td>\n",
       "      <td>0</td>\n",
       "      <td>1</td>\n",
       "      <td>0</td>\n",
       "      <td>cellular</td>\n",
       "      <td>25</td>\n",
       "      <td>may</td>\n",
       "      <td>1</td>\n",
       "      <td>40</td>\n",
       "      <td>2</td>\n",
       "      <td>failure</td>\n",
       "      <td>1900-01-01 17:46:28</td>\n",
       "      <td>1900-01-01 17:50:57</td>\n",
       "      <td>1</td>\n",
       "      <td>269.0</td>\n",
       "    </tr>\n",
       "    <tr>\n",
       "      <th>3998</th>\n",
       "      <td>3999</td>\n",
       "      <td>36</td>\n",
       "      <td>entrepreneur</td>\n",
       "      <td>single</td>\n",
       "      <td>tertiary</td>\n",
       "      <td>0</td>\n",
       "      <td>658</td>\n",
       "      <td>1</td>\n",
       "      <td>0</td>\n",
       "      <td>cellular</td>\n",
       "      <td>29</td>\n",
       "      <td>jan</td>\n",
       "      <td>1</td>\n",
       "      <td>227</td>\n",
       "      <td>3</td>\n",
       "      <td>failure</td>\n",
       "      <td>1900-01-01 11:27:35</td>\n",
       "      <td>1900-01-01 11:29:14</td>\n",
       "      <td>0</td>\n",
       "      <td>99.0</td>\n",
       "    </tr>\n",
       "  </tbody>\n",
       "</table>\n",
       "<p>526 rows × 20 columns</p>\n",
       "</div>"
      ],
      "text/plain": [
       "        Id  Age           Job  Marital  Education  Default  Balance  \\\n",
       "2        3   29    management   single   tertiary        0      637   \n",
       "5        6   32    technician   single   tertiary        0     1625   \n",
       "16      17   34        admin.   single  secondary        0       69   \n",
       "18      19   49   blue-collar  married  secondary        0     2039   \n",
       "24      25   60    technician  married  secondary        0      824   \n",
       "...    ...  ...           ...      ...        ...      ...      ...   \n",
       "3985  3986   40    technician  married    primary        0      644   \n",
       "3987  3988   27        admin.  married   tertiary        0     2855   \n",
       "3990  3991   27    technician   single  secondary        0      126   \n",
       "3995  3996   28    technician   single   tertiary        0        0   \n",
       "3998  3999   36  entrepreneur   single   tertiary        0      658   \n",
       "\n",
       "      HHInsurance  CarLoan Communication  LastContactDay LastContactMonth  \\\n",
       "2               1        0      cellular               3              jun   \n",
       "5               0        0      cellular              22              may   \n",
       "16              1        0     telephone               6              may   \n",
       "18              1        0      cellular               6              may   \n",
       "24              1        0      cellular               9              feb   \n",
       "...           ...      ...           ...             ...              ...   \n",
       "3985            1        0      cellular              16              apr   \n",
       "3987            0        0      cellular              25              jan   \n",
       "3990            1        1      cellular               5              feb   \n",
       "3995            1        0      cellular              25              may   \n",
       "3998            1        0      cellular              29              jan   \n",
       "\n",
       "      NoOfContacts  DaysPassed  PrevAttempts  Outcome           CallStart  \\\n",
       "2                1         119             1  failure 1900-01-01 16:30:24   \n",
       "5                1         109             1  failure 1900-01-01 14:58:08   \n",
       "16               3         362             4    other 1900-01-01 11:48:45   \n",
       "18               1         169             2  failure 1900-01-01 12:42:54   \n",
       "24               1         558             7    other 1900-01-01 16:30:52   \n",
       "...            ...         ...           ...      ...                 ...   \n",
       "3985             2         336             1  failure 1900-01-01 10:49:27   \n",
       "3987             1         301             3  failure 1900-01-01 09:55:44   \n",
       "3990             2         216             4  failure 1900-01-01 13:30:49   \n",
       "3995             1          40             2  failure 1900-01-01 17:46:28   \n",
       "3998             1         227             3  failure 1900-01-01 11:27:35   \n",
       "\n",
       "                 CallEnd  CarInsurance  Call_duration  \n",
       "2    1900-01-01 16:36:04             1          340.0  \n",
       "5    1900-01-01 15:11:24             1          796.0  \n",
       "16   1900-01-01 11:50:17             0           92.0  \n",
       "18   1900-01-01 12:50:25             1          451.0  \n",
       "24   1900-01-01 16:32:59             1          127.0  \n",
       "...                  ...           ...            ...  \n",
       "3985 1900-01-01 10:51:25             0          118.0  \n",
       "3987 1900-01-01 09:59:44             1          240.0  \n",
       "3990 1900-01-01 13:33:16             0          147.0  \n",
       "3995 1900-01-01 17:50:57             1          269.0  \n",
       "3998 1900-01-01 11:29:14             0           99.0  \n",
       "\n",
       "[526 rows x 20 columns]"
      ]
     },
     "execution_count": 107,
     "metadata": {},
     "output_type": "execute_result"
    }
   ],
   "source": [
    "selected_rows = car_insurance_df[car_insurance_df[\"LastContactMonth\"].isin([\"jan\", \"feb\", \"mar\", \"apr\", \"may\", \"jun\"])]\n",
    "\n",
    "selected_rows"
   ]
  },
  {
   "cell_type": "code",
   "execution_count": 108,
   "metadata": {},
   "outputs": [
    {
     "data": {
      "text/plain": [
       "0    cellular\n",
       "Name: Communication, dtype: object"
      ]
     },
     "execution_count": 108,
     "metadata": {},
     "output_type": "execute_result"
    }
   ],
   "source": [
    "selected_rows[\"Communication\"].mode()"
   ]
  },
  {
   "cell_type": "markdown",
   "metadata": {},
   "source": [
    "## Missing Data"
   ]
  },
  {
   "cell_type": "code",
   "execution_count": null,
   "metadata": {},
   "outputs": [],
   "source": [
    "!pip install missingno"
   ]
  },
  {
   "cell_type": "code",
   "execution_count": null,
   "metadata": {},
   "outputs": [],
   "source": [
    "import missingno as msno"
   ]
  },
  {
   "cell_type": "markdown",
   "metadata": {},
   "source": [
    "## Pandas - Concepts and Dataframe Operations"
   ]
  },
  {
   "cell_type": "markdown",
   "metadata": {},
   "source": [
    "### Read YAML with pandas"
   ]
  },
  {
   "cell_type": "code",
   "execution_count": null,
   "metadata": {},
   "outputs": [],
   "source": [
    "def transforms_yaml_file_to_pandas_dataframe():\n",
    "    df = pd.read_yaml"
   ]
  },
  {
   "cell_type": "markdown",
   "metadata": {},
   "source": [
    "### Fire Fighters versus Police Officers"
   ]
  },
  {
   "cell_type": "code",
   "execution_count": null,
   "metadata": {},
   "outputs": [],
   "source": [
    "df = pd.read_csv('Salaries.csv')\n",
    "df"
   ]
  },
  {
   "cell_type": "code",
   "execution_count": null,
   "metadata": {},
   "outputs": [],
   "source": [
    "jobtitle_df = df[['JobTitle']]\n",
    "jobtitle_df"
   ]
  },
  {
   "cell_type": "code",
   "execution_count": null,
   "metadata": {},
   "outputs": [],
   "source": [
    "df_police = df['JobTitle'].str.contains(\"POLICE\", True)"
   ]
  },
  {
   "cell_type": "code",
   "execution_count": null,
   "metadata": {},
   "outputs": [],
   "source": [
    "df_fireman = df['JobTitle'].str.contains(\"FIRE\", True)"
   ]
  },
  {
   "cell_type": "code",
   "execution_count": null,
   "metadata": {},
   "outputs": [],
   "source": [
    "type(df_police)"
   ]
  },
  {
   "cell_type": "code",
   "execution_count": null,
   "metadata": {},
   "outputs": [],
   "source": [
    "x = df_police.sum(axis = 0, skipna = True)"
   ]
  },
  {
   "cell_type": "code",
   "execution_count": null,
   "metadata": {},
   "outputs": [],
   "source": [
    "y = df_fireman.sum(axis = 0, skipna = True)"
   ]
  },
  {
   "cell_type": "code",
   "execution_count": null,
   "metadata": {},
   "outputs": [],
   "source": [
    "(y/x)"
   ]
  },
  {
   "cell_type": "code",
   "execution_count": null,
   "metadata": {},
   "outputs": [],
   "source": [
    "df.loc[df['JobTitle'].str.contains(\"POLICE\", True)]"
   ]
  },
  {
   "cell_type": "code",
   "execution_count": null,
   "metadata": {},
   "outputs": [],
   "source": [
    "df.loc[df['JobTitle'].str.contains(\"FIRE\", True)]"
   ]
  },
  {
   "cell_type": "code",
   "execution_count": null,
   "metadata": {},
   "outputs": [],
   "source": [
    "# Ratio of fire fighters over police officers\n",
    "238/139\n"
   ]
  },
  {
   "cell_type": "code",
   "execution_count": null,
   "metadata": {},
   "outputs": [],
   "source": [
    "# Finding mean salary of police department\n",
    "\n",
    "df['BasePay']"
   ]
  },
  {
   "cell_type": "code",
   "execution_count": null,
   "metadata": {},
   "outputs": [],
   "source": [
    "# Finding mean salary of police department\n",
    "\n",
    "police_jobs = df.loc[df['JobTitle'].str.contains(\"POLICE\", True)]\n",
    "police_salary = police_jobs[['BasePay']]\n",
    "police_salary.describe()\n",
    "\n",
    "\n",
    "# base_pay_df=df[['BasePay']]\n",
    "# base_pay_df.describe()\n",
    "\n",
    "# Could also use base_pay_df.mean() here\n",
    "\n",
    "\n"
   ]
  },
  {
   "cell_type": "code",
   "execution_count": null,
   "metadata": {},
   "outputs": [],
   "source": [
    "police_salary.mean(axis=0, skipna=True)"
   ]
  },
  {
   "cell_type": "code",
   "execution_count": null,
   "metadata": {},
   "outputs": [],
   "source": [
    "# Finding mean salary of fire department\n",
    "\n",
    "fireman_jobs = df.loc[df['JobTitle'].str.contains(\"FIRE\", True)]\n",
    "fireman_salary = fireman_jobs[['BasePay']]\n",
    "fireman_salary.describe()"
   ]
  },
  {
   "cell_type": "code",
   "execution_count": null,
   "metadata": {},
   "outputs": [],
   "source": [
    "fireman_salary.mean(axis=0, skipna=True)"
   ]
  },
  {
   "cell_type": "markdown",
   "metadata": {},
   "source": [
    "### DataFrame manipulation"
   ]
  },
  {
   "cell_type": "code",
   "execution_count": null,
   "metadata": {},
   "outputs": [],
   "source": [
    "jobtitle_df.nunique(dropna=True)"
   ]
  },
  {
   "cell_type": "code",
   "execution_count": null,
   "metadata": {},
   "outputs": [],
   "source": [
    "john_df = [['EmployeeName']]"
   ]
  },
  {
   "cell_type": "code",
   "execution_count": null,
   "metadata": {},
   "outputs": [],
   "source": [
    "df['EmployeeName'].str.contains('JOHN').sum()"
   ]
  },
  {
   "cell_type": "code",
   "execution_count": null,
   "metadata": {},
   "outputs": [],
   "source": [
    "df[\"Surname\"] = df[\"EmployeeName\"].apply(lambda x: x.split()[1])"
   ]
  },
  {
   "cell_type": "code",
   "execution_count": null,
   "metadata": {},
   "outputs": [],
   "source": [
    "df.head()"
   ]
  },
  {
   "cell_type": "code",
   "execution_count": null,
   "metadata": {},
   "outputs": [],
   "source": [
    "def get_first_name_from_full_name(name):\n",
    "    return name.split()[0]\n",
    "\n",
    "df['First name'] = df['EmployeeName'].apply(get_first_name_from_full_name)\n",
    "\n",
    "\n",
    "#print(df['First name'])\n",
    "\n",
    "# for name in df['First name']:\n",
    "#     if len(name) < 6:\n",
    "#         print(name)\n",
    "\n",
    "df['Surname'] = df['EmployeeName'].apply(lambda name : name.split()[1])\n",
    "\n",
    "df['First name'] = df['First name'].apply(lambda name : True if (len(name) > 6) else False)\n",
    "df\n",
    "# df"
   ]
  },
  {
   "cell_type": "code",
   "execution_count": null,
   "metadata": {},
   "outputs": [],
   "source": [
    "surname_df = df.loc[df['First name']==True]\n",
    "surname_df"
   ]
  },
  {
   "cell_type": "markdown",
   "metadata": {},
   "source": [
    "### Using the lambda function"
   ]
  },
  {
   "cell_type": "code",
   "execution_count": null,
   "metadata": {},
   "outputs": [],
   "source": [
    "\n",
    "def multiply(x):\n",
    "    return x*2\n",
    "\n",
    "multiply(2)    "
   ]
  },
  {
   "cell_type": "code",
   "execution_count": null,
   "metadata": {},
   "outputs": [],
   "source": [
    "\n",
    "\n",
    "multiply = lambda x : x*2\n",
    "multiply(2)"
   ]
  },
  {
   "cell_type": "code",
   "execution_count": null,
   "metadata": {},
   "outputs": [],
   "source": [
    "import datetime\n",
    "\n",
    "df['last_updated'] = df['Id'].apply(lambda value : datetime.datetime.now().isoformat())\n",
    "df"
   ]
  },
  {
   "cell_type": "code",
   "execution_count": null,
   "metadata": {},
   "outputs": [],
   "source": [
    "df['time_ratio'] = df['OvertimePay']/df['BasePay']\n",
    "df"
   ]
  },
  {
   "cell_type": "code",
   "execution_count": null,
   "metadata": {},
   "outputs": [],
   "source": [
    "new_df = df[df['BasePay'] > 100000]\n",
    "new_df"
   ]
  },
  {
   "cell_type": "code",
   "execution_count": null,
   "metadata": {},
   "outputs": [],
   "source": [
    "\n",
    "new_df = df.loc[df['BasePay'] > 100000]\n",
    "new_df\n",
    "\n"
   ]
  },
  {
   "cell_type": "code",
   "execution_count": null,
   "metadata": {},
   "outputs": [],
   "source": [
    "new_df['Total pay w/o base salary'] = new_df['OvertimePay'] + new_df['OtherPay']\n",
    "new_df"
   ]
  },
  {
   "cell_type": "code",
   "execution_count": null,
   "metadata": {},
   "outputs": [],
   "source": []
  },
  {
   "cell_type": "code",
   "execution_count": null,
   "metadata": {},
   "outputs": [],
   "source": [
    "# Find the surname of everyone whose first name is more than 6 characters long\n",
    "\n",
    "df[\"Firstname\"] = df[\"EmployeeName\"].apply(lambda x: x.split()[0])\n",
    "\n",
    "mask = df['Firstname'].apply(lambda name : (len(name) > 6))\n",
    "\n",
    "df[mask]\n",
    "\n",
    "\n"
   ]
  },
  {
   "cell_type": "code",
   "execution_count": null,
   "metadata": {},
   "outputs": [],
   "source": [
    "import numpy as np"
   ]
  },
  {
   "cell_type": "code",
   "execution_count": null,
   "metadata": {},
   "outputs": [],
   "source": [
    "new_row = ({'EmployeeName' : 'Jane Doe', \n",
    "            'JobTitle' : 'CAPTAIN III (POLICE DEPARTMENT)', \n",
    "            'BasePay' : '215739.13', \n",
    "            'OvertimePay' : '295131.88', \n",
    "            'OtherPay' : '400300.25', \n",
    "            'Benefits' : np.NAN, \n",
    "            'TotalPay' : '911171.26', \n",
    "            'TotalPayBenefits' : '911171.26', \n",
    "            'Year' : '2011', \n",
    "            'Notes' : np.NAN, \n",
    "            'Agency' : 'San Francisco', \n",
    "            'Status' : np.NAN})\n",
    "\n",
    "# df2 = new_df.append(pd.DataFrame([new_row], index=['3'], columns=df.columns))\n",
    "df2"
   ]
  },
  {
   "attachments": {},
   "cell_type": "markdown",
   "metadata": {},
   "source": [
    "## Pandas dataframes - practicals "
   ]
  },
  {
   "cell_type": "code",
   "execution_count": null,
   "metadata": {},
   "outputs": [],
   "source": [
    "pip install"
   ]
  },
  {
   "cell_type": "code",
   "execution_count": null,
   "metadata": {},
   "outputs": [],
   "source": [
    "import yaml\n",
    "import json\n",
    "import pandas as pd"
   ]
  },
  {
   "cell_type": "code",
   "execution_count": null,
   "metadata": {},
   "outputs": [],
   "source": [
    "with open('/Users/apple/Downloads/yaml_example.yaml', 'r') as file:\n",
    "    configuration = yaml.safe_load(file)\n",
    "\n",
    "    "
   ]
  },
  {
   "cell_type": "code",
   "execution_count": null,
   "metadata": {},
   "outputs": [],
   "source": [
    "with open('file.json', 'w') as json_file:\n",
    "    json.dump(configuration, json_file)"
   ]
  },
  {
   "cell_type": "code",
   "execution_count": null,
   "metadata": {},
   "outputs": [],
   "source": [
    "from pandas import json_normalize\n",
    "\n",
    "dict = json.loads('file.json')\n",
    "json_normalize(dict['Person', 'Animals'])\n",
    "\n",
    "df = pd.read_json('file.json', orient='index')"
   ]
  },
  {
   "cell_type": "code",
   "execution_count": null,
   "metadata": {},
   "outputs": [],
   "source": [
    "df"
   ]
  }
 ],
 "metadata": {
  "kernelspec": {
   "display_name": "airbnb_venv",
   "language": "python",
   "name": "python3"
  },
  "language_info": {
   "codemirror_mode": {
    "name": "ipython",
    "version": 3
   },
   "file_extension": ".py",
   "mimetype": "text/x-python",
   "name": "python",
   "nbconvert_exporter": "python",
   "pygments_lexer": "ipython3",
   "version": "3.9.13"
  },
  "orig_nbformat": 4,
  "vscode": {
   "interpreter": {
    "hash": "542ceaa9af875ce9b2350b4f7ccf68c23e5d3425160335ff7a67958514d7a01e"
   }
  }
 },
 "nbformat": 4,
 "nbformat_minor": 2
}
