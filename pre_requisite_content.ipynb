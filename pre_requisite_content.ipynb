{
 "cells": [
  {
   "cell_type": "code",
   "execution_count": 2,
   "metadata": {},
   "outputs": [
    {
     "name": "stdout",
     "output_type": "stream",
     "text": [
      "<class 'pandas.core.frame.DataFrame'>\n",
      "RangeIndex: 93 entries, 0 to 92\n",
      "Data columns (total 7 columns):\n",
      " #   Column         Non-Null Count  Dtype \n",
      "---  ------         --------------  ----- \n",
      " 0   Rank           93 non-null     int64 \n",
      " 1   Team/NOC       93 non-null     object\n",
      " 2   Gold           93 non-null     int64 \n",
      " 3   Silver         93 non-null     int64 \n",
      " 4   Bronze         93 non-null     int64 \n",
      " 5   Total          93 non-null     int64 \n",
      " 6   Rank by Total  93 non-null     int64 \n",
      "dtypes: int64(6), object(1)\n",
      "memory usage: 5.2+ KB\n",
      "None\n"
     ]
    }
   ],
   "source": [
    "import pandas as pd\n",
    "import glob\n",
    "import plotly.express as px\n",
    "import matplotlib\n",
    "\n",
    "df = pd.read_csv('Medals.csv', encoding= 'unicode_escape')\n",
    "print(df.info())\n"
   ]
  },
  {
   "cell_type": "code",
   "execution_count": null,
   "metadata": {},
   "outputs": [],
   "source": [
    "\n",
    "# df.set_index('Team/NOC')\n",
    "df.drop(columns=['Rank', 'Rank by Total'], inplace=True)\n",
    "\n"
   ]
  },
  {
   "cell_type": "code",
   "execution_count": 50,
   "metadata": {},
   "outputs": [
    {
     "name": "stdout",
     "output_type": "stream",
     "text": [
      "<class 'pandas.core.frame.DataFrame'>\n",
      "RangeIndex: 93 entries, 0 to 92\n",
      "Data columns (total 5 columns):\n",
      " #   Column    Non-Null Count  Dtype \n",
      "---  ------    --------------  ----- \n",
      " 0   Team/NOC  93 non-null     object\n",
      " 1   Gold      93 non-null     int64 \n",
      " 2   Silver    93 non-null     int64 \n",
      " 3   Bronze    93 non-null     int64 \n",
      " 4   Total     93 non-null     int64 \n",
      "dtypes: int64(4), object(1)\n",
      "memory usage: 3.8+ KB\n",
      "None\n"
     ]
    }
   ],
   "source": [
    "print(df.info())"
   ]
  },
  {
   "cell_type": "code",
   "execution_count": 59,
   "metadata": {},
   "outputs": [
    {
     "data": {
      "application/vnd.plotly.v1+json": {
       "config": {
        "plotlyServerURL": "https://plot.ly"
       },
       "data": [
        {
         "alignmentgroup": "True",
         "hovertemplate": "Medals=Gold<br>Team/NOC=%{x}<br>Total=%{y}<extra></extra>",
         "legendgroup": "Gold",
         "marker": {
          "color": "#636efa",
          "pattern": {
           "shape": ""
          }
         },
         "name": "Gold",
         "offsetgroup": "Gold",
         "orientation": "v",
         "showlegend": true,
         "textposition": "auto",
         "type": "bar",
         "x": [
          "United States of America",
          "People's Republic of China",
          "Japan",
          "Great Britain",
          "ROC",
          "Australia",
          "Netherlands",
          "France",
          "Germany",
          "Italy",
          "Canada",
          "Brazil",
          "New Zealand",
          "Cuba",
          "Hungary",
          "Republic of Korea",
          "Poland",
          "Czech Republic",
          "Kenya",
          "Norway",
          "Jamaica",
          "Spain",
          "Sweden",
          "Switzerland",
          "Denmark",
          "Croatia",
          "Islamic Republic of Iran",
          "Serbia",
          "Belgium",
          "Bulgaria",
          "Slovenia",
          "Uzbekistan",
          "Georgia",
          "Chinese Taipei",
          "Turkey",
          "Greece",
          "Uganda",
          "Ecuador",
          "Ireland",
          "Israel",
          "Qatar",
          "Bahamas",
          "Kosovo",
          "Ukraine",
          "Belarus",
          "Romania",
          "Venezuela",
          "India",
          "Hong Kong, China",
          "Philippines",
          "Slovakia",
          "South Africa",
          "Austria",
          "Egypt",
          "Indonesia",
          "Ethiopia",
          "Portugal",
          "Tunisia",
          "Estonia",
          "Fiji",
          "Latvia",
          "Thailand",
          "Bermuda",
          "Morocco",
          "Puerto Rico",
          "Colombia",
          "Azerbaijan",
          "Dominican Republic",
          "Armenia",
          "Kyrgyzstan",
          "Mongolia",
          "Argentina",
          "San Marino",
          "Jordan",
          "Malaysia",
          "Nigeria",
          "Bahrain",
          "Saudi Arabia",
          "Lithuania",
          "North Macedonia",
          "Namibia",
          "Turkmenistan",
          "Kazakhstan",
          "Mexico",
          "Finland",
          "Botswana",
          "Burkina Faso",
          "Cte d'Ivoire",
          "Ghana",
          "Grenada",
          "Kuwait",
          "Republic of Moldova",
          "Syrian Arab Republic"
         ],
         "xaxis": "x",
         "y": [
          39,
          38,
          27,
          22,
          20,
          17,
          10,
          10,
          10,
          10,
          7,
          7,
          7,
          7,
          6,
          6,
          4,
          4,
          4,
          4,
          4,
          3,
          3,
          3,
          3,
          3,
          3,
          3,
          3,
          3,
          3,
          3,
          2,
          2,
          2,
          2,
          2,
          2,
          2,
          2,
          2,
          2,
          2,
          1,
          1,
          1,
          1,
          1,
          1,
          1,
          1,
          1,
          1,
          1,
          1,
          1,
          1,
          1,
          1,
          1,
          1,
          1,
          1,
          1,
          1,
          0,
          0,
          0,
          0,
          0,
          0,
          0,
          0,
          0,
          0,
          0,
          0,
          0,
          0,
          0,
          0,
          0,
          0,
          0,
          0,
          0,
          0,
          0,
          0,
          0,
          0,
          0,
          0
         ],
         "yaxis": "y"
        },
        {
         "alignmentgroup": "True",
         "hovertemplate": "Medals=Silver<br>Team/NOC=%{x}<br>Total=%{y}<extra></extra>",
         "legendgroup": "Silver",
         "marker": {
          "color": "#EF553B",
          "pattern": {
           "shape": ""
          }
         },
         "name": "Silver",
         "offsetgroup": "Silver",
         "orientation": "v",
         "showlegend": true,
         "textposition": "auto",
         "type": "bar",
         "x": [
          "United States of America",
          "People's Republic of China",
          "Japan",
          "Great Britain",
          "ROC",
          "Australia",
          "Netherlands",
          "France",
          "Germany",
          "Italy",
          "Canada",
          "Brazil",
          "New Zealand",
          "Cuba",
          "Hungary",
          "Republic of Korea",
          "Poland",
          "Czech Republic",
          "Kenya",
          "Norway",
          "Jamaica",
          "Spain",
          "Sweden",
          "Switzerland",
          "Denmark",
          "Croatia",
          "Islamic Republic of Iran",
          "Serbia",
          "Belgium",
          "Bulgaria",
          "Slovenia",
          "Uzbekistan",
          "Georgia",
          "Chinese Taipei",
          "Turkey",
          "Greece",
          "Uganda",
          "Ecuador",
          "Ireland",
          "Israel",
          "Qatar",
          "Bahamas",
          "Kosovo",
          "Ukraine",
          "Belarus",
          "Romania",
          "Venezuela",
          "India",
          "Hong Kong, China",
          "Philippines",
          "Slovakia",
          "South Africa",
          "Austria",
          "Egypt",
          "Indonesia",
          "Ethiopia",
          "Portugal",
          "Tunisia",
          "Estonia",
          "Fiji",
          "Latvia",
          "Thailand",
          "Bermuda",
          "Morocco",
          "Puerto Rico",
          "Colombia",
          "Azerbaijan",
          "Dominican Republic",
          "Armenia",
          "Kyrgyzstan",
          "Mongolia",
          "Argentina",
          "San Marino",
          "Jordan",
          "Malaysia",
          "Nigeria",
          "Bahrain",
          "Saudi Arabia",
          "Lithuania",
          "North Macedonia",
          "Namibia",
          "Turkmenistan",
          "Kazakhstan",
          "Mexico",
          "Finland",
          "Botswana",
          "Burkina Faso",
          "Cte d'Ivoire",
          "Ghana",
          "Grenada",
          "Kuwait",
          "Republic of Moldova",
          "Syrian Arab Republic"
         ],
         "xaxis": "x",
         "y": [
          41,
          32,
          14,
          21,
          28,
          7,
          12,
          12,
          11,
          10,
          6,
          6,
          6,
          3,
          7,
          4,
          5,
          4,
          4,
          2,
          1,
          8,
          6,
          4,
          4,
          3,
          2,
          1,
          1,
          1,
          1,
          0,
          5,
          4,
          2,
          1,
          1,
          1,
          0,
          0,
          0,
          0,
          0,
          6,
          3,
          3,
          3,
          2,
          2,
          2,
          2,
          2,
          1,
          1,
          1,
          1,
          1,
          1,
          0,
          0,
          0,
          0,
          0,
          0,
          0,
          4,
          3,
          3,
          2,
          2,
          1,
          1,
          1,
          1,
          1,
          1,
          1,
          1,
          1,
          1,
          1,
          1,
          0,
          0,
          0,
          0,
          0,
          0,
          0,
          0,
          0,
          0,
          0
         ],
         "yaxis": "y"
        },
        {
         "alignmentgroup": "True",
         "hovertemplate": "Medals=Bronze<br>Team/NOC=%{x}<br>Total=%{y}<extra></extra>",
         "legendgroup": "Bronze",
         "marker": {
          "color": "#00cc96",
          "pattern": {
           "shape": ""
          }
         },
         "name": "Bronze",
         "offsetgroup": "Bronze",
         "orientation": "v",
         "showlegend": true,
         "textposition": "auto",
         "type": "bar",
         "x": [
          "United States of America",
          "People's Republic of China",
          "Japan",
          "Great Britain",
          "ROC",
          "Australia",
          "Netherlands",
          "France",
          "Germany",
          "Italy",
          "Canada",
          "Brazil",
          "New Zealand",
          "Cuba",
          "Hungary",
          "Republic of Korea",
          "Poland",
          "Czech Republic",
          "Kenya",
          "Norway",
          "Jamaica",
          "Spain",
          "Sweden",
          "Switzerland",
          "Denmark",
          "Croatia",
          "Islamic Republic of Iran",
          "Serbia",
          "Belgium",
          "Bulgaria",
          "Slovenia",
          "Uzbekistan",
          "Georgia",
          "Chinese Taipei",
          "Turkey",
          "Greece",
          "Uganda",
          "Ecuador",
          "Ireland",
          "Israel",
          "Qatar",
          "Bahamas",
          "Kosovo",
          "Ukraine",
          "Belarus",
          "Romania",
          "Venezuela",
          "India",
          "Hong Kong, China",
          "Philippines",
          "Slovakia",
          "South Africa",
          "Austria",
          "Egypt",
          "Indonesia",
          "Ethiopia",
          "Portugal",
          "Tunisia",
          "Estonia",
          "Fiji",
          "Latvia",
          "Thailand",
          "Bermuda",
          "Morocco",
          "Puerto Rico",
          "Colombia",
          "Azerbaijan",
          "Dominican Republic",
          "Armenia",
          "Kyrgyzstan",
          "Mongolia",
          "Argentina",
          "San Marino",
          "Jordan",
          "Malaysia",
          "Nigeria",
          "Bahrain",
          "Saudi Arabia",
          "Lithuania",
          "North Macedonia",
          "Namibia",
          "Turkmenistan",
          "Kazakhstan",
          "Mexico",
          "Finland",
          "Botswana",
          "Burkina Faso",
          "Cte d'Ivoire",
          "Ghana",
          "Grenada",
          "Kuwait",
          "Republic of Moldova",
          "Syrian Arab Republic"
         ],
         "xaxis": "x",
         "y": [
          33,
          18,
          17,
          22,
          23,
          22,
          14,
          11,
          16,
          20,
          11,
          8,
          7,
          5,
          7,
          10,
          5,
          3,
          2,
          2,
          4,
          6,
          0,
          6,
          4,
          2,
          2,
          5,
          3,
          2,
          1,
          2,
          1,
          6,
          9,
          1,
          1,
          0,
          2,
          2,
          1,
          0,
          0,
          12,
          3,
          0,
          0,
          4,
          3,
          1,
          1,
          0,
          5,
          4,
          3,
          2,
          2,
          0,
          1,
          1,
          1,
          1,
          0,
          0,
          0,
          1,
          4,
          2,
          2,
          1,
          3,
          2,
          2,
          1,
          1,
          1,
          0,
          0,
          0,
          0,
          0,
          0,
          8,
          4,
          2,
          1,
          1,
          1,
          1,
          1,
          1,
          1,
          1
         ],
         "yaxis": "y"
        }
       ],
       "layout": {
        "barmode": "relative",
        "legend": {
         "title": {
          "text": "Medals"
         },
         "tracegroupgap": 0
        },
        "margin": {
         "t": 60
        },
        "template": {
         "data": {
          "bar": [
           {
            "error_x": {
             "color": "#2a3f5f"
            },
            "error_y": {
             "color": "#2a3f5f"
            },
            "marker": {
             "line": {
              "color": "#E5ECF6",
              "width": 0.5
             },
             "pattern": {
              "fillmode": "overlay",
              "size": 10,
              "solidity": 0.2
             }
            },
            "type": "bar"
           }
          ],
          "barpolar": [
           {
            "marker": {
             "line": {
              "color": "#E5ECF6",
              "width": 0.5
             },
             "pattern": {
              "fillmode": "overlay",
              "size": 10,
              "solidity": 0.2
             }
            },
            "type": "barpolar"
           }
          ],
          "carpet": [
           {
            "aaxis": {
             "endlinecolor": "#2a3f5f",
             "gridcolor": "white",
             "linecolor": "white",
             "minorgridcolor": "white",
             "startlinecolor": "#2a3f5f"
            },
            "baxis": {
             "endlinecolor": "#2a3f5f",
             "gridcolor": "white",
             "linecolor": "white",
             "minorgridcolor": "white",
             "startlinecolor": "#2a3f5f"
            },
            "type": "carpet"
           }
          ],
          "choropleth": [
           {
            "colorbar": {
             "outlinewidth": 0,
             "ticks": ""
            },
            "type": "choropleth"
           }
          ],
          "contour": [
           {
            "colorbar": {
             "outlinewidth": 0,
             "ticks": ""
            },
            "colorscale": [
             [
              0,
              "#0d0887"
             ],
             [
              0.1111111111111111,
              "#46039f"
             ],
             [
              0.2222222222222222,
              "#7201a8"
             ],
             [
              0.3333333333333333,
              "#9c179e"
             ],
             [
              0.4444444444444444,
              "#bd3786"
             ],
             [
              0.5555555555555556,
              "#d8576b"
             ],
             [
              0.6666666666666666,
              "#ed7953"
             ],
             [
              0.7777777777777778,
              "#fb9f3a"
             ],
             [
              0.8888888888888888,
              "#fdca26"
             ],
             [
              1,
              "#f0f921"
             ]
            ],
            "type": "contour"
           }
          ],
          "contourcarpet": [
           {
            "colorbar": {
             "outlinewidth": 0,
             "ticks": ""
            },
            "type": "contourcarpet"
           }
          ],
          "heatmap": [
           {
            "colorbar": {
             "outlinewidth": 0,
             "ticks": ""
            },
            "colorscale": [
             [
              0,
              "#0d0887"
             ],
             [
              0.1111111111111111,
              "#46039f"
             ],
             [
              0.2222222222222222,
              "#7201a8"
             ],
             [
              0.3333333333333333,
              "#9c179e"
             ],
             [
              0.4444444444444444,
              "#bd3786"
             ],
             [
              0.5555555555555556,
              "#d8576b"
             ],
             [
              0.6666666666666666,
              "#ed7953"
             ],
             [
              0.7777777777777778,
              "#fb9f3a"
             ],
             [
              0.8888888888888888,
              "#fdca26"
             ],
             [
              1,
              "#f0f921"
             ]
            ],
            "type": "heatmap"
           }
          ],
          "heatmapgl": [
           {
            "colorbar": {
             "outlinewidth": 0,
             "ticks": ""
            },
            "colorscale": [
             [
              0,
              "#0d0887"
             ],
             [
              0.1111111111111111,
              "#46039f"
             ],
             [
              0.2222222222222222,
              "#7201a8"
             ],
             [
              0.3333333333333333,
              "#9c179e"
             ],
             [
              0.4444444444444444,
              "#bd3786"
             ],
             [
              0.5555555555555556,
              "#d8576b"
             ],
             [
              0.6666666666666666,
              "#ed7953"
             ],
             [
              0.7777777777777778,
              "#fb9f3a"
             ],
             [
              0.8888888888888888,
              "#fdca26"
             ],
             [
              1,
              "#f0f921"
             ]
            ],
            "type": "heatmapgl"
           }
          ],
          "histogram": [
           {
            "marker": {
             "pattern": {
              "fillmode": "overlay",
              "size": 10,
              "solidity": 0.2
             }
            },
            "type": "histogram"
           }
          ],
          "histogram2d": [
           {
            "colorbar": {
             "outlinewidth": 0,
             "ticks": ""
            },
            "colorscale": [
             [
              0,
              "#0d0887"
             ],
             [
              0.1111111111111111,
              "#46039f"
             ],
             [
              0.2222222222222222,
              "#7201a8"
             ],
             [
              0.3333333333333333,
              "#9c179e"
             ],
             [
              0.4444444444444444,
              "#bd3786"
             ],
             [
              0.5555555555555556,
              "#d8576b"
             ],
             [
              0.6666666666666666,
              "#ed7953"
             ],
             [
              0.7777777777777778,
              "#fb9f3a"
             ],
             [
              0.8888888888888888,
              "#fdca26"
             ],
             [
              1,
              "#f0f921"
             ]
            ],
            "type": "histogram2d"
           }
          ],
          "histogram2dcontour": [
           {
            "colorbar": {
             "outlinewidth": 0,
             "ticks": ""
            },
            "colorscale": [
             [
              0,
              "#0d0887"
             ],
             [
              0.1111111111111111,
              "#46039f"
             ],
             [
              0.2222222222222222,
              "#7201a8"
             ],
             [
              0.3333333333333333,
              "#9c179e"
             ],
             [
              0.4444444444444444,
              "#bd3786"
             ],
             [
              0.5555555555555556,
              "#d8576b"
             ],
             [
              0.6666666666666666,
              "#ed7953"
             ],
             [
              0.7777777777777778,
              "#fb9f3a"
             ],
             [
              0.8888888888888888,
              "#fdca26"
             ],
             [
              1,
              "#f0f921"
             ]
            ],
            "type": "histogram2dcontour"
           }
          ],
          "mesh3d": [
           {
            "colorbar": {
             "outlinewidth": 0,
             "ticks": ""
            },
            "type": "mesh3d"
           }
          ],
          "parcoords": [
           {
            "line": {
             "colorbar": {
              "outlinewidth": 0,
              "ticks": ""
             }
            },
            "type": "parcoords"
           }
          ],
          "pie": [
           {
            "automargin": true,
            "type": "pie"
           }
          ],
          "scatter": [
           {
            "fillpattern": {
             "fillmode": "overlay",
             "size": 10,
             "solidity": 0.2
            },
            "type": "scatter"
           }
          ],
          "scatter3d": [
           {
            "line": {
             "colorbar": {
              "outlinewidth": 0,
              "ticks": ""
             }
            },
            "marker": {
             "colorbar": {
              "outlinewidth": 0,
              "ticks": ""
             }
            },
            "type": "scatter3d"
           }
          ],
          "scattercarpet": [
           {
            "marker": {
             "colorbar": {
              "outlinewidth": 0,
              "ticks": ""
             }
            },
            "type": "scattercarpet"
           }
          ],
          "scattergeo": [
           {
            "marker": {
             "colorbar": {
              "outlinewidth": 0,
              "ticks": ""
             }
            },
            "type": "scattergeo"
           }
          ],
          "scattergl": [
           {
            "marker": {
             "colorbar": {
              "outlinewidth": 0,
              "ticks": ""
             }
            },
            "type": "scattergl"
           }
          ],
          "scattermapbox": [
           {
            "marker": {
             "colorbar": {
              "outlinewidth": 0,
              "ticks": ""
             }
            },
            "type": "scattermapbox"
           }
          ],
          "scatterpolar": [
           {
            "marker": {
             "colorbar": {
              "outlinewidth": 0,
              "ticks": ""
             }
            },
            "type": "scatterpolar"
           }
          ],
          "scatterpolargl": [
           {
            "marker": {
             "colorbar": {
              "outlinewidth": 0,
              "ticks": ""
             }
            },
            "type": "scatterpolargl"
           }
          ],
          "scatterternary": [
           {
            "marker": {
             "colorbar": {
              "outlinewidth": 0,
              "ticks": ""
             }
            },
            "type": "scatterternary"
           }
          ],
          "surface": [
           {
            "colorbar": {
             "outlinewidth": 0,
             "ticks": ""
            },
            "colorscale": [
             [
              0,
              "#0d0887"
             ],
             [
              0.1111111111111111,
              "#46039f"
             ],
             [
              0.2222222222222222,
              "#7201a8"
             ],
             [
              0.3333333333333333,
              "#9c179e"
             ],
             [
              0.4444444444444444,
              "#bd3786"
             ],
             [
              0.5555555555555556,
              "#d8576b"
             ],
             [
              0.6666666666666666,
              "#ed7953"
             ],
             [
              0.7777777777777778,
              "#fb9f3a"
             ],
             [
              0.8888888888888888,
              "#fdca26"
             ],
             [
              1,
              "#f0f921"
             ]
            ],
            "type": "surface"
           }
          ],
          "table": [
           {
            "cells": {
             "fill": {
              "color": "#EBF0F8"
             },
             "line": {
              "color": "white"
             }
            },
            "header": {
             "fill": {
              "color": "#C8D4E3"
             },
             "line": {
              "color": "white"
             }
            },
            "type": "table"
           }
          ]
         },
         "layout": {
          "annotationdefaults": {
           "arrowcolor": "#2a3f5f",
           "arrowhead": 0,
           "arrowwidth": 1
          },
          "autotypenumbers": "strict",
          "coloraxis": {
           "colorbar": {
            "outlinewidth": 0,
            "ticks": ""
           }
          },
          "colorscale": {
           "diverging": [
            [
             0,
             "#8e0152"
            ],
            [
             0.1,
             "#c51b7d"
            ],
            [
             0.2,
             "#de77ae"
            ],
            [
             0.3,
             "#f1b6da"
            ],
            [
             0.4,
             "#fde0ef"
            ],
            [
             0.5,
             "#f7f7f7"
            ],
            [
             0.6,
             "#e6f5d0"
            ],
            [
             0.7,
             "#b8e186"
            ],
            [
             0.8,
             "#7fbc41"
            ],
            [
             0.9,
             "#4d9221"
            ],
            [
             1,
             "#276419"
            ]
           ],
           "sequential": [
            [
             0,
             "#0d0887"
            ],
            [
             0.1111111111111111,
             "#46039f"
            ],
            [
             0.2222222222222222,
             "#7201a8"
            ],
            [
             0.3333333333333333,
             "#9c179e"
            ],
            [
             0.4444444444444444,
             "#bd3786"
            ],
            [
             0.5555555555555556,
             "#d8576b"
            ],
            [
             0.6666666666666666,
             "#ed7953"
            ],
            [
             0.7777777777777778,
             "#fb9f3a"
            ],
            [
             0.8888888888888888,
             "#fdca26"
            ],
            [
             1,
             "#f0f921"
            ]
           ],
           "sequentialminus": [
            [
             0,
             "#0d0887"
            ],
            [
             0.1111111111111111,
             "#46039f"
            ],
            [
             0.2222222222222222,
             "#7201a8"
            ],
            [
             0.3333333333333333,
             "#9c179e"
            ],
            [
             0.4444444444444444,
             "#bd3786"
            ],
            [
             0.5555555555555556,
             "#d8576b"
            ],
            [
             0.6666666666666666,
             "#ed7953"
            ],
            [
             0.7777777777777778,
             "#fb9f3a"
            ],
            [
             0.8888888888888888,
             "#fdca26"
            ],
            [
             1,
             "#f0f921"
            ]
           ]
          },
          "colorway": [
           "#636efa",
           "#EF553B",
           "#00cc96",
           "#ab63fa",
           "#FFA15A",
           "#19d3f3",
           "#FF6692",
           "#B6E880",
           "#FF97FF",
           "#FECB52"
          ],
          "font": {
           "color": "#2a3f5f"
          },
          "geo": {
           "bgcolor": "white",
           "lakecolor": "white",
           "landcolor": "#E5ECF6",
           "showlakes": true,
           "showland": true,
           "subunitcolor": "white"
          },
          "hoverlabel": {
           "align": "left"
          },
          "hovermode": "closest",
          "mapbox": {
           "style": "light"
          },
          "paper_bgcolor": "white",
          "plot_bgcolor": "#E5ECF6",
          "polar": {
           "angularaxis": {
            "gridcolor": "white",
            "linecolor": "white",
            "ticks": ""
           },
           "bgcolor": "#E5ECF6",
           "radialaxis": {
            "gridcolor": "white",
            "linecolor": "white",
            "ticks": ""
           }
          },
          "scene": {
           "xaxis": {
            "backgroundcolor": "#E5ECF6",
            "gridcolor": "white",
            "gridwidth": 2,
            "linecolor": "white",
            "showbackground": true,
            "ticks": "",
            "zerolinecolor": "white"
           },
           "yaxis": {
            "backgroundcolor": "#E5ECF6",
            "gridcolor": "white",
            "gridwidth": 2,
            "linecolor": "white",
            "showbackground": true,
            "ticks": "",
            "zerolinecolor": "white"
           },
           "zaxis": {
            "backgroundcolor": "#E5ECF6",
            "gridcolor": "white",
            "gridwidth": 2,
            "linecolor": "white",
            "showbackground": true,
            "ticks": "",
            "zerolinecolor": "white"
           }
          },
          "shapedefaults": {
           "line": {
            "color": "#2a3f5f"
           }
          },
          "ternary": {
           "aaxis": {
            "gridcolor": "white",
            "linecolor": "white",
            "ticks": ""
           },
           "baxis": {
            "gridcolor": "white",
            "linecolor": "white",
            "ticks": ""
           },
           "bgcolor": "#E5ECF6",
           "caxis": {
            "gridcolor": "white",
            "linecolor": "white",
            "ticks": ""
           }
          },
          "title": {
           "x": 0.05
          },
          "xaxis": {
           "automargin": true,
           "gridcolor": "white",
           "linecolor": "white",
           "ticks": "",
           "title": {
            "standoff": 15
           },
           "zerolinecolor": "white",
           "zerolinewidth": 2
          },
          "yaxis": {
           "automargin": true,
           "gridcolor": "white",
           "linecolor": "white",
           "ticks": "",
           "title": {
            "standoff": 15
           },
           "zerolinecolor": "white",
           "zerolinewidth": 2
          }
         }
        },
        "xaxis": {
         "anchor": "y",
         "domain": [
          0,
          1
         ],
         "title": {
          "text": "Team/NOC"
         }
        },
        "yaxis": {
         "anchor": "x",
         "domain": [
          0,
          1
         ],
         "title": {
          "text": "Total"
         }
        }
       }
      }
     },
     "metadata": {},
     "output_type": "display_data"
    }
   ],
   "source": [
    "fig = px.bar(df, x='Team/NOC', y=['Gold', 'Silver', 'Bronze'], labels={'variable':'Medals', 'value':'Total'})\n",
    "fig.show()\n",
    "\n",
    "# athletes_per_discipline_per_gender = px.bar(df, x=“Discipline”, y=[“Female”, “Male”], title=“Total Athletes per Discipline per Gender”,\n",
    "#                                             labels={\n",
    "#                                                     ‘value’:‘Total’,\n",
    "#                                                     ‘variable’:‘Gender’}"
   ]
  },
  {
   "cell_type": "markdown",
   "metadata": {},
   "source": [
    "## India Air Quality"
   ]
  },
  {
   "cell_type": "code",
   "execution_count": 3,
   "metadata": {},
   "outputs": [
    {
     "name": "stderr",
     "output_type": "stream",
     "text": [
      "/var/folders/h9/jzhyvg6x4k51g8lzv6t0h8vr0000gn/T/ipykernel_13988/1576093605.py:1: DtypeWarning: Columns (0) have mixed types. Specify dtype option on import or set low_memory=False.\n",
      "  df = pd.read_csv('India_Air_Quality.csv', encoding= 'unicode_escape')\n"
     ]
    },
    {
     "name": "stdout",
     "output_type": "stream",
     "text": [
      "<class 'pandas.core.frame.DataFrame'>\n",
      "RangeIndex: 435742 entries, 0 to 435741\n",
      "Data columns (total 13 columns):\n",
      " #   Column                       Non-Null Count   Dtype  \n",
      "---  ------                       --------------   -----  \n",
      " 0   stn_code                     291665 non-null  object \n",
      " 1   sampling_date                435739 non-null  object \n",
      " 2   state                        435742 non-null  object \n",
      " 3   location                     435739 non-null  object \n",
      " 4   agency                       286261 non-null  object \n",
      " 5   type                         430349 non-null  object \n",
      " 6   so2                          401096 non-null  float64\n",
      " 7   no2                          419509 non-null  float64\n",
      " 8   rspm                         395520 non-null  float64\n",
      " 9   spm                          198355 non-null  float64\n",
      " 10  location_monitoring_station  408251 non-null  object \n",
      " 11  pm2_5                        9314 non-null    float64\n",
      " 12  date                         435735 non-null  object \n",
      "dtypes: float64(5), object(8)\n",
      "memory usage: 43.2+ MB\n",
      "None\n"
     ]
    }
   ],
   "source": [
    "df = pd.read_csv('India_Air_Quality.csv', encoding= 'unicode_escape')\n",
    "print(df.info())"
   ]
  },
  {
   "cell_type": "code",
   "execution_count": 4,
   "metadata": {},
   "outputs": [
    {
     "data": {
      "text/html": [
       "<div>\n",
       "<style scoped>\n",
       "    .dataframe tbody tr th:only-of-type {\n",
       "        vertical-align: middle;\n",
       "    }\n",
       "\n",
       "    .dataframe tbody tr th {\n",
       "        vertical-align: top;\n",
       "    }\n",
       "\n",
       "    .dataframe thead th {\n",
       "        text-align: right;\n",
       "    }\n",
       "</style>\n",
       "<table border=\"1\" class=\"dataframe\">\n",
       "  <thead>\n",
       "    <tr style=\"text-align: right;\">\n",
       "      <th></th>\n",
       "      <th>stn_code</th>\n",
       "      <th>sampling_date</th>\n",
       "      <th>state</th>\n",
       "      <th>location</th>\n",
       "      <th>agency</th>\n",
       "      <th>type</th>\n",
       "      <th>so2</th>\n",
       "      <th>no2</th>\n",
       "      <th>rspm</th>\n",
       "      <th>spm</th>\n",
       "      <th>location_monitoring_station</th>\n",
       "      <th>pm2_5</th>\n",
       "      <th>date</th>\n",
       "    </tr>\n",
       "  </thead>\n",
       "  <tbody>\n",
       "    <tr>\n",
       "      <th>0</th>\n",
       "      <td>False</td>\n",
       "      <td>False</td>\n",
       "      <td>False</td>\n",
       "      <td>False</td>\n",
       "      <td>True</td>\n",
       "      <td>False</td>\n",
       "      <td>False</td>\n",
       "      <td>False</td>\n",
       "      <td>True</td>\n",
       "      <td>True</td>\n",
       "      <td>True</td>\n",
       "      <td>True</td>\n",
       "      <td>False</td>\n",
       "    </tr>\n",
       "    <tr>\n",
       "      <th>1</th>\n",
       "      <td>False</td>\n",
       "      <td>False</td>\n",
       "      <td>False</td>\n",
       "      <td>False</td>\n",
       "      <td>True</td>\n",
       "      <td>False</td>\n",
       "      <td>False</td>\n",
       "      <td>False</td>\n",
       "      <td>True</td>\n",
       "      <td>True</td>\n",
       "      <td>True</td>\n",
       "      <td>True</td>\n",
       "      <td>False</td>\n",
       "    </tr>\n",
       "    <tr>\n",
       "      <th>2</th>\n",
       "      <td>False</td>\n",
       "      <td>False</td>\n",
       "      <td>False</td>\n",
       "      <td>False</td>\n",
       "      <td>True</td>\n",
       "      <td>False</td>\n",
       "      <td>False</td>\n",
       "      <td>False</td>\n",
       "      <td>True</td>\n",
       "      <td>True</td>\n",
       "      <td>True</td>\n",
       "      <td>True</td>\n",
       "      <td>False</td>\n",
       "    </tr>\n",
       "    <tr>\n",
       "      <th>3</th>\n",
       "      <td>False</td>\n",
       "      <td>False</td>\n",
       "      <td>False</td>\n",
       "      <td>False</td>\n",
       "      <td>True</td>\n",
       "      <td>False</td>\n",
       "      <td>False</td>\n",
       "      <td>False</td>\n",
       "      <td>True</td>\n",
       "      <td>True</td>\n",
       "      <td>True</td>\n",
       "      <td>True</td>\n",
       "      <td>False</td>\n",
       "    </tr>\n",
       "    <tr>\n",
       "      <th>4</th>\n",
       "      <td>False</td>\n",
       "      <td>False</td>\n",
       "      <td>False</td>\n",
       "      <td>False</td>\n",
       "      <td>True</td>\n",
       "      <td>False</td>\n",
       "      <td>False</td>\n",
       "      <td>False</td>\n",
       "      <td>True</td>\n",
       "      <td>True</td>\n",
       "      <td>True</td>\n",
       "      <td>True</td>\n",
       "      <td>False</td>\n",
       "    </tr>\n",
       "    <tr>\n",
       "      <th>...</th>\n",
       "      <td>...</td>\n",
       "      <td>...</td>\n",
       "      <td>...</td>\n",
       "      <td>...</td>\n",
       "      <td>...</td>\n",
       "      <td>...</td>\n",
       "      <td>...</td>\n",
       "      <td>...</td>\n",
       "      <td>...</td>\n",
       "      <td>...</td>\n",
       "      <td>...</td>\n",
       "      <td>...</td>\n",
       "      <td>...</td>\n",
       "    </tr>\n",
       "    <tr>\n",
       "      <th>435737</th>\n",
       "      <td>False</td>\n",
       "      <td>False</td>\n",
       "      <td>False</td>\n",
       "      <td>False</td>\n",
       "      <td>False</td>\n",
       "      <td>False</td>\n",
       "      <td>False</td>\n",
       "      <td>False</td>\n",
       "      <td>False</td>\n",
       "      <td>True</td>\n",
       "      <td>False</td>\n",
       "      <td>True</td>\n",
       "      <td>False</td>\n",
       "    </tr>\n",
       "    <tr>\n",
       "      <th>435738</th>\n",
       "      <td>False</td>\n",
       "      <td>False</td>\n",
       "      <td>False</td>\n",
       "      <td>False</td>\n",
       "      <td>False</td>\n",
       "      <td>False</td>\n",
       "      <td>False</td>\n",
       "      <td>False</td>\n",
       "      <td>False</td>\n",
       "      <td>True</td>\n",
       "      <td>False</td>\n",
       "      <td>True</td>\n",
       "      <td>False</td>\n",
       "    </tr>\n",
       "    <tr>\n",
       "      <th>435739</th>\n",
       "      <td>True</td>\n",
       "      <td>True</td>\n",
       "      <td>False</td>\n",
       "      <td>True</td>\n",
       "      <td>True</td>\n",
       "      <td>True</td>\n",
       "      <td>True</td>\n",
       "      <td>True</td>\n",
       "      <td>True</td>\n",
       "      <td>True</td>\n",
       "      <td>True</td>\n",
       "      <td>True</td>\n",
       "      <td>True</td>\n",
       "    </tr>\n",
       "    <tr>\n",
       "      <th>435740</th>\n",
       "      <td>True</td>\n",
       "      <td>True</td>\n",
       "      <td>False</td>\n",
       "      <td>True</td>\n",
       "      <td>True</td>\n",
       "      <td>True</td>\n",
       "      <td>True</td>\n",
       "      <td>True</td>\n",
       "      <td>True</td>\n",
       "      <td>True</td>\n",
       "      <td>True</td>\n",
       "      <td>True</td>\n",
       "      <td>True</td>\n",
       "    </tr>\n",
       "    <tr>\n",
       "      <th>435741</th>\n",
       "      <td>True</td>\n",
       "      <td>True</td>\n",
       "      <td>False</td>\n",
       "      <td>True</td>\n",
       "      <td>True</td>\n",
       "      <td>True</td>\n",
       "      <td>True</td>\n",
       "      <td>True</td>\n",
       "      <td>True</td>\n",
       "      <td>True</td>\n",
       "      <td>True</td>\n",
       "      <td>True</td>\n",
       "      <td>True</td>\n",
       "    </tr>\n",
       "  </tbody>\n",
       "</table>\n",
       "<p>435742 rows × 13 columns</p>\n",
       "</div>"
      ],
      "text/plain": [
       "        stn_code  sampling_date  state  location  agency   type    so2    no2  \\\n",
       "0          False          False  False     False    True  False  False  False   \n",
       "1          False          False  False     False    True  False  False  False   \n",
       "2          False          False  False     False    True  False  False  False   \n",
       "3          False          False  False     False    True  False  False  False   \n",
       "4          False          False  False     False    True  False  False  False   \n",
       "...          ...            ...    ...       ...     ...    ...    ...    ...   \n",
       "435737     False          False  False     False   False  False  False  False   \n",
       "435738     False          False  False     False   False  False  False  False   \n",
       "435739      True           True  False      True    True   True   True   True   \n",
       "435740      True           True  False      True    True   True   True   True   \n",
       "435741      True           True  False      True    True   True   True   True   \n",
       "\n",
       "         rspm   spm  location_monitoring_station  pm2_5   date  \n",
       "0        True  True                         True   True  False  \n",
       "1        True  True                         True   True  False  \n",
       "2        True  True                         True   True  False  \n",
       "3        True  True                         True   True  False  \n",
       "4        True  True                         True   True  False  \n",
       "...       ...   ...                          ...    ...    ...  \n",
       "435737  False  True                        False   True  False  \n",
       "435738  False  True                        False   True  False  \n",
       "435739   True  True                         True   True   True  \n",
       "435740   True  True                         True   True   True  \n",
       "435741   True  True                         True   True   True  \n",
       "\n",
       "[435742 rows x 13 columns]"
      ]
     },
     "execution_count": 4,
     "metadata": {},
     "output_type": "execute_result"
    }
   ],
   "source": [
    "df.isnull()\n"
   ]
  },
  {
   "cell_type": "code",
   "execution_count": 67,
   "metadata": {},
   "outputs": [
    {
     "name": "stdout",
     "output_type": "stream",
     "text": [
      "stn_code                       144077\n",
      "sampling_date                       3\n",
      "state                               0\n",
      "location                            3\n",
      "agency                         149481\n",
      "type                             5393\n",
      "so2                             34646\n",
      "no2                             16233\n",
      "rspm                            40222\n",
      "spm                            237387\n",
      "location_monitoring_station     27491\n",
      "pm2_5                          426428\n",
      "date                                7\n",
      "dtype: int64\n"
     ]
    }
   ],
   "source": [
    "print(df.isnull().sum())"
   ]
  },
  {
   "cell_type": "code",
   "execution_count": 5,
   "metadata": {},
   "outputs": [
    {
     "name": "stdout",
     "output_type": "stream",
     "text": [
      "<class 'pandas.core.frame.DataFrame'>\n",
      "RangeIndex: 435742 entries, 0 to 435741\n",
      "Data columns (total 4 columns):\n",
      " #   Column  Non-Null Count   Dtype  \n",
      "---  ------  --------------   -----  \n",
      " 0   so2     401096 non-null  float64\n",
      " 1   no2     419509 non-null  float64\n",
      " 2   pm2_5   9314 non-null    float64\n",
      " 3   date    435735 non-null  object \n",
      "dtypes: float64(3), object(1)\n",
      "memory usage: 13.3+ MB\n",
      "None\n"
     ]
    }
   ],
   "source": [
    "new_df = df[['so2', 'no2', 'pm2_5','date']]\n",
    "print(new_df.info())\n",
    "\n",
    "\n",
    "\n"
   ]
  },
  {
   "cell_type": "code",
   "execution_count": null,
   "metadata": {},
   "outputs": [],
   "source": [
    "fig = px.line(new_df, x='date', y=['so2','no2','pm2_5'])\n"
   ]
  },
  {
   "cell_type": "markdown",
   "metadata": {},
   "source": [
    "## Data Cleaning\n"
   ]
  },
  {
   "cell_type": "code",
   "execution_count": 2,
   "metadata": {},
   "outputs": [],
   "source": [
    "import pandas as pd\n",
    "pd.set_option('display.max_columns', None)\n",
    "flights_df = pd.read_csv(\"flights.txt\", sep=\"|\") # Make sure flights.txt is in the same directory\n"
   ]
  },
  {
   "cell_type": "code",
   "execution_count": 4,
   "metadata": {},
   "outputs": [
    {
     "data": {
      "text/plain": [
       "<bound method NDFrame.head of          TRANSACTIONID  FLIGHTDATE AIRLINECODE  \\\n",
       "0             54548800    20020101          WN   \n",
       "1             55872300    20020101          CO   \n",
       "2             54388800    20020101          WN   \n",
       "3             54486500    20020101          WN   \n",
       "4             55878700    20020103          CO   \n",
       "...                ...         ...         ...   \n",
       "1191800      126750200    20130106          EV   \n",
       "1191801      127294500    20130106          DL   \n",
       "1191802      127294900    20130106          DL   \n",
       "1191803      126594900    20130106          EV   \n",
       "1191804      126620300    20130106          EV   \n",
       "\n",
       "                            AIRLINENAME TAILNUM  FLIGHTNUM ORIGINAIRPORTCODE  \\\n",
       "0            Southwest Airlines Co.: WN  N103@@       1425               ABQ   \n",
       "1        Continental Air Lines Inc.: CO  N83872        150               ABQ   \n",
       "2            Southwest Airlines Co.: WN  N334@@        249               ABQ   \n",
       "3            Southwest Airlines Co.: WN  N699@@        902               ABQ   \n",
       "4        Continental Air Lines Inc.: CO  N58606        234               ABQ   \n",
       "...                                 ...     ...        ...               ...   \n",
       "1191800    ExpressJet Airlines Inc.: EV  N683BR       5272               ATL   \n",
       "1191801        Delta Air Lines Inc.: DL  N949DL       1711               ATL   \n",
       "1191802        Delta Air Lines Inc.: DL  N907DE       1810               ATL   \n",
       "1191803    ExpressJet Airlines Inc.: EV  N855AS       5208               ATL   \n",
       "1191804    ExpressJet Airlines Inc.: EV  N138EV       5549               ATL   \n",
       "\n",
       "                                           ORIGAIRPORTNAME ORIGINCITYNAME  \\\n",
       "0         AlbuquerqueNM: Albuquerque International Sunport    Albuquerque   \n",
       "1         AlbuquerqueNM: Albuquerque International Sunport    Albuquerque   \n",
       "2         AlbuquerqueNM: Albuquerque International Sunport    Albuquerque   \n",
       "3         AlbuquerqueNM: Albuquerque International Sunport    Albuquerque   \n",
       "4         AlbuquerqueNM: Albuquerque International Sunport    Albuquerque   \n",
       "...                                                    ...            ...   \n",
       "1191800  AtlantaGA: Hartsfield-Jackson Atlanta Internat...        Atlanta   \n",
       "1191801  AtlantaGA: Hartsfield-Jackson Atlanta Internat...        Atlanta   \n",
       "1191802  AtlantaGA: Hartsfield-Jackson Atlanta Internat...        Atlanta   \n",
       "1191803  AtlantaGA: Hartsfield-Jackson Atlanta Internat...        Atlanta   \n",
       "1191804  AtlantaGA: Hartsfield-Jackson Atlanta Internat...        Atlanta   \n",
       "\n",
       "        ORIGINSTATE ORIGINSTATENAME DESTAIRPORTCODE  \\\n",
       "0                NM      New Mexico             DAL   \n",
       "1                NM      New Mexico             IAH   \n",
       "2                NM      New Mexico             MCI   \n",
       "3                NM      New Mexico             LAS   \n",
       "4                NM      New Mexico             IAH   \n",
       "...             ...             ...             ...   \n",
       "1191800          GA         Georgia             DAL   \n",
       "1191801          GA         Georgia             DFW   \n",
       "1191802          GA         Georgia             DFW   \n",
       "1191803          GA         Georgia             FWA   \n",
       "1191804          GA         Georgia             GSO   \n",
       "\n",
       "                                           DESTAIRPORTNAME  \\\n",
       "0                              DallasTX: Dallas Love Field   \n",
       "1          HoustonTX: George Bush Intercontinental/Houston   \n",
       "2                 Kansas CityMO: Kansas City International   \n",
       "3                      Las VegasNV: McCarran International   \n",
       "4          HoustonTX: George Bush Intercontinental/Houston   \n",
       "...                                                    ...   \n",
       "1191800                        DallasTX: Dallas Love Field   \n",
       "1191801  Dallas/Fort WorthTX: Dallas/Fort Worth Interna...   \n",
       "1191802  Dallas/Fort WorthTX: Dallas/Fort Worth Interna...   \n",
       "1191803             Fort WayneIN: Fort Wayne International   \n",
       "1191804  Greensboro/High PointNC: Piedmont Triad Intern...   \n",
       "\n",
       "                  DESTCITYNAME DESTSTATE   DESTSTATENAME  CRSDEPTIME  DEPTIME  \\\n",
       "0                       Dallas        TX           Texas        1425   1425.0   \n",
       "1                      Houston        TX           Texas        1130   1136.0   \n",
       "2                  Kansas City        MO        Missouri        1215   1338.0   \n",
       "3                    Las Vegas        NV          Nevada        1925   1925.0   \n",
       "4                      Houston        TX           Texas        1455   1453.0   \n",
       "...                        ...       ...             ...         ...      ...   \n",
       "1191800                 Dallas        TX           Texas        1357   1348.0   \n",
       "1191801      Dallas/Fort Worth        TX           Texas        2150   2147.0   \n",
       "1191802      Dallas/Fort Worth        TX           Texas        1617   1617.0   \n",
       "1191803             Fort Wayne        IN         Indiana        1516   1514.0   \n",
       "1191804  Greensboro/High Point        NC  North Carolina        1452   1458.0   \n",
       "\n",
       "         DEPDELAY  TAXIOUT  WHEELSOFF  WHEELSON  TAXIIN  CRSARRTIME  ARRTIME  \\\n",
       "0             0.0      8.0     1433.0    1648.0     4.0        1655   1652.0   \n",
       "1             6.0     12.0     1148.0    1419.0    16.0        1426   1435.0   \n",
       "2            83.0      7.0     1345.0    1618.0     2.0        1500   1620.0   \n",
       "3             0.0      5.0     1930.0    1947.0     1.0        1950   1948.0   \n",
       "4            -2.0     11.0     1504.0    1742.0     5.0        1750   1747.0   \n",
       "...           ...      ...        ...       ...     ...         ...      ...   \n",
       "1191800      -9.0     22.0     1410.0    1500.0     3.0        1523   1503.0   \n",
       "1191801      -3.0     23.0     2210.0    2307.0    10.0        2321   2317.0   \n",
       "1191802       0.0     18.0     1635.0    1728.0     9.0        1750   1737.0   \n",
       "1191803      -2.0     21.0     1535.0    1651.0     4.0        1658   1655.0   \n",
       "1191804       6.0     27.0     1525.0    1611.0     4.0        1609   1615.0   \n",
       "\n",
       "         ARRDELAY  CRSELAPSEDTIME  ACTUALELAPSEDTIME CANCELLED DIVERTED  \\\n",
       "0            -3.0            90.0               87.0         F    False   \n",
       "1             9.0           116.0              119.0     False        F   \n",
       "2            80.0           105.0              102.0         F    False   \n",
       "3            -2.0            85.0               83.0         0        0   \n",
       "4            -3.0           115.0              114.0         F    False   \n",
       "...           ...             ...                ...       ...      ...   \n",
       "1191800     -20.0           146.0              135.0         0        0   \n",
       "1191801      -4.0           151.0              150.0     False        F   \n",
       "1191802     -13.0           153.0              140.0         F    False   \n",
       "1191803      -3.0           102.0              101.0     False        F   \n",
       "1191804       6.0            77.0               77.0     False    False   \n",
       "\n",
       "          DISTANCE  \n",
       "0        580 miles  \n",
       "1        744 miles  \n",
       "2        718 miles  \n",
       "3        487 miles  \n",
       "4        744 miles  \n",
       "...            ...  \n",
       "1191800  721 miles  \n",
       "1191801  731 miles  \n",
       "1191802  731 miles  \n",
       "1191803  508 miles  \n",
       "1191804  306 miles  \n",
       "\n",
       "[1191805 rows x 31 columns]>"
      ]
     },
     "execution_count": 4,
     "metadata": {},
     "output_type": "execute_result"
    }
   ],
   "source": [
    "flights_df.head"
   ]
  },
  {
   "cell_type": "code",
   "execution_count": 5,
   "metadata": {},
   "outputs": [
    {
     "data": {
      "text/plain": [
       "TRANSACTIONID          int64\n",
       "FLIGHTDATE             int64\n",
       "AIRLINECODE           object\n",
       "AIRLINENAME           object\n",
       "TAILNUM               object\n",
       "FLIGHTNUM              int64\n",
       "ORIGINAIRPORTCODE     object\n",
       "ORIGAIRPORTNAME       object\n",
       "ORIGINCITYNAME        object\n",
       "ORIGINSTATE           object\n",
       "ORIGINSTATENAME       object\n",
       "DESTAIRPORTCODE       object\n",
       "DESTAIRPORTNAME       object\n",
       "DESTCITYNAME          object\n",
       "DESTSTATE             object\n",
       "DESTSTATENAME         object\n",
       "CRSDEPTIME             int64\n",
       "DEPTIME              float64\n",
       "DEPDELAY             float64\n",
       "TAXIOUT              float64\n",
       "WHEELSOFF            float64\n",
       "WHEELSON             float64\n",
       "TAXIIN               float64\n",
       "CRSARRTIME             int64\n",
       "ARRTIME              float64\n",
       "ARRDELAY             float64\n",
       "CRSELAPSEDTIME       float64\n",
       "ACTUALELAPSEDTIME    float64\n",
       "CANCELLED             object\n",
       "DIVERTED              object\n",
       "DISTANCE              object\n",
       "dtype: object"
      ]
     },
     "execution_count": 5,
     "metadata": {},
     "output_type": "execute_result"
    }
   ],
   "source": [
    "flights_df.dtypes"
   ]
  },
  {
   "cell_type": "code",
   "execution_count": 6,
   "metadata": {},
   "outputs": [
    {
     "name": "stdout",
     "output_type": "stream",
     "text": [
      "<class 'pandas.core.frame.DataFrame'>\n",
      "RangeIndex: 1191805 entries, 0 to 1191804\n",
      "Data columns (total 31 columns):\n",
      " #   Column             Non-Null Count    Dtype  \n",
      "---  ------             --------------    -----  \n",
      " 0   TRANSACTIONID      1191805 non-null  int64  \n",
      " 1   FLIGHTDATE         1191805 non-null  int64  \n",
      " 2   AIRLINECODE        1191805 non-null  object \n",
      " 3   AIRLINENAME        1191805 non-null  object \n",
      " 4   TAILNUM            1034988 non-null  object \n",
      " 5   FLIGHTNUM          1191805 non-null  int64  \n",
      " 6   ORIGINAIRPORTCODE  1191805 non-null  object \n",
      " 7   ORIGAIRPORTNAME    1191805 non-null  object \n",
      " 8   ORIGINCITYNAME     1191805 non-null  object \n",
      " 9   ORIGINSTATE        1180963 non-null  object \n",
      " 10  ORIGINSTATENAME    1180963 non-null  object \n",
      " 11  DESTAIRPORTCODE    1191805 non-null  object \n",
      " 12  DESTAIRPORTNAME    1191805 non-null  object \n",
      " 13  DESTCITYNAME       1191805 non-null  object \n",
      " 14  DESTSTATE          1180967 non-null  object \n",
      " 15  DESTSTATENAME      1180967 non-null  object \n",
      " 16  CRSDEPTIME         1191805 non-null  int64  \n",
      " 17  DEPTIME            1163470 non-null  float64\n",
      " 18  DEPDELAY           1163470 non-null  float64\n",
      " 19  TAXIOUT            1011833 non-null  float64\n",
      " 20  WHEELSOFF          1011791 non-null  float64\n",
      " 21  WHEELSON           1010225 non-null  float64\n",
      " 22  TAXIIN             1010320 non-null  float64\n",
      " 23  CRSARRTIME         1191805 non-null  int64  \n",
      " 24  ARRTIME            1161439 non-null  float64\n",
      " 25  ARRDELAY           1160545 non-null  float64\n",
      " 26  CRSELAPSEDTIME     1191383 non-null  float64\n",
      " 27  ACTUALELAPSEDTIME  1160545 non-null  float64\n",
      " 28  CANCELLED          1191805 non-null  object \n",
      " 29  DIVERTED           1191805 non-null  object \n",
      " 30  DISTANCE           1191805 non-null  object \n",
      "dtypes: float64(10), int64(5), object(16)\n",
      "memory usage: 281.9+ MB\n"
     ]
    }
   ],
   "source": [
    "flights_df.info()"
   ]
  },
  {
   "cell_type": "code",
   "execution_count": 4,
   "metadata": {},
   "outputs": [],
   "source": [
    "df = flights_df.copy() \n"
   ]
  },
  {
   "cell_type": "code",
   "execution_count": 4,
   "metadata": {},
   "outputs": [
    {
     "name": "stdout",
     "output_type": "stream",
     "text": [
      "0     580 miles\n",
      "1     744 miles\n",
      "2     718 miles\n",
      "3     487 miles\n",
      "4     744 miles\n",
      "5     289 miles\n",
      "6     569 miles\n",
      "7    1240 miles\n",
      "8     223 miles\n",
      "9     677 miles\n",
      "Name: DISTANCE, dtype: object\n"
     ]
    }
   ],
   "source": [
    "distance_df = flights_df.loc[:, \"DISTANCE\"].head(10)\n",
    "print(distance_df)"
   ]
  },
  {
   "cell_type": "code",
   "execution_count": 11,
   "metadata": {},
   "outputs": [
    {
     "data": {
      "text/plain": [
       "0     580.0\n",
       "1     744.0\n",
       "2     718.0\n",
       "3     487.0\n",
       "4     744.0\n",
       "5     289.0\n",
       "6     569.0\n",
       "7    1240.0\n",
       "8     223.0\n",
       "9     677.0\n",
       "Name: DISTANCE, dtype: float64"
      ]
     },
     "execution_count": 11,
     "metadata": {},
     "output_type": "execute_result"
    }
   ],
   "source": [
    "flights_df.loc[:, \"DISTANCE\"].head(10)"
   ]
  },
  {
   "cell_type": "code",
   "execution_count": 12,
   "metadata": {},
   "outputs": [],
   "source": [
    "flights_df[\"DISTANCE\"] = flights_df[\"DISTANCE\"].astype('int64')\n"
   ]
  },
  {
   "cell_type": "code",
   "execution_count": 14,
   "metadata": {},
   "outputs": [
    {
     "data": {
      "text/plain": [
       "0          580\n",
       "1          744\n",
       "2          718\n",
       "3          487\n",
       "4          744\n",
       "          ... \n",
       "1191800    721\n",
       "1191801    731\n",
       "1191802    731\n",
       "1191803    508\n",
       "1191804    306\n",
       "Name: DISTANCE, Length: 1191805, dtype: int64"
      ]
     },
     "execution_count": 14,
     "metadata": {},
     "output_type": "execute_result"
    }
   ],
   "source": [
    "flights_df[\"DISTANCE\"]"
   ]
  },
  {
   "cell_type": "code",
   "execution_count": 15,
   "metadata": {},
   "outputs": [
    {
     "data": {
      "text/plain": [
       "count     1191805\n",
       "unique         26\n",
       "top            WN\n",
       "freq       189985\n",
       "Name: AIRLINECODE, dtype: object"
      ]
     },
     "execution_count": 15,
     "metadata": {},
     "output_type": "execute_result"
    }
   ],
   "source": [
    "flights_df[\"AIRLINECODE\"].describe()"
   ]
  },
  {
   "cell_type": "code",
   "execution_count": 18,
   "metadata": {},
   "outputs": [
    {
     "data": {
      "text/plain": [
       "0          WN\n",
       "1          CO\n",
       "2          WN\n",
       "3          WN\n",
       "4          CO\n",
       "           ..\n",
       "1191800    EV\n",
       "1191801    DL\n",
       "1191802    DL\n",
       "1191803    EV\n",
       "1191804    EV\n",
       "Name: AIRLINECODE, Length: 1191805, dtype: category\n",
       "Categories (26, object): ['9E', 'AA', 'AS', 'B6', ..., 'VX', 'WN', 'XE', 'YV']"
      ]
     },
     "execution_count": 18,
     "metadata": {},
     "output_type": "execute_result"
    }
   ],
   "source": [
    "flights_df['AIRLINECODE'] = flights_df['AIRLINECODE'].astype('category')\n",
    "flights_df['AIRLINECODE']"
   ]
  },
  {
   "cell_type": "code",
   "execution_count": 17,
   "metadata": {},
   "outputs": [
    {
     "data": {
      "text/plain": [
       "count     1191805\n",
       "unique         26\n",
       "top            WN\n",
       "freq       189985\n",
       "Name: AIRLINECODE, dtype: object"
      ]
     },
     "execution_count": 17,
     "metadata": {},
     "output_type": "execute_result"
    }
   ],
   "source": [
    "flights_df[\"AIRLINECODE\"].describe()"
   ]
  },
  {
   "cell_type": "code",
   "execution_count": null,
   "metadata": {},
   "outputs": [],
   "source": []
  },
  {
   "cell_type": "markdown",
   "metadata": {},
   "source": [
    "## Pandas - Concepts and Dataframe Operations"
   ]
  },
  {
   "cell_type": "markdown",
   "metadata": {},
   "source": [
    "### Read YAML with pandas"
   ]
  },
  {
   "cell_type": "code",
   "execution_count": null,
   "metadata": {},
   "outputs": [],
   "source": [
    "def transforms_yaml_file_to_pandas_dataframe():\n",
    "    df = pd.read_yaml"
   ]
  },
  {
   "cell_type": "markdown",
   "metadata": {},
   "source": [
    "### Fire Fighters versus Police Officers"
   ]
  },
  {
   "cell_type": "code",
   "execution_count": 21,
   "metadata": {},
   "outputs": [
    {
     "data": {
      "text/html": [
       "<div>\n",
       "<style scoped>\n",
       "    .dataframe tbody tr th:only-of-type {\n",
       "        vertical-align: middle;\n",
       "    }\n",
       "\n",
       "    .dataframe tbody tr th {\n",
       "        vertical-align: top;\n",
       "    }\n",
       "\n",
       "    .dataframe thead th {\n",
       "        text-align: right;\n",
       "    }\n",
       "</style>\n",
       "<table border=\"1\" class=\"dataframe\">\n",
       "  <thead>\n",
       "    <tr style=\"text-align: right;\">\n",
       "      <th></th>\n",
       "      <th>Id</th>\n",
       "      <th>EmployeeName</th>\n",
       "      <th>JobTitle</th>\n",
       "      <th>BasePay</th>\n",
       "      <th>OvertimePay</th>\n",
       "      <th>OtherPay</th>\n",
       "      <th>Benefits</th>\n",
       "      <th>TotalPay</th>\n",
       "      <th>TotalPayBenefits</th>\n",
       "      <th>Year</th>\n",
       "      <th>Notes</th>\n",
       "      <th>Agency</th>\n",
       "      <th>Status</th>\n",
       "    </tr>\n",
       "  </thead>\n",
       "  <tbody>\n",
       "    <tr>\n",
       "      <th>0</th>\n",
       "      <td>AA</td>\n",
       "      <td>NATHANIEL FORD</td>\n",
       "      <td>GENERAL MANAGER-METROPOLITAN TRANSIT AUTHORITY</td>\n",
       "      <td>167411.18</td>\n",
       "      <td>0.00</td>\n",
       "      <td>400184.25</td>\n",
       "      <td>NaN</td>\n",
       "      <td>567595.43</td>\n",
       "      <td>567595.43</td>\n",
       "      <td>2011</td>\n",
       "      <td>NaN</td>\n",
       "      <td>San Francisco</td>\n",
       "      <td>NaN</td>\n",
       "    </tr>\n",
       "    <tr>\n",
       "      <th>1</th>\n",
       "      <td>AB</td>\n",
       "      <td>GARY JIMENEZ</td>\n",
       "      <td>CAPTAIN III (POLICE DEPARTMENT)</td>\n",
       "      <td>155966.02</td>\n",
       "      <td>245131.88</td>\n",
       "      <td>137811.38</td>\n",
       "      <td>NaN</td>\n",
       "      <td>538909.28</td>\n",
       "      <td>538909.28</td>\n",
       "      <td>2011</td>\n",
       "      <td>NaN</td>\n",
       "      <td>San Francisco</td>\n",
       "      <td>NaN</td>\n",
       "    </tr>\n",
       "    <tr>\n",
       "      <th>2</th>\n",
       "      <td>AC</td>\n",
       "      <td>ALBERT PARDINI</td>\n",
       "      <td>CAPTAIN III (POLICE DEPARTMENT)</td>\n",
       "      <td>212739.13</td>\n",
       "      <td>106088.18</td>\n",
       "      <td>16452.60</td>\n",
       "      <td>NaN</td>\n",
       "      <td>335279.91</td>\n",
       "      <td>335279.91</td>\n",
       "      <td>2011</td>\n",
       "      <td>NaN</td>\n",
       "      <td>San Francisco</td>\n",
       "      <td>NaN</td>\n",
       "    </tr>\n",
       "    <tr>\n",
       "      <th>3</th>\n",
       "      <td>AD</td>\n",
       "      <td>CHRISTOPHER CHONG</td>\n",
       "      <td>WIRE ROPE CABLE MAINTENANCE MECHANIC</td>\n",
       "      <td>77916.00</td>\n",
       "      <td>56120.71</td>\n",
       "      <td>198306.90</td>\n",
       "      <td>NaN</td>\n",
       "      <td>332343.61</td>\n",
       "      <td>332343.61</td>\n",
       "      <td>2011</td>\n",
       "      <td>NaN</td>\n",
       "      <td>San Francisco</td>\n",
       "      <td>NaN</td>\n",
       "    </tr>\n",
       "    <tr>\n",
       "      <th>4</th>\n",
       "      <td>AE</td>\n",
       "      <td>PATRICK GARDNER</td>\n",
       "      <td>DEPUTY CHIEF OF DEPARTMENT,(FIRE DEPARTMENT)</td>\n",
       "      <td>134401.60</td>\n",
       "      <td>9737.00</td>\n",
       "      <td>182234.59</td>\n",
       "      <td>NaN</td>\n",
       "      <td>326373.19</td>\n",
       "      <td>326373.19</td>\n",
       "      <td>2011</td>\n",
       "      <td>NaN</td>\n",
       "      <td>San Francisco</td>\n",
       "      <td>NaN</td>\n",
       "    </tr>\n",
       "    <tr>\n",
       "      <th>...</th>\n",
       "      <td>...</td>\n",
       "      <td>...</td>\n",
       "      <td>...</td>\n",
       "      <td>...</td>\n",
       "      <td>...</td>\n",
       "      <td>...</td>\n",
       "      <td>...</td>\n",
       "      <td>...</td>\n",
       "      <td>...</td>\n",
       "      <td>...</td>\n",
       "      <td>...</td>\n",
       "      <td>...</td>\n",
       "      <td>...</td>\n",
       "    </tr>\n",
       "    <tr>\n",
       "      <th>671</th>\n",
       "      <td>ZV</td>\n",
       "      <td>CHERYL ADAMS</td>\n",
       "      <td>HEAD ATTORNEY, CIVIL AND CRIMINAL</td>\n",
       "      <td>176856.18</td>\n",
       "      <td>0.00</td>\n",
       "      <td>3537.89</td>\n",
       "      <td>NaN</td>\n",
       "      <td>180394.07</td>\n",
       "      <td>180394.07</td>\n",
       "      <td>2011</td>\n",
       "      <td>NaN</td>\n",
       "      <td>San Francisco</td>\n",
       "      <td>NaN</td>\n",
       "    </tr>\n",
       "    <tr>\n",
       "      <th>672</th>\n",
       "      <td>ZW</td>\n",
       "      <td>LOUISE SIMPSON</td>\n",
       "      <td>HEAD ATTORNEY, CIVIL AND CRIMINAL</td>\n",
       "      <td>176856.18</td>\n",
       "      <td>0.00</td>\n",
       "      <td>3537.80</td>\n",
       "      <td>NaN</td>\n",
       "      <td>180393.98</td>\n",
       "      <td>180393.98</td>\n",
       "      <td>2011</td>\n",
       "      <td>NaN</td>\n",
       "      <td>San Francisco</td>\n",
       "      <td>NaN</td>\n",
       "    </tr>\n",
       "    <tr>\n",
       "      <th>673</th>\n",
       "      <td>ZX</td>\n",
       "      <td>BLAKE LOEBS</td>\n",
       "      <td>HEAD ATTORNEY, CIVIL AND CRIMINAL</td>\n",
       "      <td>176856.19</td>\n",
       "      <td>0.00</td>\n",
       "      <td>3537.75</td>\n",
       "      <td>NaN</td>\n",
       "      <td>180393.94</td>\n",
       "      <td>180393.94</td>\n",
       "      <td>2011</td>\n",
       "      <td>NaN</td>\n",
       "      <td>San Francisco</td>\n",
       "      <td>NaN</td>\n",
       "    </tr>\n",
       "    <tr>\n",
       "      <th>674</th>\n",
       "      <td>ZY</td>\n",
       "      <td>ELIZABETH AGUILAR-TARCHI</td>\n",
       "      <td>HEAD ATTORNEY, CIVIL AND CRIMINAL</td>\n",
       "      <td>176856.17</td>\n",
       "      <td>0.00</td>\n",
       "      <td>3537.11</td>\n",
       "      <td>NaN</td>\n",
       "      <td>180393.28</td>\n",
       "      <td>180393.28</td>\n",
       "      <td>2011</td>\n",
       "      <td>NaN</td>\n",
       "      <td>San Francisco</td>\n",
       "      <td>NaN</td>\n",
       "    </tr>\n",
       "    <tr>\n",
       "      <th>675</th>\n",
       "      <td>ZZ</td>\n",
       "      <td>JULIAN NG</td>\n",
       "      <td>SERGEANT III (POLICE DEPARTMENT)</td>\n",
       "      <td>130457.76</td>\n",
       "      <td>43793.11</td>\n",
       "      <td>6061.80</td>\n",
       "      <td>NaN</td>\n",
       "      <td>180312.67</td>\n",
       "      <td>180312.67</td>\n",
       "      <td>2011</td>\n",
       "      <td>NaN</td>\n",
       "      <td>San Francisco</td>\n",
       "      <td>NaN</td>\n",
       "    </tr>\n",
       "  </tbody>\n",
       "</table>\n",
       "<p>676 rows × 13 columns</p>\n",
       "</div>"
      ],
      "text/plain": [
       "     Id              EmployeeName  \\\n",
       "0    AA            NATHANIEL FORD   \n",
       "1    AB              GARY JIMENEZ   \n",
       "2    AC            ALBERT PARDINI   \n",
       "3    AD         CHRISTOPHER CHONG   \n",
       "4    AE           PATRICK GARDNER   \n",
       "..   ..                       ...   \n",
       "671  ZV              CHERYL ADAMS   \n",
       "672  ZW            LOUISE SIMPSON   \n",
       "673  ZX               BLAKE LOEBS   \n",
       "674  ZY  ELIZABETH AGUILAR-TARCHI   \n",
       "675  ZZ                 JULIAN NG   \n",
       "\n",
       "                                           JobTitle    BasePay  OvertimePay  \\\n",
       "0    GENERAL MANAGER-METROPOLITAN TRANSIT AUTHORITY  167411.18         0.00   \n",
       "1                   CAPTAIN III (POLICE DEPARTMENT)  155966.02    245131.88   \n",
       "2                   CAPTAIN III (POLICE DEPARTMENT)  212739.13    106088.18   \n",
       "3              WIRE ROPE CABLE MAINTENANCE MECHANIC   77916.00     56120.71   \n",
       "4      DEPUTY CHIEF OF DEPARTMENT,(FIRE DEPARTMENT)  134401.60      9737.00   \n",
       "..                                              ...        ...          ...   \n",
       "671               HEAD ATTORNEY, CIVIL AND CRIMINAL  176856.18         0.00   \n",
       "672               HEAD ATTORNEY, CIVIL AND CRIMINAL  176856.18         0.00   \n",
       "673               HEAD ATTORNEY, CIVIL AND CRIMINAL  176856.19         0.00   \n",
       "674               HEAD ATTORNEY, CIVIL AND CRIMINAL  176856.17         0.00   \n",
       "675                SERGEANT III (POLICE DEPARTMENT)  130457.76     43793.11   \n",
       "\n",
       "      OtherPay  Benefits   TotalPay  TotalPayBenefits  Year  Notes  \\\n",
       "0    400184.25       NaN  567595.43         567595.43  2011    NaN   \n",
       "1    137811.38       NaN  538909.28         538909.28  2011    NaN   \n",
       "2     16452.60       NaN  335279.91         335279.91  2011    NaN   \n",
       "3    198306.90       NaN  332343.61         332343.61  2011    NaN   \n",
       "4    182234.59       NaN  326373.19         326373.19  2011    NaN   \n",
       "..         ...       ...        ...               ...   ...    ...   \n",
       "671    3537.89       NaN  180394.07         180394.07  2011    NaN   \n",
       "672    3537.80       NaN  180393.98         180393.98  2011    NaN   \n",
       "673    3537.75       NaN  180393.94         180393.94  2011    NaN   \n",
       "674    3537.11       NaN  180393.28         180393.28  2011    NaN   \n",
       "675    6061.80       NaN  180312.67         180312.67  2011    NaN   \n",
       "\n",
       "            Agency  Status  \n",
       "0    San Francisco     NaN  \n",
       "1    San Francisco     NaN  \n",
       "2    San Francisco     NaN  \n",
       "3    San Francisco     NaN  \n",
       "4    San Francisco     NaN  \n",
       "..             ...     ...  \n",
       "671  San Francisco     NaN  \n",
       "672  San Francisco     NaN  \n",
       "673  San Francisco     NaN  \n",
       "674  San Francisco     NaN  \n",
       "675  San Francisco     NaN  \n",
       "\n",
       "[676 rows x 13 columns]"
      ]
     },
     "execution_count": 21,
     "metadata": {},
     "output_type": "execute_result"
    }
   ],
   "source": [
    "df = pd.read_csv('Salaries.csv')\n",
    "df"
   ]
  },
  {
   "cell_type": "code",
   "execution_count": 23,
   "metadata": {},
   "outputs": [
    {
     "data": {
      "text/html": [
       "<div>\n",
       "<style scoped>\n",
       "    .dataframe tbody tr th:only-of-type {\n",
       "        vertical-align: middle;\n",
       "    }\n",
       "\n",
       "    .dataframe tbody tr th {\n",
       "        vertical-align: top;\n",
       "    }\n",
       "\n",
       "    .dataframe thead th {\n",
       "        text-align: right;\n",
       "    }\n",
       "</style>\n",
       "<table border=\"1\" class=\"dataframe\">\n",
       "  <thead>\n",
       "    <tr style=\"text-align: right;\">\n",
       "      <th></th>\n",
       "      <th>JobTitle</th>\n",
       "    </tr>\n",
       "  </thead>\n",
       "  <tbody>\n",
       "    <tr>\n",
       "      <th>0</th>\n",
       "      <td>GENERAL MANAGER-METROPOLITAN TRANSIT AUTHORITY</td>\n",
       "    </tr>\n",
       "    <tr>\n",
       "      <th>1</th>\n",
       "      <td>CAPTAIN III (POLICE DEPARTMENT)</td>\n",
       "    </tr>\n",
       "    <tr>\n",
       "      <th>2</th>\n",
       "      <td>CAPTAIN III (POLICE DEPARTMENT)</td>\n",
       "    </tr>\n",
       "    <tr>\n",
       "      <th>3</th>\n",
       "      <td>WIRE ROPE CABLE MAINTENANCE MECHANIC</td>\n",
       "    </tr>\n",
       "    <tr>\n",
       "      <th>4</th>\n",
       "      <td>DEPUTY CHIEF OF DEPARTMENT,(FIRE DEPARTMENT)</td>\n",
       "    </tr>\n",
       "    <tr>\n",
       "      <th>...</th>\n",
       "      <td>...</td>\n",
       "    </tr>\n",
       "    <tr>\n",
       "      <th>671</th>\n",
       "      <td>HEAD ATTORNEY, CIVIL AND CRIMINAL</td>\n",
       "    </tr>\n",
       "    <tr>\n",
       "      <th>672</th>\n",
       "      <td>HEAD ATTORNEY, CIVIL AND CRIMINAL</td>\n",
       "    </tr>\n",
       "    <tr>\n",
       "      <th>673</th>\n",
       "      <td>HEAD ATTORNEY, CIVIL AND CRIMINAL</td>\n",
       "    </tr>\n",
       "    <tr>\n",
       "      <th>674</th>\n",
       "      <td>HEAD ATTORNEY, CIVIL AND CRIMINAL</td>\n",
       "    </tr>\n",
       "    <tr>\n",
       "      <th>675</th>\n",
       "      <td>SERGEANT III (POLICE DEPARTMENT)</td>\n",
       "    </tr>\n",
       "  </tbody>\n",
       "</table>\n",
       "<p>676 rows × 1 columns</p>\n",
       "</div>"
      ],
      "text/plain": [
       "                                           JobTitle\n",
       "0    GENERAL MANAGER-METROPOLITAN TRANSIT AUTHORITY\n",
       "1                   CAPTAIN III (POLICE DEPARTMENT)\n",
       "2                   CAPTAIN III (POLICE DEPARTMENT)\n",
       "3              WIRE ROPE CABLE MAINTENANCE MECHANIC\n",
       "4      DEPUTY CHIEF OF DEPARTMENT,(FIRE DEPARTMENT)\n",
       "..                                              ...\n",
       "671               HEAD ATTORNEY, CIVIL AND CRIMINAL\n",
       "672               HEAD ATTORNEY, CIVIL AND CRIMINAL\n",
       "673               HEAD ATTORNEY, CIVIL AND CRIMINAL\n",
       "674               HEAD ATTORNEY, CIVIL AND CRIMINAL\n",
       "675                SERGEANT III (POLICE DEPARTMENT)\n",
       "\n",
       "[676 rows x 1 columns]"
      ]
     },
     "execution_count": 23,
     "metadata": {},
     "output_type": "execute_result"
    }
   ],
   "source": [
    "jobtitle_df = df[['JobTitle']]\n",
    "jobtitle_df"
   ]
  },
  {
   "cell_type": "code",
   "execution_count": 34,
   "metadata": {},
   "outputs": [
    {
     "data": {
      "text/html": [
       "<div>\n",
       "<style scoped>\n",
       "    .dataframe tbody tr th:only-of-type {\n",
       "        vertical-align: middle;\n",
       "    }\n",
       "\n",
       "    .dataframe tbody tr th {\n",
       "        vertical-align: top;\n",
       "    }\n",
       "\n",
       "    .dataframe thead th {\n",
       "        text-align: right;\n",
       "    }\n",
       "</style>\n",
       "<table border=\"1\" class=\"dataframe\">\n",
       "  <thead>\n",
       "    <tr style=\"text-align: right;\">\n",
       "      <th></th>\n",
       "      <th>Id</th>\n",
       "      <th>EmployeeName</th>\n",
       "      <th>JobTitle</th>\n",
       "      <th>BasePay</th>\n",
       "      <th>OvertimePay</th>\n",
       "      <th>OtherPay</th>\n",
       "      <th>Benefits</th>\n",
       "      <th>TotalPay</th>\n",
       "      <th>TotalPayBenefits</th>\n",
       "      <th>Year</th>\n",
       "      <th>Notes</th>\n",
       "      <th>Agency</th>\n",
       "      <th>Status</th>\n",
       "    </tr>\n",
       "  </thead>\n",
       "  <tbody>\n",
       "    <tr>\n",
       "      <th>1</th>\n",
       "      <td>AB</td>\n",
       "      <td>GARY JIMENEZ</td>\n",
       "      <td>CAPTAIN III (POLICE DEPARTMENT)</td>\n",
       "      <td>155966.02</td>\n",
       "      <td>245131.88</td>\n",
       "      <td>137811.38</td>\n",
       "      <td>NaN</td>\n",
       "      <td>538909.28</td>\n",
       "      <td>538909.28</td>\n",
       "      <td>2011</td>\n",
       "      <td>NaN</td>\n",
       "      <td>San Francisco</td>\n",
       "      <td>NaN</td>\n",
       "    </tr>\n",
       "    <tr>\n",
       "      <th>2</th>\n",
       "      <td>AC</td>\n",
       "      <td>ALBERT PARDINI</td>\n",
       "      <td>CAPTAIN III (POLICE DEPARTMENT)</td>\n",
       "      <td>212739.13</td>\n",
       "      <td>106088.18</td>\n",
       "      <td>16452.60</td>\n",
       "      <td>NaN</td>\n",
       "      <td>335279.91</td>\n",
       "      <td>335279.91</td>\n",
       "      <td>2011</td>\n",
       "      <td>NaN</td>\n",
       "      <td>San Francisco</td>\n",
       "      <td>NaN</td>\n",
       "    </tr>\n",
       "    <tr>\n",
       "      <th>11</th>\n",
       "      <td>AL</td>\n",
       "      <td>PATRICIA JACKSON</td>\n",
       "      <td>CAPTAIN III (POLICE DEPARTMENT)</td>\n",
       "      <td>99722.00</td>\n",
       "      <td>87082.62</td>\n",
       "      <td>110804.30</td>\n",
       "      <td>NaN</td>\n",
       "      <td>297608.92</td>\n",
       "      <td>297608.92</td>\n",
       "      <td>2011</td>\n",
       "      <td>NaN</td>\n",
       "      <td>San Francisco</td>\n",
       "      <td>NaN</td>\n",
       "    </tr>\n",
       "    <tr>\n",
       "      <th>15</th>\n",
       "      <td>AP</td>\n",
       "      <td>RICHARD CORRIEA</td>\n",
       "      <td>COMMANDER III, (POLICE DEPARTMENT)</td>\n",
       "      <td>198778.01</td>\n",
       "      <td>73478.20</td>\n",
       "      <td>13957.65</td>\n",
       "      <td>NaN</td>\n",
       "      <td>286213.86</td>\n",
       "      <td>286213.86</td>\n",
       "      <td>2011</td>\n",
       "      <td>NaN</td>\n",
       "      <td>San Francisco</td>\n",
       "      <td>NaN</td>\n",
       "    </tr>\n",
       "    <tr>\n",
       "      <th>25</th>\n",
       "      <td>AZ</td>\n",
       "      <td>GREGORY SUHR</td>\n",
       "      <td>CHIEF OF POLICE</td>\n",
       "      <td>256470.41</td>\n",
       "      <td>0.00</td>\n",
       "      <td>11522.18</td>\n",
       "      <td>NaN</td>\n",
       "      <td>267992.59</td>\n",
       "      <td>267992.59</td>\n",
       "      <td>2011</td>\n",
       "      <td>NaN</td>\n",
       "      <td>San Francisco</td>\n",
       "      <td>NaN</td>\n",
       "    </tr>\n",
       "    <tr>\n",
       "      <th>...</th>\n",
       "      <td>...</td>\n",
       "      <td>...</td>\n",
       "      <td>...</td>\n",
       "      <td>...</td>\n",
       "      <td>...</td>\n",
       "      <td>...</td>\n",
       "      <td>...</td>\n",
       "      <td>...</td>\n",
       "      <td>...</td>\n",
       "      <td>...</td>\n",
       "      <td>...</td>\n",
       "      <td>...</td>\n",
       "      <td>...</td>\n",
       "    </tr>\n",
       "    <tr>\n",
       "      <th>647</th>\n",
       "      <td>YX</td>\n",
       "      <td>STEWART NG</td>\n",
       "      <td>POLICE OFFICER III</td>\n",
       "      <td>112421.44</td>\n",
       "      <td>13115.50</td>\n",
       "      <td>55507.38</td>\n",
       "      <td>NaN</td>\n",
       "      <td>181044.32</td>\n",
       "      <td>181044.32</td>\n",
       "      <td>2011</td>\n",
       "      <td>NaN</td>\n",
       "      <td>San Francisco</td>\n",
       "      <td>NaN</td>\n",
       "    </tr>\n",
       "    <tr>\n",
       "      <th>649</th>\n",
       "      <td>YZ</td>\n",
       "      <td>VICTOR TSANG</td>\n",
       "      <td>LIEUTENANT III (POLICE DEPARTMENT)</td>\n",
       "      <td>149023.98</td>\n",
       "      <td>17330.37</td>\n",
       "      <td>14569.57</td>\n",
       "      <td>NaN</td>\n",
       "      <td>180923.92</td>\n",
       "      <td>180923.92</td>\n",
       "      <td>2011</td>\n",
       "      <td>NaN</td>\n",
       "      <td>San Francisco</td>\n",
       "      <td>NaN</td>\n",
       "    </tr>\n",
       "    <tr>\n",
       "      <th>658</th>\n",
       "      <td>ZI</td>\n",
       "      <td>LAWRENCE MCDEVITT</td>\n",
       "      <td>SERGEANT III (POLICE DEPARTMENT)</td>\n",
       "      <td>130505.19</td>\n",
       "      <td>47588.94</td>\n",
       "      <td>2437.42</td>\n",
       "      <td>NaN</td>\n",
       "      <td>180531.55</td>\n",
       "      <td>180531.55</td>\n",
       "      <td>2011</td>\n",
       "      <td>NaN</td>\n",
       "      <td>San Francisco</td>\n",
       "      <td>NaN</td>\n",
       "    </tr>\n",
       "    <tr>\n",
       "      <th>663</th>\n",
       "      <td>ZN</td>\n",
       "      <td>HENRY YEE</td>\n",
       "      <td>SERGEANT III (POLICE DEPARTMENT)</td>\n",
       "      <td>130457.93</td>\n",
       "      <td>15625.85</td>\n",
       "      <td>34324.97</td>\n",
       "      <td>NaN</td>\n",
       "      <td>180408.75</td>\n",
       "      <td>180408.75</td>\n",
       "      <td>2011</td>\n",
       "      <td>NaN</td>\n",
       "      <td>San Francisco</td>\n",
       "      <td>NaN</td>\n",
       "    </tr>\n",
       "    <tr>\n",
       "      <th>675</th>\n",
       "      <td>ZZ</td>\n",
       "      <td>JULIAN NG</td>\n",
       "      <td>SERGEANT III (POLICE DEPARTMENT)</td>\n",
       "      <td>130457.76</td>\n",
       "      <td>43793.11</td>\n",
       "      <td>6061.80</td>\n",
       "      <td>NaN</td>\n",
       "      <td>180312.67</td>\n",
       "      <td>180312.67</td>\n",
       "      <td>2011</td>\n",
       "      <td>NaN</td>\n",
       "      <td>San Francisco</td>\n",
       "      <td>NaN</td>\n",
       "    </tr>\n",
       "  </tbody>\n",
       "</table>\n",
       "<p>139 rows × 13 columns</p>\n",
       "</div>"
      ],
      "text/plain": [
       "     Id       EmployeeName                            JobTitle    BasePay  \\\n",
       "1    AB       GARY JIMENEZ     CAPTAIN III (POLICE DEPARTMENT)  155966.02   \n",
       "2    AC     ALBERT PARDINI     CAPTAIN III (POLICE DEPARTMENT)  212739.13   \n",
       "11   AL   PATRICIA JACKSON     CAPTAIN III (POLICE DEPARTMENT)   99722.00   \n",
       "15   AP    RICHARD CORRIEA  COMMANDER III, (POLICE DEPARTMENT)  198778.01   \n",
       "25   AZ       GREGORY SUHR                     CHIEF OF POLICE  256470.41   \n",
       "..   ..                ...                                 ...        ...   \n",
       "647  YX         STEWART NG                  POLICE OFFICER III  112421.44   \n",
       "649  YZ       VICTOR TSANG  LIEUTENANT III (POLICE DEPARTMENT)  149023.98   \n",
       "658  ZI  LAWRENCE MCDEVITT    SERGEANT III (POLICE DEPARTMENT)  130505.19   \n",
       "663  ZN          HENRY YEE    SERGEANT III (POLICE DEPARTMENT)  130457.93   \n",
       "675  ZZ          JULIAN NG    SERGEANT III (POLICE DEPARTMENT)  130457.76   \n",
       "\n",
       "     OvertimePay   OtherPay  Benefits   TotalPay  TotalPayBenefits  Year  \\\n",
       "1      245131.88  137811.38       NaN  538909.28         538909.28  2011   \n",
       "2      106088.18   16452.60       NaN  335279.91         335279.91  2011   \n",
       "11      87082.62  110804.30       NaN  297608.92         297608.92  2011   \n",
       "15      73478.20   13957.65       NaN  286213.86         286213.86  2011   \n",
       "25          0.00   11522.18       NaN  267992.59         267992.59  2011   \n",
       "..           ...        ...       ...        ...               ...   ...   \n",
       "647     13115.50   55507.38       NaN  181044.32         181044.32  2011   \n",
       "649     17330.37   14569.57       NaN  180923.92         180923.92  2011   \n",
       "658     47588.94    2437.42       NaN  180531.55         180531.55  2011   \n",
       "663     15625.85   34324.97       NaN  180408.75         180408.75  2011   \n",
       "675     43793.11    6061.80       NaN  180312.67         180312.67  2011   \n",
       "\n",
       "     Notes         Agency  Status  \n",
       "1      NaN  San Francisco     NaN  \n",
       "2      NaN  San Francisco     NaN  \n",
       "11     NaN  San Francisco     NaN  \n",
       "15     NaN  San Francisco     NaN  \n",
       "25     NaN  San Francisco     NaN  \n",
       "..     ...            ...     ...  \n",
       "647    NaN  San Francisco     NaN  \n",
       "649    NaN  San Francisco     NaN  \n",
       "658    NaN  San Francisco     NaN  \n",
       "663    NaN  San Francisco     NaN  \n",
       "675    NaN  San Francisco     NaN  \n",
       "\n",
       "[139 rows x 13 columns]"
      ]
     },
     "execution_count": 34,
     "metadata": {},
     "output_type": "execute_result"
    }
   ],
   "source": [
    "df.loc[df['JobTitle'].str.contains(\"POLICE\", True)]"
   ]
  },
  {
   "cell_type": "code",
   "execution_count": 35,
   "metadata": {},
   "outputs": [
    {
     "data": {
      "text/html": [
       "<div>\n",
       "<style scoped>\n",
       "    .dataframe tbody tr th:only-of-type {\n",
       "        vertical-align: middle;\n",
       "    }\n",
       "\n",
       "    .dataframe tbody tr th {\n",
       "        vertical-align: top;\n",
       "    }\n",
       "\n",
       "    .dataframe thead th {\n",
       "        text-align: right;\n",
       "    }\n",
       "</style>\n",
       "<table border=\"1\" class=\"dataframe\">\n",
       "  <thead>\n",
       "    <tr style=\"text-align: right;\">\n",
       "      <th></th>\n",
       "      <th>Id</th>\n",
       "      <th>EmployeeName</th>\n",
       "      <th>JobTitle</th>\n",
       "      <th>BasePay</th>\n",
       "      <th>OvertimePay</th>\n",
       "      <th>OtherPay</th>\n",
       "      <th>Benefits</th>\n",
       "      <th>TotalPay</th>\n",
       "      <th>TotalPayBenefits</th>\n",
       "      <th>Year</th>\n",
       "      <th>Notes</th>\n",
       "      <th>Agency</th>\n",
       "      <th>Status</th>\n",
       "    </tr>\n",
       "  </thead>\n",
       "  <tbody>\n",
       "    <tr>\n",
       "      <th>4</th>\n",
       "      <td>AE</td>\n",
       "      <td>PATRICK GARDNER</td>\n",
       "      <td>DEPUTY CHIEF OF DEPARTMENT,(FIRE DEPARTMENT)</td>\n",
       "      <td>134401.60</td>\n",
       "      <td>9737.00</td>\n",
       "      <td>182234.59</td>\n",
       "      <td>NaN</td>\n",
       "      <td>326373.19</td>\n",
       "      <td>326373.19</td>\n",
       "      <td>2011</td>\n",
       "      <td>NaN</td>\n",
       "      <td>San Francisco</td>\n",
       "      <td>NaN</td>\n",
       "    </tr>\n",
       "    <tr>\n",
       "      <th>6</th>\n",
       "      <td>AG</td>\n",
       "      <td>ALSON LEE</td>\n",
       "      <td>BATTALION CHIEF, (FIRE DEPARTMENT)</td>\n",
       "      <td>92492.01</td>\n",
       "      <td>89062.90</td>\n",
       "      <td>134426.14</td>\n",
       "      <td>NaN</td>\n",
       "      <td>315981.05</td>\n",
       "      <td>315981.05</td>\n",
       "      <td>2011</td>\n",
       "      <td>NaN</td>\n",
       "      <td>San Francisco</td>\n",
       "      <td>NaN</td>\n",
       "    </tr>\n",
       "    <tr>\n",
       "      <th>8</th>\n",
       "      <td>AI</td>\n",
       "      <td>MICHAEL MORRIS</td>\n",
       "      <td>BATTALION CHIEF, (FIRE DEPARTMENT)</td>\n",
       "      <td>176932.64</td>\n",
       "      <td>86362.68</td>\n",
       "      <td>40132.23</td>\n",
       "      <td>NaN</td>\n",
       "      <td>303427.55</td>\n",
       "      <td>303427.55</td>\n",
       "      <td>2011</td>\n",
       "      <td>NaN</td>\n",
       "      <td>San Francisco</td>\n",
       "      <td>NaN</td>\n",
       "    </tr>\n",
       "    <tr>\n",
       "      <th>9</th>\n",
       "      <td>AJ</td>\n",
       "      <td>JOANNE HAYES-WHITE</td>\n",
       "      <td>CHIEF OF DEPARTMENT, (FIRE DEPARTMENT)</td>\n",
       "      <td>285262.00</td>\n",
       "      <td>0.00</td>\n",
       "      <td>17115.73</td>\n",
       "      <td>NaN</td>\n",
       "      <td>302377.73</td>\n",
       "      <td>302377.73</td>\n",
       "      <td>2011</td>\n",
       "      <td>NaN</td>\n",
       "      <td>San Francisco</td>\n",
       "      <td>NaN</td>\n",
       "    </tr>\n",
       "    <tr>\n",
       "      <th>10</th>\n",
       "      <td>AK</td>\n",
       "      <td>ARTHUR KENNEY</td>\n",
       "      <td>ASSISTANT CHIEF OF DEPARTMENT, (FIRE DEPARTMENT)</td>\n",
       "      <td>194999.39</td>\n",
       "      <td>71344.88</td>\n",
       "      <td>33149.90</td>\n",
       "      <td>NaN</td>\n",
       "      <td>299494.17</td>\n",
       "      <td>299494.17</td>\n",
       "      <td>2011</td>\n",
       "      <td>NaN</td>\n",
       "      <td>San Francisco</td>\n",
       "      <td>NaN</td>\n",
       "    </tr>\n",
       "    <tr>\n",
       "      <th>...</th>\n",
       "      <td>...</td>\n",
       "      <td>...</td>\n",
       "      <td>...</td>\n",
       "      <td>...</td>\n",
       "      <td>...</td>\n",
       "      <td>...</td>\n",
       "      <td>...</td>\n",
       "      <td>...</td>\n",
       "      <td>...</td>\n",
       "      <td>...</td>\n",
       "      <td>...</td>\n",
       "      <td>...</td>\n",
       "      <td>...</td>\n",
       "    </tr>\n",
       "    <tr>\n",
       "      <th>648</th>\n",
       "      <td>YY</td>\n",
       "      <td>ROHAN KNIGHT</td>\n",
       "      <td>FIREFIGHTER</td>\n",
       "      <td>105934.67</td>\n",
       "      <td>57319.91</td>\n",
       "      <td>17688.34</td>\n",
       "      <td>NaN</td>\n",
       "      <td>180942.92</td>\n",
       "      <td>180942.92</td>\n",
       "      <td>2011</td>\n",
       "      <td>NaN</td>\n",
       "      <td>San Francisco</td>\n",
       "      <td>NaN</td>\n",
       "    </tr>\n",
       "    <tr>\n",
       "      <th>650</th>\n",
       "      <td>ZA</td>\n",
       "      <td>PATRICK GRIMESEY</td>\n",
       "      <td>FIREFIGHTER</td>\n",
       "      <td>105934.65</td>\n",
       "      <td>56927.28</td>\n",
       "      <td>18030.51</td>\n",
       "      <td>NaN</td>\n",
       "      <td>180892.44</td>\n",
       "      <td>180892.44</td>\n",
       "      <td>2011</td>\n",
       "      <td>NaN</td>\n",
       "      <td>San Francisco</td>\n",
       "      <td>NaN</td>\n",
       "    </tr>\n",
       "    <tr>\n",
       "      <th>654</th>\n",
       "      <td>ZE</td>\n",
       "      <td>DONALD PEOPLES</td>\n",
       "      <td>FIREFIGHTER</td>\n",
       "      <td>105934.64</td>\n",
       "      <td>60038.14</td>\n",
       "      <td>14630.07</td>\n",
       "      <td>NaN</td>\n",
       "      <td>180602.85</td>\n",
       "      <td>180602.85</td>\n",
       "      <td>2011</td>\n",
       "      <td>NaN</td>\n",
       "      <td>San Francisco</td>\n",
       "      <td>NaN</td>\n",
       "    </tr>\n",
       "    <tr>\n",
       "      <th>655</th>\n",
       "      <td>ZF</td>\n",
       "      <td>JOHN DARMANIN</td>\n",
       "      <td>INSPECTOR, BUREAU OF FIRE PREVENTION AND PUBLI...</td>\n",
       "      <td>126968.05</td>\n",
       "      <td>369.10</td>\n",
       "      <td>53241.41</td>\n",
       "      <td>NaN</td>\n",
       "      <td>180578.56</td>\n",
       "      <td>180578.56</td>\n",
       "      <td>2011</td>\n",
       "      <td>NaN</td>\n",
       "      <td>San Francisco</td>\n",
       "      <td>NaN</td>\n",
       "    </tr>\n",
       "    <tr>\n",
       "      <th>657</th>\n",
       "      <td>ZH</td>\n",
       "      <td>EDWARD MOY</td>\n",
       "      <td>CAPTAIN, FIRE SUPPRESSION</td>\n",
       "      <td>168561.20</td>\n",
       "      <td>1752.29</td>\n",
       "      <td>10247.21</td>\n",
       "      <td>NaN</td>\n",
       "      <td>180560.70</td>\n",
       "      <td>180560.70</td>\n",
       "      <td>2011</td>\n",
       "      <td>NaN</td>\n",
       "      <td>San Francisco</td>\n",
       "      <td>NaN</td>\n",
       "    </tr>\n",
       "  </tbody>\n",
       "</table>\n",
       "<p>238 rows × 13 columns</p>\n",
       "</div>"
      ],
      "text/plain": [
       "     Id        EmployeeName  \\\n",
       "4    AE     PATRICK GARDNER   \n",
       "6    AG           ALSON LEE   \n",
       "8    AI      MICHAEL MORRIS   \n",
       "9    AJ  JOANNE HAYES-WHITE   \n",
       "10   AK       ARTHUR KENNEY   \n",
       "..   ..                 ...   \n",
       "648  YY        ROHAN KNIGHT   \n",
       "650  ZA    PATRICK GRIMESEY   \n",
       "654  ZE      DONALD PEOPLES   \n",
       "655  ZF       JOHN DARMANIN   \n",
       "657  ZH          EDWARD MOY   \n",
       "\n",
       "                                              JobTitle    BasePay  \\\n",
       "4         DEPUTY CHIEF OF DEPARTMENT,(FIRE DEPARTMENT)  134401.60   \n",
       "6                   BATTALION CHIEF, (FIRE DEPARTMENT)   92492.01   \n",
       "8                   BATTALION CHIEF, (FIRE DEPARTMENT)  176932.64   \n",
       "9               CHIEF OF DEPARTMENT, (FIRE DEPARTMENT)  285262.00   \n",
       "10    ASSISTANT CHIEF OF DEPARTMENT, (FIRE DEPARTMENT)  194999.39   \n",
       "..                                                 ...        ...   \n",
       "648                                        FIREFIGHTER  105934.67   \n",
       "650                                        FIREFIGHTER  105934.65   \n",
       "654                                        FIREFIGHTER  105934.64   \n",
       "655  INSPECTOR, BUREAU OF FIRE PREVENTION AND PUBLI...  126968.05   \n",
       "657                          CAPTAIN, FIRE SUPPRESSION  168561.20   \n",
       "\n",
       "     OvertimePay   OtherPay  Benefits   TotalPay  TotalPayBenefits  Year  \\\n",
       "4        9737.00  182234.59       NaN  326373.19         326373.19  2011   \n",
       "6       89062.90  134426.14       NaN  315981.05         315981.05  2011   \n",
       "8       86362.68   40132.23       NaN  303427.55         303427.55  2011   \n",
       "9           0.00   17115.73       NaN  302377.73         302377.73  2011   \n",
       "10      71344.88   33149.90       NaN  299494.17         299494.17  2011   \n",
       "..           ...        ...       ...        ...               ...   ...   \n",
       "648     57319.91   17688.34       NaN  180942.92         180942.92  2011   \n",
       "650     56927.28   18030.51       NaN  180892.44         180892.44  2011   \n",
       "654     60038.14   14630.07       NaN  180602.85         180602.85  2011   \n",
       "655       369.10   53241.41       NaN  180578.56         180578.56  2011   \n",
       "657      1752.29   10247.21       NaN  180560.70         180560.70  2011   \n",
       "\n",
       "     Notes         Agency  Status  \n",
       "4      NaN  San Francisco     NaN  \n",
       "6      NaN  San Francisco     NaN  \n",
       "8      NaN  San Francisco     NaN  \n",
       "9      NaN  San Francisco     NaN  \n",
       "10     NaN  San Francisco     NaN  \n",
       "..     ...            ...     ...  \n",
       "648    NaN  San Francisco     NaN  \n",
       "650    NaN  San Francisco     NaN  \n",
       "654    NaN  San Francisco     NaN  \n",
       "655    NaN  San Francisco     NaN  \n",
       "657    NaN  San Francisco     NaN  \n",
       "\n",
       "[238 rows x 13 columns]"
      ]
     },
     "execution_count": 35,
     "metadata": {},
     "output_type": "execute_result"
    }
   ],
   "source": [
    "df.loc[df['JobTitle'].str.contains(\"FIRE\", True)]"
   ]
  },
  {
   "cell_type": "code",
   "execution_count": 38,
   "metadata": {},
   "outputs": [
    {
     "data": {
      "text/plain": [
       "1.7122302158273381"
      ]
     },
     "execution_count": 38,
     "metadata": {},
     "output_type": "execute_result"
    }
   ],
   "source": [
    "# Ratio of fire fighters over police officers\n",
    "238/139\n"
   ]
  },
  {
   "cell_type": "code",
   "execution_count": 47,
   "metadata": {},
   "outputs": [
    {
     "data": {
      "text/html": [
       "<div>\n",
       "<style scoped>\n",
       "    .dataframe tbody tr th:only-of-type {\n",
       "        vertical-align: middle;\n",
       "    }\n",
       "\n",
       "    .dataframe tbody tr th {\n",
       "        vertical-align: top;\n",
       "    }\n",
       "\n",
       "    .dataframe thead th {\n",
       "        text-align: right;\n",
       "    }\n",
       "</style>\n",
       "<table border=\"1\" class=\"dataframe\">\n",
       "  <thead>\n",
       "    <tr style=\"text-align: right;\">\n",
       "      <th></th>\n",
       "      <th>BasePay</th>\n",
       "    </tr>\n",
       "  </thead>\n",
       "  <tbody>\n",
       "    <tr>\n",
       "      <th>count</th>\n",
       "      <td>139.000000</td>\n",
       "    </tr>\n",
       "    <tr>\n",
       "      <th>mean</th>\n",
       "      <td>145121.387482</td>\n",
       "    </tr>\n",
       "    <tr>\n",
       "      <th>std</th>\n",
       "      <td>39831.546940</td>\n",
       "    </tr>\n",
       "    <tr>\n",
       "      <th>min</th>\n",
       "      <td>51437.990000</td>\n",
       "    </tr>\n",
       "    <tr>\n",
       "      <th>25%</th>\n",
       "      <td>123192.130000</td>\n",
       "    </tr>\n",
       "    <tr>\n",
       "      <th>50%</th>\n",
       "      <td>130481.550000</td>\n",
       "    </tr>\n",
       "    <tr>\n",
       "      <th>75%</th>\n",
       "      <td>185369.685000</td>\n",
       "    </tr>\n",
       "    <tr>\n",
       "      <th>max</th>\n",
       "      <td>261717.600000</td>\n",
       "    </tr>\n",
       "  </tbody>\n",
       "</table>\n",
       "</div>"
      ],
      "text/plain": [
       "             BasePay\n",
       "count     139.000000\n",
       "mean   145121.387482\n",
       "std     39831.546940\n",
       "min     51437.990000\n",
       "25%    123192.130000\n",
       "50%    130481.550000\n",
       "75%    185369.685000\n",
       "max    261717.600000"
      ]
     },
     "execution_count": 47,
     "metadata": {},
     "output_type": "execute_result"
    }
   ],
   "source": [
    "# Finding mean salary of police department\n",
    "\n",
    "police_jobs = df.loc[df['JobTitle'].str.contains(\"POLICE\", True)]\n",
    "police_salary = police_jobs[['BasePay']]\n",
    "police_salary.describe()\n",
    "\n",
    "\n",
    "# base_pay_df=df[['BasePay']]\n",
    "# base_pay_df.describe()\n",
    "\n",
    "# Could also use base_pay_df.mean() here\n",
    "\n",
    "\n"
   ]
  },
  {
   "cell_type": "code",
   "execution_count": 48,
   "metadata": {},
   "outputs": [
    {
     "data": {
      "text/html": [
       "<div>\n",
       "<style scoped>\n",
       "    .dataframe tbody tr th:only-of-type {\n",
       "        vertical-align: middle;\n",
       "    }\n",
       "\n",
       "    .dataframe tbody tr th {\n",
       "        vertical-align: top;\n",
       "    }\n",
       "\n",
       "    .dataframe thead th {\n",
       "        text-align: right;\n",
       "    }\n",
       "</style>\n",
       "<table border=\"1\" class=\"dataframe\">\n",
       "  <thead>\n",
       "    <tr style=\"text-align: right;\">\n",
       "      <th></th>\n",
       "      <th>BasePay</th>\n",
       "    </tr>\n",
       "  </thead>\n",
       "  <tbody>\n",
       "    <tr>\n",
       "      <th>count</th>\n",
       "      <td>238.000000</td>\n",
       "    </tr>\n",
       "    <tr>\n",
       "      <th>mean</th>\n",
       "      <td>128547.856261</td>\n",
       "    </tr>\n",
       "    <tr>\n",
       "      <th>std</th>\n",
       "      <td>28678.933646</td>\n",
       "    </tr>\n",
       "    <tr>\n",
       "      <th>min</th>\n",
       "      <td>25400.000000</td>\n",
       "    </tr>\n",
       "    <tr>\n",
       "      <th>25%</th>\n",
       "      <td>105934.670000</td>\n",
       "    </tr>\n",
       "    <tr>\n",
       "      <th>50%</th>\n",
       "      <td>123105.000000</td>\n",
       "    </tr>\n",
       "    <tr>\n",
       "      <th>75%</th>\n",
       "      <td>140546.880000</td>\n",
       "    </tr>\n",
       "    <tr>\n",
       "      <th>max</th>\n",
       "      <td>285262.000000</td>\n",
       "    </tr>\n",
       "  </tbody>\n",
       "</table>\n",
       "</div>"
      ],
      "text/plain": [
       "             BasePay\n",
       "count     238.000000\n",
       "mean   128547.856261\n",
       "std     28678.933646\n",
       "min     25400.000000\n",
       "25%    105934.670000\n",
       "50%    123105.000000\n",
       "75%    140546.880000\n",
       "max    285262.000000"
      ]
     },
     "execution_count": 48,
     "metadata": {},
     "output_type": "execute_result"
    }
   ],
   "source": [
    "# Finding mean salary of fire department\n",
    "\n",
    "fireman_jobs = df.loc[df['JobTitle'].str.contains(\"FIRE\", True)]\n",
    "fireman_salary = fireman_jobs[['BasePay']]\n",
    "fireman_salary.describe()"
   ]
  },
  {
   "cell_type": "markdown",
   "metadata": {},
   "source": [
    "### DataFrame manipulation"
   ]
  },
  {
   "cell_type": "code",
   "execution_count": 49,
   "metadata": {},
   "outputs": [
    {
     "data": {
      "text/plain": [
       "JobTitle    93\n",
       "dtype: int64"
      ]
     },
     "execution_count": 49,
     "metadata": {},
     "output_type": "execute_result"
    }
   ],
   "source": [
    "jobtitle_df.nunique(dropna=True)"
   ]
  },
  {
   "cell_type": "code",
   "execution_count": 53,
   "metadata": {},
   "outputs": [
    {
     "name": "stdout",
     "output_type": "stream",
     "text": [
      "<class 'pandas.core.frame.DataFrame'>\n",
      "Int64Index: 35 entries, 13 to 655\n",
      "Data columns (total 13 columns):\n",
      " #   Column            Non-Null Count  Dtype  \n",
      "---  ------            --------------  -----  \n",
      " 0   Id                35 non-null     object \n",
      " 1   EmployeeName      35 non-null     object \n",
      " 2   JobTitle          35 non-null     object \n",
      " 3   BasePay           35 non-null     float64\n",
      " 4   OvertimePay       35 non-null     float64\n",
      " 5   OtherPay          35 non-null     float64\n",
      " 6   Benefits          0 non-null      float64\n",
      " 7   TotalPay          35 non-null     float64\n",
      " 8   TotalPayBenefits  35 non-null     float64\n",
      " 9   Year              35 non-null     int64  \n",
      " 10  Notes             0 non-null      float64\n",
      " 11  Agency            35 non-null     object \n",
      " 12  Status            0 non-null      float64\n",
      "dtypes: float64(8), int64(1), object(4)\n",
      "memory usage: 3.8+ KB\n"
     ]
    }
   ],
   "source": [
    "john_df = df.loc[df['EmployeeName'].str.contains(\"JOHN\", True)]\n",
    "john_df.info()\n"
   ]
  },
  {
   "cell_type": "code",
   "execution_count": null,
   "metadata": {},
   "outputs": [],
   "source": [
    "def get_first_name_from_full_name"
   ]
  }
 ],
 "metadata": {
  "kernelspec": {
   "display_name": "Python 3.9.13 ('airbnb_venv': venv)",
   "language": "python",
   "name": "python3"
  },
  "language_info": {
   "codemirror_mode": {
    "name": "ipython",
    "version": 3
   },
   "file_extension": ".py",
   "mimetype": "text/x-python",
   "name": "python",
   "nbconvert_exporter": "python",
   "pygments_lexer": "ipython3",
   "version": "3.9.13"
  },
  "orig_nbformat": 4,
  "vscode": {
   "interpreter": {
    "hash": "542ceaa9af875ce9b2350b4f7ccf68c23e5d3425160335ff7a67958514d7a01e"
   }
  }
 },
 "nbformat": 4,
 "nbformat_minor": 2
}
